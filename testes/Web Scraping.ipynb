{
 "cells": [
  {
   "cell_type": "code",
   "execution_count": 13,
   "metadata": {},
   "outputs": [],
   "source": [
    "import requests\n",
    "from requests.exceptions import RequestException\n",
    "from contextlib import closing\n",
    "from bs4 import BeautifulSoup\n",
    "# from mathematicians import simple_get"
   ]
  },
  {
   "cell_type": "code",
   "execution_count": 15,
   "metadata": {},
   "outputs": [],
   "source": [
    "def get_simples(url):\n",
    "    try:\n",
    "        with closing(requests.get(url)) as resp:\n",
    "            if (resposta_aceita(resp)):\n",
    "                return resp.content\n",
    "            else:\n",
    "                return None\n",
    "    except RequestException as e:\n",
    "        print('Error during requests to {0} : {1}'.format(url, str(e)))\n",
    "        return None\n",
    "    \n",
    "def resposta_aceita(resp):\n",
    "    content_type = resp.headers[\"content-type\"]\n",
    "    return (resp.status_code == 200 \n",
    "            and content_type is not None \n",
    "            and content_type.find('html') > -1)"
   ]
  },
  {
   "cell_type": "code",
   "execution_count": 62,
   "metadata": {},
   "outputs": [
    {
     "name": "stdout",
     "output_type": "stream",
     "text": [
      "<table class=\"a-table\">\n",
      "<tr>\n",
      "<th>Mês</th>\n",
      "<th>Arquivos</th>\n",
      "</tr>\n",
      "<tr v-for=\"anexo in anexos\">\n",
      "<td>{{ anexo.mes_descricao }}</td>\n",
      "<td>\n",
      "<a :href=\"arquivo.url\" class=\"mes mes_ativo\" download=\"\" target=\"_blank\" v-for=\"arquivo in anexo.arquivos\">{{ arquivo.extensao }}</a>\n",
      "</td>\n",
      "</tr>\n",
      "</table>\n"
     ]
    }
   ],
   "source": [
    "content = get_simples('http://www.transparencia.am.gov.br/pessoal/')\n",
    "\n",
    "soup = BeautifulSoup(content, 'html.parser')\n",
    "table = soup.find(name='table')\n",
    "# print(soup.prettify())\n",
    "# table\n",
    "\n",
    "for tag in soup.find_all(\"table\", {\"class\": \"a-table\"}):\n",
    "    print(tag)\n"
   ]
  }
 ],
 "metadata": {
  "kernelspec": {
   "display_name": "Python 3",
   "language": "python",
   "name": "python3"
  },
  "language_info": {
   "codemirror_mode": {
    "name": "ipython",
    "version": 3
   },
   "file_extension": ".py",
   "mimetype": "text/x-python",
   "name": "python",
   "nbconvert_exporter": "python",
   "pygments_lexer": "ipython3",
   "version": "3.7.3"
  }
 },
 "nbformat": 4,
 "nbformat_minor": 2
}
