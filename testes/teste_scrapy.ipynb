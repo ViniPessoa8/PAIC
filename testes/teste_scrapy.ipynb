{
 "cells": [
  {
   "cell_type": "code",
   "execution_count": 2,
   "metadata": {},
   "outputs": [],
   "source": [
    "import scrapy"
   ]
  },
  {
   "cell_type": "code",
   "execution_count": 5,
   "metadata": {},
   "outputs": [],
   "source": [
    "class TestSpider(scrapy.Spider):\n",
    "    name = 'Remuneração dos Servidores'\n",
    "    allowed_domains = ['transparencia.am.gov.br']\n",
    "    start_urls = [\n",
    "        'http://www.transparencia.am.gov.br/pessoal/'\n",
    "    ]\n",
    "    \n",
    "    def parse(self, response):\n",
    "        \n",
    "        for option in response.xpath('//select[@id=\"nav_orgaos\"]/option/@value'):\n",
    "            print(option)\n",
    "        "
   ]
  }
 ],
 "metadata": {
  "kernelspec": {
   "display_name": "Python 3",
   "language": "python",
   "name": "python3"
  },
  "language_info": {
   "codemirror_mode": {
    "name": "ipython",
    "version": 3
   },
   "file_extension": ".py",
   "mimetype": "text/x-python",
   "name": "python",
   "nbconvert_exporter": "python",
   "pygments_lexer": "ipython3",
   "version": "3.7.3"
  }
 },
 "nbformat": 4,
 "nbformat_minor": 2
}
