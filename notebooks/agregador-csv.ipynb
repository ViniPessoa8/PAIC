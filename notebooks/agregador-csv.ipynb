{
 "cells": [
  {
   "cell_type": "markdown",
   "metadata": {},
   "source": [
    "# Agregagador de CSV's\n",
    "\n",
    "Agrega os csv's de cada órgão em um só csv (remuneracao_servidores.csv), criando os atributos 'ORGAO', 'ANO' e 'MES'. "
   ]
  },
  {
   "cell_type": "markdown",
   "metadata": {},
   "source": [
    "### Imports"
   ]
  },
  {
   "cell_type": "code",
   "execution_count": 1,
   "metadata": {},
   "outputs": [
    {
     "data": {
      "text/plain": [
       "131072"
      ]
     },
     "execution_count": 1,
     "metadata": {},
     "output_type": "execute_result"
    }
   ],
   "source": [
    "import pandas as pd\n",
    "import os\n",
    "import re\n",
    "import gc\n",
    "import csv\n",
    "import sys\n",
    "\n",
    "csv.field_size_limit(sys.maxsize)"
   ]
  },
  {
   "cell_type": "markdown",
   "metadata": {},
   "source": [
    "## Funções"
   ]
  },
  {
   "cell_type": "markdown",
   "metadata": {},
   "source": [
    "### Lista Diretórios"
   ]
  },
  {
   "cell_type": "code",
   "execution_count": 2,
   "metadata": {},
   "outputs": [],
   "source": [
    "def lista_dirs(path):\n",
    "    dirs=[]\n",
    "    # r = raiz, d = diretorios, f = arquivos\n",
    "    for r, d, f in os.walk(path):\n",
    "        for direc in d:\n",
    "            if '.txt' not in direc:\n",
    "                dirs.append(os.path.join(r, direc))\n",
    "    return dirs"
   ]
  },
  {
   "cell_type": "markdown",
   "metadata": {},
   "source": [
    "### Lista os arquivos de um diretório"
   ]
  },
  {
   "cell_type": "code",
   "execution_count": 3,
   "metadata": {},
   "outputs": [],
   "source": [
    "def lista_arqs(path):\n",
    "    files = []\n",
    "    # r = raiz, d = diretorios, f = arquivos\n",
    "    for r, d, f in os.walk(path):\n",
    "        for file in f:\n",
    "            if '.csv' in file:\n",
    "                f_out = os.path.join(r, file)\n",
    "                files.append(f_out)\n",
    "    return files"
   ]
  },
  {
   "cell_type": "markdown",
   "metadata": {},
   "source": [
    "### Cria o dataframe de cada órgão"
   ]
  },
  {
   "cell_type": "code",
   "execution_count": 4,
   "metadata": {},
   "outputs": [],
   "source": [
    "def cria_df_orgao(path):\n",
    "    skip_13 = True\n",
    "    \n",
    "    files = lista_arqs(path)\n",
    "    df_orgao = pd.DataFrame()\n",
    "    for f in files:\n",
    "        if '.csv' in f:\n",
    "            if f.endswith(\"13.csv\"):\n",
    "                continue\n",
    "            df_mes = pd.read_csv(f, sep=';', header=0, decimal=',', engine='python',error_bad_lines=False)\n",
    "            \n",
    "            file_name = f.split(\"_\")[1]\n",
    "            orgao_name = path.split(\"/\")[2]\n",
    "            \n",
    "            mes = file_name[4:6]\n",
    "            ano = file_name[0:4]\n",
    "            \n",
    "            if skip_13 and mes == '13':\n",
    "                continue\n",
    "            else:\n",
    "                data_string = ano+'-'+mes+'-01'\n",
    "                df_mes[\"DATA\"] = pd.to_datetime(data_string)\n",
    "\n",
    "                df_orgao = pd.concat([df_orgao, df_mes], ignore_index=True)\n",
    "                df_orgao[\"ORGAO\"] = orgao_name\n",
    "    try:\n",
    "        df_orgao.drop(['Unnamed: 10'], axis=1, inplace=True)\n",
    "    except:\n",
    "        print('Sem Coluna Unnamed')\n",
    "    return df_orgao"
   ]
  },
  {
   "cell_type": "markdown",
   "metadata": {},
   "source": [
    "### Cria o dataframe geral"
   ]
  },
  {
   "cell_type": "code",
   "execution_count": 5,
   "metadata": {},
   "outputs": [],
   "source": [
    "def cria_df_geral(path):\n",
    "    df_geral = pd.DataFrame()\n",
    "    dirs = lista_dirs(path)\n",
    "    for d in dirs:\n",
    "        if (str(d) == \"../csv/PRODAM\"):\n",
    "            continue\n",
    "        print(\"Processando diretório:\", str(d))\n",
    "        nome_dir = d.split(\"/\")[1]\n",
    "        df_orgao = cria_df_orgao(d)\n",
    "        df_geral = pd.concat([df_geral,df_orgao], ignore_index=True)\n",
    "        df_geral = trata_nan(df_geral)\n",
    "    return df_geral"
   ]
  },
  {
   "cell_type": "markdown",
   "metadata": {},
   "source": [
    "### Trata os valores NaN"
   ]
  },
  {
   "cell_type": "code",
   "execution_count": 6,
   "metadata": {},
   "outputs": [],
   "source": [
    "def trata_nan(df):\n",
    "    for col in df.columns:\n",
    "        if(df[col].dtype == 'object'):\n",
    "            df[col] = df[col].fillna('-')\n",
    "        if(df[col].dtype == 'float64'):\n",
    "            df[col] = df[col].fillna(0.00)\n",
    "    \n",
    "    return df"
   ]
  },
  {
   "cell_type": "markdown",
   "metadata": {},
   "source": [
    "### Salva o dataframe"
   ]
  },
  {
   "cell_type": "code",
   "execution_count": null,
   "metadata": {},
   "outputs": [],
   "source": [
    "def salva_df(df):\n",
    "    path = r'../ds/'\n",
    "    if (not os.path.exists(path)):\n",
    "        os.mkdir(path)\n",
    "    df.to_csv(path + r'remuneracao_servidores.csv')"
   ]
  },
  {
   "cell_type": "markdown",
   "metadata": {},
   "source": [
    "## Main"
   ]
  },
  {
   "cell_type": "code",
   "execution_count": null,
   "metadata": {
    "scrolled": false
   },
   "outputs": [
    {
     "name": "stdout",
     "output_type": "stream",
     "text": [
      "Processando diretório: ../csv/FEH\n",
      "Processando diretório: ../csv/SETRAB\n",
      "Processando diretório: ../csv/CASA MILITAR\n",
      "Processando diretório: ../csv/JUCEA\n",
      "Processando diretório: ../csv/SEJEL\n",
      "Processando diretório: ../csv/SEAD-PENSÃO HANSENIANOS\n",
      "Processando diretório: ../csv/CGE\n",
      "Processando diretório: ../csv/FUNDAÇÃO VILA OLIMPICA\n",
      "Sem Coluna Unnamed\n",
      "Processando diretório: ../csv/FUNDAÇÃO AMAZONPREV\n",
      "Processando diretório: ../csv/PM-ATIVOS\n"
     ]
    },
    {
     "name": "stderr",
     "output_type": "stream",
     "text": [
      "Skipping line 4328: unexpected end of data\n",
      "Skipping line 4264: unexpected end of data\n",
      "Skipping line 4343: unexpected end of data\n",
      "Skipping line 4265: unexpected end of data\n",
      "Skipping line 4307: unexpected end of data\n",
      "Skipping line 4266: unexpected end of data\n",
      "Skipping line 4270: unexpected end of data\n",
      "Skipping line 4261: unexpected end of data\n",
      "Skipping line 4333: unexpected end of data\n"
     ]
    },
    {
     "name": "stdout",
     "output_type": "stream",
     "text": [
      "Processando diretório: ../csv/ERGSP\n",
      "Processando diretório: ../csv/SNPH\n",
      "Processando diretório: ../csv/IMPRENSA OFICIAL\n",
      "Processando diretório: ../csv/FAPEAM\n",
      "Processando diretório: ../csv/IDAM\n",
      "Processando diretório: ../csv/SEIND\n",
      "Sem Coluna Unnamed\n",
      "Processando diretório: ../csv/AMAZONPREV\n",
      "Processando diretório: ../csv/SUSAM\n",
      "Processando diretório: ../csv/OUVIDORIA GERAL\n",
      "Processando diretório: ../csv/SEDUC\n",
      "Processando diretório: ../csv/POLICIA CIVIL\n",
      "Processando diretório: ../csv/FEI\n",
      "Processando diretório: ../csv/CB-CIVIS\n",
      "Processando diretório: ../csv/SERGB\n",
      "Sem Coluna Unnamed\n",
      "Processando diretório: ../csv/SSP\n",
      "Processando diretório: ../csv/SEFAZ\n",
      "Processando diretório: ../csv/FCECON\n",
      "Processando diretório: ../csv/ADS\n",
      "Processando diretório: ../csv/CASA CIVIL DO GOVERNO\n",
      "Processando diretório: ../csv/SEPED\n",
      "Processando diretório: ../csv/FHAJ\n",
      "Processando diretório: ../csv/SEAD-PENSÃO ESPECIAL II\n",
      "Processando diretório: ../csv/SEMA\n",
      "Processando diretório: ../csv/IPAAM\n",
      "Processando diretório: ../csv/SPF\n",
      "Processando diretório: ../csv/VICE-GOVERNADORIA\n",
      "Processando diretório: ../csv/ADAF\n",
      "Processando diretório: ../csv/SEPROR\n",
      "Processando diretório: ../csv/SRMM\n",
      "Processando diretório: ../csv/FHEMOAM\n",
      "Processando diretório: ../csv/FUNTEC\n",
      "Processando diretório: ../csv/SUHAB\n",
      "Processando diretório: ../csv/SEAD-PENSÃO ESPECIAL I\n",
      "Processando diretório: ../csv/SEC\n",
      "Processando diretório: ../csv/CGL\n",
      "Processando diretório: ../csv/SEAS\n",
      "Processando diretório: ../csv/CBMAM\n",
      "Processando diretório: ../csv/ALFREDO DA MATA\n",
      "Processando diretório: ../csv/SEAD\n",
      "Processando diretório: ../csv/IPEM-AM\n",
      "Processando diretório: ../csv/PENSIONISTAS\n",
      "Processando diretório: ../csv/FVS\n",
      "Processando diretório: ../csv/UEA\n",
      "Processando diretório: ../csv/CETAM\n",
      "Processando diretório: ../csv/SEAP\n",
      "Processando diretório: ../csv/SEPLANCTI\n",
      "Processando diretório: ../csv/UGPE\n",
      "Processando diretório: ../csv/FMT-AM\n",
      "Processando diretório: ../csv/SECOM\n",
      "Processando diretório: ../csv/PGE\n",
      "Processando diretório: ../csv/SEINFRA\n",
      "Processando diretório: ../csv/SEJUSC\n",
      "Processando diretório: ../csv/ARSAM\n",
      "Processando diretório: ../csv/PM-CIVIS\n",
      "Processando diretório: ../csv/SERIRA\n",
      "Processando diretório: ../csv/DETRAN\n"
     ]
    }
   ],
   "source": [
    "path = '../csv/'\n",
    "gc.enable()\n",
    "df_geral = cria_df_geral(path)\n",
    "salva_df(df_geral)\n",
    "df_geral"
   ]
  }
 ],
 "metadata": {
  "kernelspec": {
   "display_name": "Python 3",
   "language": "python",
   "name": "python3"
  },
  "language_info": {
   "codemirror_mode": {
    "name": "ipython",
    "version": 3
   },
   "file_extension": ".py",
   "mimetype": "text/x-python",
   "name": "python",
   "nbconvert_exporter": "python",
   "pygments_lexer": "ipython3",
   "version": "3.6.9"
  }
 },
 "nbformat": 4,
 "nbformat_minor": 2
}
