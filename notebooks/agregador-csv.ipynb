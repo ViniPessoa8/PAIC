{
 "cells": [
  {
   "cell_type": "markdown",
   "metadata": {},
   "source": [
    "# Agregagador de CSV's\n",
    "\n",
    "Agrega os csv's de cada órgão em um só csv (remuneracao_servidores.csv), criando os atributos 'ORGAO', 'ANO' e 'MES'. "
   ]
  },
  {
   "cell_type": "markdown",
   "metadata": {},
   "source": [
    "### Imports"
   ]
  },
  {
   "cell_type": "code",
   "execution_count": 1,
   "metadata": {},
   "outputs": [],
   "source": [
    "import pandas as pd\n",
    "import os\n",
    "import re"
   ]
  },
  {
   "cell_type": "markdown",
   "metadata": {},
   "source": [
    "## Funções"
   ]
  },
  {
   "cell_type": "markdown",
   "metadata": {},
   "source": [
    "### Lista Diretórios"
   ]
  },
  {
   "cell_type": "code",
   "execution_count": 2,
   "metadata": {},
   "outputs": [],
   "source": [
    "def lista_dirs(path):\n",
    "    dirs=[]\n",
    "    # r = raiz, d = diretorios, f = arquivos\n",
    "    for r, d, f in os.walk(path):\n",
    "        for direc in d:\n",
    "            if '.txt' not in direc:\n",
    "                dirs.append(os.path.join(r, direc))\n",
    "    return dirs"
   ]
  },
  {
   "cell_type": "markdown",
   "metadata": {},
   "source": [
    "### Lista os arquivos de um diretório"
   ]
  },
  {
   "cell_type": "code",
   "execution_count": 3,
   "metadata": {},
   "outputs": [],
   "source": [
    "def lista_arqs(path):\n",
    "    files = []\n",
    "    # r = raiz, d = diretorios, f = arquivos\n",
    "    for r, d, f in os.walk(path):\n",
    "        for file in f:\n",
    "            if '.csv' in file:\n",
    "                f_out = os.path.join(r, file)\n",
    "                files.append(f_out)\n",
    "    return files"
   ]
  },
  {
   "cell_type": "markdown",
   "metadata": {},
   "source": [
    "### Cria o dataframe de cada órgão"
   ]
  },
  {
   "cell_type": "code",
   "execution_count": 4,
   "metadata": {},
   "outputs": [],
   "source": [
    "def cria_df_orgao(path):\n",
    "    files = lista_arqs(path)\n",
    "    df_orgao = pd.DataFrame()\n",
    "    for f in files:\n",
    "        if '.csv' in f:\n",
    "            df_mes = pd.read_csv(f, sep=';', header=0, decimal=',', engine='python')\n",
    "            \n",
    "            file_name = f.split(\"_\")[1]\n",
    "            orgao_name = path.split(\"/\")[2]\n",
    "            \n",
    "            mes = file_name[4:6]\n",
    "            ano = file_name[0:4]\n",
    "            \n",
    "            df_mes[\"ANO\"] = ano\n",
    "            df_mes[\"MES\"] = mes\n",
    "            \n",
    "            df_orgao= pd.concat([df_orgao, df_mes], ignore_index=True)\n",
    "            df_orgao[\"ORGAO\"] = orgao_name\n",
    "    try:\n",
    "        df_orgao.drop(['Unnamed: 10'], axis=1, inplace=True)\n",
    "    except:\n",
    "        print('Sem Coluna Unnamed')\n",
    "    return df_orgao"
   ]
  },
  {
   "cell_type": "markdown",
   "metadata": {},
   "source": [
    "### Cria o dataframe geral"
   ]
  },
  {
   "cell_type": "code",
   "execution_count": 5,
   "metadata": {},
   "outputs": [],
   "source": [
    "def cria_df_geral(path):\n",
    "    df_geral = pd.DataFrame()\n",
    "    dirs = lista_dirs(path)\n",
    "    for d in dirs:\n",
    "        if (str(d) == \"../csv/PM-ATIVOS\" or str(d) == \"../csv/FUNDAÇÃO VILA OLIMPICA\" or str(d) == \"../csv/PRODAM\"):\n",
    "            continue\n",
    "        print(\"Processando diretório:\", str(d))\n",
    "        nome_dir = d.split(\"/\")[1]\n",
    "        ds_orgao = pd.DataFrame()\n",
    "        df_orgao = cria_df_orgao(d)\n",
    "        df_geral = pd.concat([df_geral,df_orgao], ignore_index=True)\n",
    "        df_geral = trata_nan(df_geral)\n",
    "    return df_geral"
   ]
  },
  {
   "cell_type": "markdown",
   "metadata": {},
   "source": [
    "### Trata os valores NaN"
   ]
  },
  {
   "cell_type": "code",
   "execution_count": 6,
   "metadata": {},
   "outputs": [],
   "source": [
    "def trata_nan(df):\n",
    "    for col in df.columns:\n",
    "        if(df[col].dtype == 'object'):\n",
    "            df[col] = df[col].fillna('-')\n",
    "        if(df[col].dtype == 'float64'):\n",
    "            df[col] = df[col].fillna(0.00)\n",
    "    \n",
    "    return df"
   ]
  },
  {
   "cell_type": "markdown",
   "metadata": {},
   "source": [
    "### Salva o dataframe"
   ]
  },
  {
   "cell_type": "code",
   "execution_count": 11,
   "metadata": {},
   "outputs": [],
   "source": [
    "def salva_df(df):\n",
    "    path = r'../ds/'\n",
    "    print(not os.path.exists(path))\n",
    "    if (not os.path.exists(path)):\n",
    "        os.mkdir(path)\n",
    "    df.to_csv(path + r'remuneracao_servidores.csv')"
   ]
  },
  {
   "cell_type": "markdown",
   "metadata": {},
   "source": [
    "## Main"
   ]
  },
  {
   "cell_type": "code",
   "execution_count": 12,
   "metadata": {},
   "outputs": [
    {
     "name": "stdout",
     "output_type": "stream",
     "text": [
      "False\n"
     ]
    },
    {
     "data": {
      "text/html": [
       "<div>\n",
       "<style scoped>\n",
       "    .dataframe tbody tr th:only-of-type {\n",
       "        vertical-align: middle;\n",
       "    }\n",
       "\n",
       "    .dataframe tbody tr th {\n",
       "        vertical-align: top;\n",
       "    }\n",
       "\n",
       "    .dataframe thead th {\n",
       "        text-align: right;\n",
       "    }\n",
       "</style>\n",
       "<table border=\"1\" class=\"dataframe\">\n",
       "  <thead>\n",
       "    <tr style=\"text-align: right;\">\n",
       "      <th></th>\n",
       "    </tr>\n",
       "  </thead>\n",
       "  <tbody>\n",
       "  </tbody>\n",
       "</table>\n",
       "</div>"
      ],
      "text/plain": [
       "Empty DataFrame\n",
       "Columns: []\n",
       "Index: []"
      ]
     },
     "execution_count": 12,
     "metadata": {},
     "output_type": "execute_result"
    }
   ],
   "source": [
    "path = '../csv/'\n",
    "df_geral = cria_df_geral(path)\n",
    "salva_df(df_geral)\n",
    "df_geral"
   ]
  }
 ],
 "metadata": {
  "kernelspec": {
   "display_name": "Python 3",
   "language": "python",
   "name": "python3"
  },
  "language_info": {
   "codemirror_mode": {
    "name": "ipython",
    "version": 3
   },
   "file_extension": ".py",
   "mimetype": "text/x-python",
   "name": "python",
   "nbconvert_exporter": "python",
   "pygments_lexer": "ipython3",
   "version": "3.6.9"
  }
 },
 "nbformat": 4,
 "nbformat_minor": 2
}
