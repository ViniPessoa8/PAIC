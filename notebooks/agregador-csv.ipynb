{
 "cells": [
  {
   "cell_type": "markdown",
   "metadata": {},
   "source": [
    "# Agregagador de CSV's\n",
    "\n",
    "Agrega os csv's de cada órgão em um só csv (remuneracao_servidores.csv), criando os atributos 'ORGAO', 'ANO' e 'MES'. "
   ]
  },
  {
   "cell_type": "markdown",
   "metadata": {},
   "source": [
    "### Imports"
   ]
  },
  {
   "cell_type": "code",
   "execution_count": 1,
   "metadata": {},
   "outputs": [],
   "source": [
    "import pandas as pd\n",
    "import os\n",
    "import re"
   ]
  },
  {
   "cell_type": "markdown",
   "metadata": {},
   "source": [
    "## Funções"
   ]
  },
  {
   "cell_type": "markdown",
   "metadata": {},
   "source": [
    "### Lista Diretórios"
   ]
  },
  {
   "cell_type": "code",
   "execution_count": 2,
   "metadata": {},
   "outputs": [],
   "source": [
    "def lista_dirs(path):\n",
    "    dirs=[]\n",
    "    # r = raiz, d = diretorios, f = arquivos\n",
    "    for r, d, f in os.walk(path):\n",
    "        for direc in d:\n",
    "            print(direc)\n",
    "            if '.txt' not in direc:\n",
    "                dirs.append(os.path.join(r, direc))\n",
    "    return dirs"
   ]
  },
  {
   "cell_type": "markdown",
   "metadata": {},
   "source": [
    "### Lista os arquivos de um diretório"
   ]
  },
  {
   "cell_type": "code",
   "execution_count": 3,
   "metadata": {},
   "outputs": [],
   "source": [
    "def lista_arqs(path):\n",
    "    files = []\n",
    "    # r = raiz, d = diretorios, f = arquivos\n",
    "    for r, d, f in os.walk(path):\n",
    "        for file in f:\n",
    "            if '.csv' in file:\n",
    "                f_out = os.path.join(r, file)\n",
    "                files.append(f_out)\n",
    "    return files"
   ]
  },
  {
   "cell_type": "markdown",
   "metadata": {},
   "source": [
    "### Cria o dataframe de cada órgão"
   ]
  },
  {
   "cell_type": "code",
   "execution_count": 4,
   "metadata": {},
   "outputs": [],
   "source": [
    "def cria_df_orgao(path):\n",
    "    files = lista_arqs(path)\n",
    "    df_orgao = pd.DataFrame()\n",
    "    for f in files:\n",
    "        if '.csv' in f:\n",
    "            df_mes = pd.read_csv(f, sep=';', header=0, decimal=',', engine='python')\n",
    "            \n",
    "            file_name = f.split(\"_\")[1]\n",
    "            orgao_name = path.split(\"/\")[2]\n",
    "            \n",
    "            mes = file_name[4:6]\n",
    "            ano = file_name[0:4]\n",
    "            \n",
    "            df_mes[\"ANO\"] = ano\n",
    "            df_mes[\"MES\"] = mes\n",
    "            \n",
    "            df_orgao= pd.concat([df_orgao, df_mes], ignore_index=True)\n",
    "            df_orgao[\"ORGAO\"] = orgao_name\n",
    "    try:\n",
    "        df_orgao.drop(['Unnamed: 10'], axis=1, inplace=True)\n",
    "    except:\n",
    "        print('Sem Coluna Unnamed')\n",
    "    return df_orgao"
   ]
  },
  {
   "cell_type": "markdown",
   "metadata": {},
   "source": [
    "### Cria o dataframe geral"
   ]
  },
  {
   "cell_type": "code",
   "execution_count": 5,
   "metadata": {},
   "outputs": [],
   "source": [
    "def cria_df_geral(path):\n",
    "    df_geral = pd.DataFrame()\n",
    "    dirs = lista_dirs(path)\n",
    "    for d in dirs:\n",
    "        if (str(d) == \"../csv/PM-ATIVOS\" or str(d) == \"../csv/FUNDAÇÃO VILA OLIMPICA\" or str(d) == \"../csv/PRODAM\"):\n",
    "            continue\n",
    "        print(\"Processando diretório:\", str(d))\n",
    "        nome_dir = d.split(\"/\")[1]\n",
    "        ds_orgao = pd.DataFrame()\n",
    "        df_orgao = cria_df_orgao(d)\n",
    "        df_geral = pd.concat([df_geral,df_orgao], ignore_index=True)\n",
    "        df_geral = trata_nan(df_geral)\n",
    "    return df_geral"
   ]
  },
  {
   "cell_type": "markdown",
   "metadata": {},
   "source": [
    "### Trata os valores NaN"
   ]
  },
  {
   "cell_type": "code",
   "execution_count": 6,
   "metadata": {},
   "outputs": [],
   "source": [
    "def trata_nan(df):\n",
    "    for col in df.columns:\n",
    "        if(df[col].dtype == 'object'):\n",
    "            df[col] = df[col].fillna('-')\n",
    "        if(df[col].dtype == 'float64'):\n",
    "            df[col] = df[col].fillna(0.00)\n",
    "    \n",
    "    return df"
   ]
  },
  {
   "cell_type": "markdown",
   "metadata": {},
   "source": [
    "## Main"
   ]
  },
  {
   "cell_type": "code",
   "execution_count": 10,
   "metadata": {},
   "outputs": [
    {
     "name": "stdout",
     "output_type": "stream",
     "text": [
      "SNPH\n",
      "SEPLANCTI\n",
      "PGE\n",
      "CGL\n",
      "SUHAB\n",
      "FAPEAM\n",
      "FHEMOAM\n",
      "SEAD\n",
      "SERGB\n",
      "POLICIA CIVIL\n",
      "SEC\n",
      "IMPRENSA OFICIAL\n",
      "ADAF\n",
      "IDAM\n",
      "SEINFRA\n",
      "FHAJ\n",
      "SETRAB\n",
      "SEAD-PENSÃO HANSENIANOS\n",
      "PRODAM\n",
      "SRMM\n",
      "DETRAN\n",
      "IPAAM\n",
      "ALFREDO DA MATA\n",
      "SECOM\n",
      "AMAZONPREV\n",
      "CASA CIVIL DO GOVERNO\n",
      "SEIND\n",
      "FUNTEC\n",
      "CBMAM\n",
      "ERGSP\n",
      "CGE\n",
      "PM-ATIVOS\n",
      "PENSIONISTAS\n",
      "SEMA\n",
      "FVS\n",
      "SEAP\n",
      "SEAD-PENSÃO ESPECIAL II\n",
      "SERIRA\n",
      "FEI\n",
      "SEDUC\n",
      "SEPED\n",
      "JUCEA\n",
      "ADS\n",
      "SEJEL\n",
      "CASA MILITAR\n",
      "CETAM\n",
      "SUSAM\n",
      "IPEM-AM\n",
      "FUNDAÇÃO AMAZONPREV\n",
      "PM-CIVIS\n",
      "SEFAZ\n",
      "FEH\n",
      "FCECON\n",
      "SEAD-PENSÃO ESPECIAL I\n",
      "SEJUSC\n",
      "SSP\n",
      "OUVIDORIA GERAL\n",
      "VICE-GOVERNADORIA\n",
      "FUNDAÇÃO VILA OLIMPICA\n",
      "SEAS\n",
      "ARSAM\n",
      "CB-CIVIS\n",
      "UGPE\n",
      "UEA\n",
      "SPF\n",
      "SEPROR\n",
      "FMT-AM\n",
      "Processando diretório: ../csv/SNPH\n"
     ]
    },
    {
     "name": "stderr",
     "output_type": "stream",
     "text": [
      "/home/vini/.local/lib/python3.6/site-packages/ipykernel_launcher.py:17: FutureWarning: Sorting because non-concatenation axis is not aligned. A future version\n",
      "of pandas will change to not sort by default.\n",
      "\n",
      "To accept the future behavior, pass 'sort=False'.\n",
      "\n",
      "To retain the current behavior and silence the warning, pass 'sort=True'.\n",
      "\n"
     ]
    },
    {
     "name": "stdout",
     "output_type": "stream",
     "text": [
      "Processando diretório: ../csv/SEPLANCTI\n",
      "Processando diretório: ../csv/PGE\n",
      "Processando diretório: ../csv/CGL\n",
      "Processando diretório: ../csv/SUHAB\n",
      "Processando diretório: ../csv/FAPEAM\n",
      "Processando diretório: ../csv/FHEMOAM\n",
      "Processando diretório: ../csv/SEAD\n",
      "Processando diretório: ../csv/SERGB\n",
      "Sem Coluna Unnamed\n",
      "Processando diretório: ../csv/POLICIA CIVIL\n",
      "Processando diretório: ../csv/SEC\n",
      "Processando diretório: ../csv/IMPRENSA OFICIAL\n",
      "Processando diretório: ../csv/ADAF\n",
      "Processando diretório: ../csv/IDAM\n",
      "Processando diretório: ../csv/SEINFRA\n",
      "Processando diretório: ../csv/FHAJ\n",
      "Processando diretório: ../csv/SETRAB\n",
      "Processando diretório: ../csv/SEAD-PENSÃO HANSENIANOS\n",
      "Processando diretório: ../csv/SRMM\n",
      "Processando diretório: ../csv/DETRAN\n",
      "Processando diretório: ../csv/IPAAM\n",
      "Processando diretório: ../csv/ALFREDO DA MATA\n",
      "Processando diretório: ../csv/SECOM\n",
      "Processando diretório: ../csv/AMAZONPREV\n",
      "Processando diretório: ../csv/CASA CIVIL DO GOVERNO\n",
      "Processando diretório: ../csv/SEIND\n",
      "Sem Coluna Unnamed\n",
      "Processando diretório: ../csv/FUNTEC\n",
      "Processando diretório: ../csv/CBMAM\n",
      "Processando diretório: ../csv/ERGSP\n",
      "Processando diretório: ../csv/CGE\n",
      "Processando diretório: ../csv/PENSIONISTAS\n",
      "Processando diretório: ../csv/SEMA\n",
      "Processando diretório: ../csv/FVS\n",
      "Processando diretório: ../csv/SEAP\n",
      "Processando diretório: ../csv/SEAD-PENSÃO ESPECIAL II\n",
      "Processando diretório: ../csv/SERIRA\n",
      "Processando diretório: ../csv/FEI\n",
      "Processando diretório: ../csv/SEDUC\n",
      "Processando diretório: ../csv/SEPED\n",
      "Processando diretório: ../csv/JUCEA\n",
      "Processando diretório: ../csv/ADS\n",
      "Processando diretório: ../csv/SEJEL\n",
      "Processando diretório: ../csv/CASA MILITAR\n",
      "Processando diretório: ../csv/CETAM\n",
      "Processando diretório: ../csv/SUSAM\n",
      "Processando diretório: ../csv/IPEM-AM\n",
      "Processando diretório: ../csv/FUNDAÇÃO AMAZONPREV\n",
      "Processando diretório: ../csv/PM-CIVIS\n",
      "Processando diretório: ../csv/SEFAZ\n",
      "Processando diretório: ../csv/FEH\n",
      "Sem Coluna Unnamed\n",
      "Processando diretório: ../csv/FCECON\n",
      "Processando diretório: ../csv/SEAD-PENSÃO ESPECIAL I\n",
      "Processando diretório: ../csv/SEJUSC\n",
      "Processando diretório: ../csv/SSP\n",
      "Processando diretório: ../csv/OUVIDORIA GERAL\n",
      "Processando diretório: ../csv/VICE-GOVERNADORIA\n",
      "Processando diretório: ../csv/SEAS\n",
      "Processando diretório: ../csv/ARSAM\n",
      "Processando diretório: ../csv/CB-CIVIS\n",
      "Processando diretório: ../csv/UGPE\n",
      "Processando diretório: ../csv/UEA\n",
      "Processando diretório: ../csv/SPF\n",
      "Processando diretório: ../csv/SEPROR\n",
      "Processando diretório: ../csv/FMT-AM\n",
      "          REMUNERACAO LEGAL DEVIDA(R$)   ANO  \\\n",
      "0                              1486.20  2017   \n",
      "1                              1349.42  2017   \n",
      "2                              3057.11  2017   \n",
      "3                              2554.96  2017   \n",
      "4                              1624.62  2017   \n",
      "...                                ...   ...   \n",
      "2018808                        8048.20  2018   \n",
      "2018809                       14796.79  2018   \n",
      "2018810                        1945.14  2018   \n",
      "2018811                       12361.44  2018   \n",
      "2018812                        2434.76  2018   \n",
      "\n",
      "                                     CARGO  DESC.TETO(R$)  \\\n",
      "0                     AGENTE AQUAVIARIO IV            0.0   \n",
      "1                      AGENTE PORTUARIO II            0.0   \n",
      "2                    AGENTE AQUAVIARIO III            0.0   \n",
      "3                     AGENTE AQUAVIARIO II            0.0   \n",
      "4                     AGENTE PORTUARIO III            0.0   \n",
      "...                                    ...            ...   \n",
      "2018808    PESQUISADOR ASS.-PEA-P.S.N.S.-D            0.0   \n",
      "2018809       FARMAC.BIOQ. -FAB-P.S.N.S.-A            0.0   \n",
      "2018810  AUXILIAR DE SERV GERAIS - LIMPEZA            0.0   \n",
      "2018811       FARMAC.BIOQ. -FAB-P.S.N.S.-D            0.0   \n",
      "2018812  TEC. DE ENFERMAGEM-TEN-P.S.N.M.-D            0.0   \n",
      "\n",
      "         DESCONTOS LEGAIS(R$)             FUNCAO  LIQUIDO DISPONIVEL(R$)  \\\n",
      "0                      152.07                  -                 1334.13   \n",
      "1                      148.44    AG.PORTUARIO II                 1200.98   \n",
      "2                      219.00                  -                 2838.11   \n",
      "3                      278.73                  -                 2276.23   \n",
      "4                       98.96                  -                 1525.66   \n",
      "...                       ...                ...                     ...   \n",
      "2018808               1836.74                  -                 6211.46   \n",
      "2018809               3584.83  FARMAC BIOQUIMICO                11211.96   \n",
      "2018810                167.77                  -                 1777.37   \n",
      "2018811               2880.83            GERENTE                 9480.61   \n",
      "2018812                267.82                  -                 2166.94   \n",
      "\n",
      "                           LOTACAO MES                              NOME  \\\n",
      "0        DIOPE-DIVISAO OPERACIONAL  10              ADEILDO COSTA FARIAS   \n",
      "1                      ITACOATIARA  10                     ADONIS BRASIL   \n",
      "2        DIOPE-DIVISAO OPERACIONAL  10           AFRANIO SANTOS DA SILVA   \n",
      "3        DIOPE-DIVISAO OPERACIONAL  10             ALDEMIR LIMA DE SOUSA   \n",
      "4        DIOPE-DIVISAO OPERACIONAL  10  ALDER JOSE SIMOES DE ALBUQUERQUE   \n",
      "...                            ...  ..                               ...   \n",
      "2018808                ESTATUTARIO  06        WORNEI SILVA MIRANDA BRAGA   \n",
      "2018809                ESTATUTARIO  06          WUELTON MARCELO MONTEIRO   \n",
      "2018810                ESTATUTARIO  06            YOLANDA FREITAS NOGUTH   \n",
      "2018811                ESTATUTARIO  06        YONNE FRANCIS CHEHUAN MELO   \n",
      "2018812                ESTATUTARIO  06          ZELINDA MONTEIRO RIBEIRO   \n",
      "\n",
      "          ORGAO  REMUNERACAO LEGAL TOTAL(R$)       VINCULO  \n",
      "0          SNPH                      1486.20   ESTATUTARIO  \n",
      "1          SNPH                      1349.42   ESTATUTARIO  \n",
      "2          SNPH                      3057.11   ESTATUTARIO  \n",
      "3          SNPH                      2554.96   ESTATUTARIO  \n",
      "4          SNPH                      1624.62   ESTATUTARIO  \n",
      "...         ...                          ...           ...  \n",
      "2018808  FMT-AM                      8048.20   ESTATUTARIO  \n",
      "2018809  FMT-AM                     14796.79   ESTATUTARIO  \n",
      "2018810  FMT-AM                      1945.14   ESTATUTARIO  \n",
      "2018811  FMT-AM                     12361.44   ESTATUTARIO  \n",
      "2018812  FMT-AM                      2434.76   ESTATUTARIO  \n",
      "\n",
      "[2018813 rows x 13 columns]\n"
     ]
    }
   ],
   "source": [
    "def main():\n",
    "    path = '../csv/'\n",
    "    df_geral = cria_df_geral(path)\n",
    "    df_geral.to_csv(r'../ds/remuneracao_servidores.csv')\n",
    "    print (df_geral)\n",
    "        \n",
    "main()"
   ]
  }
 ],
 "metadata": {
  "kernelspec": {
   "display_name": "Python 3",
   "language": "python",
   "name": "python3"
  },
  "language_info": {
   "codemirror_mode": {
    "name": "ipython",
    "version": 3
   },
   "file_extension": ".py",
   "mimetype": "text/x-python",
   "name": "python",
   "nbconvert_exporter": "python",
   "pygments_lexer": "ipython3",
   "version": "3.6.9"
  }
 },
 "nbformat": 4,
 "nbformat_minor": 2
}
