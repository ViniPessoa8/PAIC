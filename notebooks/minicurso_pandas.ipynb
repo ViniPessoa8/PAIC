{
 "cells": [
  {
   "cell_type": "markdown",
   "metadata": {
    "colab_type": "text",
    "id": "rGeWS6rP-xaq"
   },
   "source": [
    "# Introdução à Análise de Dados com Pandas"
   ]
  },
  {
   "cell_type": "markdown",
   "metadata": {
    "colab_type": "text",
    "id": "l9j-gzYA-xar"
   },
   "source": [
    "Material baseado no tutorial \"Seus primeiros passos como Data Scientist: Introdução ao Pandas!\", que pode ser encontrado [aqui](https://medium.com/data-hackers/uma-introdu%C3%A7%C3%A3o-simples-ao-pandas-1e15eea37fa1)"
   ]
  },
  {
   "cell_type": "markdown",
   "metadata": {
    "colab_type": "text",
    "id": "-CCwEIW8-xat"
   },
   "source": [
    "**Pandas** é uma biblioteca Python que fornece ferramentas de análise de dados e estruturas de dados de alta performance e *fáceis de usar*. Por ser a principal e mais completa biblioteca para estes objetivos, **pandas** é fundamental para análise de dados com Python.\n",
    "\n",
    "Objetivo do minicurso é fornecer de forma enxuta e simplificada, uma apresentação básica às principais ferramentas fornecidas pelo **pandas**, cobrindo:\n",
    "\n",
    "- Manipulação; \n",
    "- Leitura; e,\n",
    "- Visualização de dados"
   ]
  },
  {
   "cell_type": "markdown",
   "metadata": {
    "colab_type": "text",
    "id": "81mOQNv5-xau"
   },
   "source": [
    "### Importando as bibliotecas:"
   ]
  },
  {
   "cell_type": "code",
   "execution_count": 0,
   "metadata": {
    "colab": {},
    "colab_type": "code",
    "id": "qZ1hyiVL-xav"
   },
   "outputs": [],
   "source": [
    "## Importando as bibliotecas"
   ]
  },
  {
   "cell_type": "markdown",
   "metadata": {
    "colab_type": "text",
    "id": "Gp4xwJ0q-xaz"
   },
   "source": [
    "Existem dois tipos principais de estruturas de dados no pandas:\n",
    " 1. **Series** \n",
    " 1. **DataFrame**"
   ]
  },
  {
   "cell_type": "markdown",
   "metadata": {
    "colab_type": "text",
    "id": "usFPrlge-xa0"
   },
   "source": [
    "## Series\n",
    "\n",
    "Uma Series é como um array unidimensional, uma lista de valores. Toda Series possui um índice, o `index`, que dá rótulos a cada elemento da lista. Abaixo criamos uma Series `notas`, o `index` desta Series é a coluna à esquerda, que vai de 0 a 4 neste caso, que o pandas criou automaticamente, já que não especificamos uma lista de rótulos."
   ]
  },
  {
   "cell_type": "code",
   "execution_count": 0,
   "metadata": {
    "colab": {},
    "colab_type": "code",
    "id": "3PcL6TtJ-xa1"
   },
   "outputs": [],
   "source": [
    "## Criando uma series"
   ]
  },
  {
   "cell_type": "markdown",
   "metadata": {
    "colab_type": "text",
    "id": "qzlPXzCW-xa3"
   },
   "source": [
    "Já podemos aqui verificar os atributos da nossa Series, comecemos pelos valores e o índice, os dois atributos *fundamentais* nesta estrutura:"
   ]
  },
  {
   "cell_type": "code",
   "execution_count": 0,
   "metadata": {
    "colab": {},
    "colab_type": "code",
    "id": "l06Wr4nk-xa4"
   },
   "outputs": [],
   "source": [
    "# values"
   ]
  },
  {
   "cell_type": "code",
   "execution_count": 0,
   "metadata": {
    "colab": {},
    "colab_type": "code",
    "id": "72o6Z4CY-xa6"
   },
   "outputs": [],
   "source": [
    "# index"
   ]
  },
  {
   "cell_type": "markdown",
   "metadata": {
    "colab_type": "text",
    "id": "-Y_3mjlO-xa9"
   },
   "source": [
    "Como ao criar a Series não demos um índice específico o pandas usou os inteiros positivos crescentes como padrão. Pode ser conveniente atribuirmos um índice diferente do padrão, supondo que essas sejam notas de uma turma, poderíamos atribuir nomes ao index:"
   ]
  },
  {
   "cell_type": "code",
   "execution_count": 0,
   "metadata": {
    "colab": {},
    "colab_type": "code",
    "id": "unVC0jyM-xa-"
   },
   "outputs": [],
   "source": [
    "## Criando uma series com índices definidos"
   ]
  },
  {
   "cell_type": "markdown",
   "metadata": {
    "colab_type": "text",
    "id": "jEsYIvBF-xbA"
   },
   "source": [
    "O index nos ajuda para referenciar um determinado valor, ele nos permite acessar os valores pelo seu rótulo:"
   ]
  },
  {
   "cell_type": "code",
   "execution_count": 0,
   "metadata": {
    "colab": {},
    "colab_type": "code",
    "id": "R732Zxbx-xbA"
   },
   "outputs": [],
   "source": [
    "## Acessando valores"
   ]
  },
  {
   "cell_type": "markdown",
   "metadata": {
    "colab_type": "text",
    "id": "CeivpYGa-xbC"
   },
   "source": [
    "Outra facilidade proporcionada pela estrutura são seus métodos que fornecem informações estatísticas sobre os valores, como **média** `.mean()` e **desvio padrão** `.std()`."
   ]
  },
  {
   "cell_type": "code",
   "execution_count": 0,
   "metadata": {
    "colab": {},
    "colab_type": "code",
    "id": "xcoUiZ49-xbD"
   },
   "outputs": [],
   "source": [
    "## Verificando média e desvio padrão"
   ]
  },
  {
   "cell_type": "markdown",
   "metadata": {
    "colab_type": "text",
    "id": "rI3IqnKN-xbG"
   },
   "source": [
    "Geralmente para resumir brevemente as estatísticas dos dados se usa o `.describe()`"
   ]
  },
  {
   "cell_type": "code",
   "execution_count": 0,
   "metadata": {
    "colab": {},
    "colab_type": "code",
    "id": "D4dMo77j-xbI"
   },
   "outputs": [],
   "source": [
    "## Utilizar a função describe()"
   ]
  },
  {
   "cell_type": "markdown",
   "metadata": {
    "colab_type": "text",
    "id": "Xi1qiD3I-xbK"
   },
   "source": [
    "A estrutura é flexível o suficiente pra aplicarmos algumas expressões matemáticas e funções matemáticas do numpy diretamente:"
   ]
  },
  {
   "cell_type": "code",
   "execution_count": 0,
   "metadata": {
    "colab": {},
    "colab_type": "code",
    "id": "NAvOZz1G-xbM"
   },
   "outputs": [],
   "source": [
    "## Multiplicação e log (np.log())"
   ]
  },
  {
   "cell_type": "markdown",
   "metadata": {
    "colab_type": "text",
    "id": "KsfOpbq--xbO"
   },
   "source": [
    "## DataFrame\n",
    "Já um DataFrame é uma estrutura bidimensional de dados, como uma planilha. "
   ]
  },
  {
   "cell_type": "code",
   "execution_count": 0,
   "metadata": {
    "colab": {},
    "colab_type": "code",
    "id": "R7KTxqcY-xbP"
   },
   "outputs": [],
   "source": [
    "## Criando um DataFrame"
   ]
  },
  {
   "cell_type": "markdown",
   "metadata": {
    "colab_type": "text",
    "id": "48BIUDfT-xbT"
   },
   "source": [
    "Verificando os tipos de dados que compõe as colunas."
   ]
  },
  {
   "cell_type": "code",
   "execution_count": 0,
   "metadata": {
    "colab": {},
    "colab_type": "code",
    "id": "YSP3zTuk-xbT"
   },
   "outputs": [],
   "source": [
    "## Tipo dos dados"
   ]
  },
  {
   "cell_type": "markdown",
   "metadata": {
    "colab_type": "text",
    "id": "B2xWK9Oz-xbW"
   },
   "source": [
    "É possível acessar a lista de colunas de forma bem intuitiva:"
   ]
  },
  {
   "cell_type": "code",
   "execution_count": 0,
   "metadata": {
    "colab": {},
    "colab_type": "code",
    "id": "Agt7jCJA-xbX"
   },
   "outputs": [],
   "source": [
    "## Colunas do DataFrame"
   ]
  },
  {
   "cell_type": "markdown",
   "metadata": {
    "colab_type": "text",
    "id": "McoqZ0I7-xbZ"
   },
   "source": [
    "Os nomes das colunas podem ser usadas pra acessar seus valores:"
   ]
  },
  {
   "cell_type": "code",
   "execution_count": 0,
   "metadata": {
    "colab": {},
    "colab_type": "code",
    "id": "UStl6L7s-xba"
   },
   "outputs": [],
   "source": [
    "## Acessando valores"
   ]
  },
  {
   "cell_type": "markdown",
   "metadata": {
    "colab_type": "text",
    "id": "Z-AxOras-xbb"
   },
   "source": [
    "Para DataFrames, `.describe()` também é uma boa forma de verificar resumidamente a disposição estatística dos dados numéricos:"
   ]
  },
  {
   "cell_type": "code",
   "execution_count": 0,
   "metadata": {
    "colab": {},
    "colab_type": "code",
    "id": "98W7QTpL-xbc"
   },
   "outputs": [],
   "source": [
    "## Utilizar a função describe()"
   ]
  },
  {
   "cell_type": "markdown",
   "metadata": {
    "colab_type": "text",
    "id": "i0wbIdsZ-xbf"
   },
   "source": [
    "Outra tarefa comum aplicada em DataFrames é ordená-los por determinada coluna:"
   ]
  },
  {
   "cell_type": "code",
   "execution_count": 0,
   "metadata": {
    "colab": {},
    "colab_type": "code",
    "id": "Lmi7A_bG-xbg"
   },
   "outputs": [],
   "source": [
    "## Ordenando pelas notas do seminário"
   ]
  },
  {
   "cell_type": "markdown",
   "metadata": {
    "colab_type": "text",
    "id": "xUTnzzzd-xbj"
   },
   "source": [
    "Note que simplesmente usar o método `sort_values` não modifica o nosso DataFrame original:"
   ]
  },
  {
   "cell_type": "code",
   "execution_count": 0,
   "metadata": {
    "colab": {},
    "colab_type": "code",
    "id": "-Zf-DddD-xbm"
   },
   "outputs": [],
   "source": [
    "## Visualizando DataFrame"
   ]
  },
  {
   "cell_type": "markdown",
   "metadata": {
    "colab_type": "text",
    "id": "IsgzItbO-xbo"
   },
   "source": [
    "Muitas vezes é necessário selecionarmos valores específicos de um DataFrame, seja uma linha ou uma célula específica, e isso pode ser feito de diversas formas. "
   ]
  },
  {
   "cell_type": "markdown",
   "metadata": {
    "colab_type": "text",
    "id": "j6eg6zHo-xbp"
   },
   "source": [
    "Para selecionar pelo index ou rótulo usamos o atributo `.loc`:"
   ]
  },
  {
   "cell_type": "code",
   "execution_count": 0,
   "metadata": {
    "colab": {},
    "colab_type": "code",
    "id": "g9oJYbSU-xbs"
   },
   "outputs": [],
   "source": [
    "## Acessando index pelo .loc[]"
   ]
  },
  {
   "cell_type": "markdown",
   "metadata": {
    "colab_type": "text",
    "id": "2DKWNbys-xbu"
   },
   "source": [
    "Para selecionar de acordo com critérios condicionais, se usa o que se chama de **Boolean Indexing**.\n",
    "\n",
    "Suponha que queiramos selecionar apenas as linhas em que o valor da coluna *Seminário* seja acima de 8.0:"
   ]
  },
  {
   "cell_type": "code",
   "execution_count": 0,
   "metadata": {
    "colab": {},
    "colab_type": "code",
    "id": "MkWoy56Q-xbx"
   },
   "outputs": [],
   "source": [
    "## Boolean Indexing"
   ]
  },
  {
   "cell_type": "markdown",
   "metadata": {
    "colab_type": "text",
    "id": "lyBGKfMQ-xbz"
   },
   "source": [
    "Este tipo de indexação também possibilita checar condições de múltiplas colunas. Diferentemente do que estamos habituados em Python, aqui se usam operadores bitwise, ou seja, `&`, `|`, `~` ao invés de `and`, `or`, `not`, respectivamente. Suponha que além de `df[\"Seminário\"] > 8.0` queiramos que o valor da coluna `Prova` não seja menor que 3:"
   ]
  },
  {
   "cell_type": "code",
   "execution_count": 0,
   "metadata": {
    "colab": {},
    "colab_type": "code",
    "id": "Sy2pUNoW-xb0"
   },
   "outputs": [],
   "source": [
    "## Boolean Indexing e condições"
   ]
  },
  {
   "cell_type": "markdown",
   "metadata": {
    "colab_type": "text",
    "id": "L-vq_X-7-xb3"
   },
   "source": [
    "## Leitura de *datasets*"
   ]
  },
  {
   "cell_type": "markdown",
   "metadata": {
    "colab_type": "text",
    "id": "0r7ylmDO-xb3"
   },
   "source": [
    "O pandas nos fornece uma série de funcionalidades de leitura de dados, pros mais diversos formatos estruturais de dados, experimente a auto-completação de `pd.read_<TAB>`, entre eles estão:\n",
    " 1. `pd.read_csv`, para ler arquivos .csv, formato comum de armazenar dados de tabelas\n",
    " 1. `pd.read_excel`, para ler arquivos Excel .xlsx, é necessário instalar uma biblioteca adicional pra esta funcionalidade.\n",
    " \n",
    "Usaremos para analisar dados externos nesta introdução o `.read_csv`, pois é neste formato que se encontram nossos dados. \n",
    "\n",
    "Estes dados que usaremos como exemplo são dados que contêm informações de 802 pokemons de todas as sete gerações. O arquivo pode ser encontrado [aqui](https://www.kaggle.com/rounakbanik/pokemon)"
   ]
  },
  {
   "cell_type": "code",
   "execution_count": 0,
   "metadata": {
    "colab": {},
    "colab_type": "code",
    "id": "y5m_A18l-xb3"
   },
   "outputs": [],
   "source": [
    "## Lendo um dataset"
   ]
  },
  {
   "cell_type": "markdown",
   "metadata": {
    "colab_type": "text",
    "id": "x91E4Cdy-xb5"
   },
   "source": [
    "Como esperado, o DataFrame tem muitas linhas de dados, pra visualizar sucintamente as primeiras linhas de um DataFrame existe o método `.head()`"
   ]
  },
  {
   "cell_type": "code",
   "execution_count": 0,
   "metadata": {
    "colab": {},
    "colab_type": "code",
    "id": "6ApfzI4KCD5n"
   },
   "outputs": [],
   "source": [
    "## Shape"
   ]
  },
  {
   "cell_type": "code",
   "execution_count": 0,
   "metadata": {
    "colab": {},
    "colab_type": "code",
    "id": "saCfVVaB-xb6"
   },
   "outputs": [],
   "source": [
    "## Visualizando o dataset"
   ]
  },
  {
   "cell_type": "markdown",
   "metadata": {
    "colab_type": "text",
    "id": "SZUhoBuO-xb7"
   },
   "source": [
    "Por padrão `.head()` exibe as 5 primeiras linhas, mas isso pode ser alterado:"
   ]
  },
  {
   "cell_type": "code",
   "execution_count": 0,
   "metadata": {
    "colab": {},
    "colab_type": "code",
    "id": "A1S6EGWl-xb8"
   },
   "outputs": [],
   "source": [
    "## Definir quantidade de linhas"
   ]
  },
  {
   "cell_type": "markdown",
   "metadata": {
    "colab_type": "text",
    "id": "hrOrLg7Q-xb_"
   },
   "source": [
    "Similarmente existe o `.tail()`, que exibe por padrão as últimas 5 linhas do DataFrame:"
   ]
  },
  {
   "cell_type": "code",
   "execution_count": 0,
   "metadata": {
    "colab": {},
    "colab_type": "code",
    "id": "RH8r1YOl-xb_"
   },
   "outputs": [],
   "source": [
    "## Visualizando o dataset"
   ]
  },
  {
   "cell_type": "code",
   "execution_count": 0,
   "metadata": {
    "colab": {},
    "colab_type": "code",
    "id": "la8ET9Rv-xcE"
   },
   "outputs": [],
   "source": [
    "## Colunas"
   ]
  },
  {
   "cell_type": "code",
   "execution_count": 0,
   "metadata": {
    "colab": {},
    "colab_type": "code",
    "id": "84pFr56v-xcG"
   },
   "outputs": [],
   "source": [
    "## Excluir colunas que não vão ser utilizadas"
   ]
  },
  {
   "cell_type": "code",
   "execution_count": 0,
   "metadata": {
    "colab": {},
    "colab_type": "code",
    "id": "ZhYwtgBk-xcI"
   },
   "outputs": [],
   "source": [
    "## Ou deixar apenas aquelas que vou utilizar"
   ]
  },
  {
   "cell_type": "markdown",
   "metadata": {
    "colab_type": "text",
    "id": "Gv69GXPP-xcJ"
   },
   "source": [
    "Quantas gerações de pokemons existem em nosso dataset? Você pode verificar a informação usando um método que lista os valores únicos numa coluna:"
   ]
  },
  {
   "cell_type": "code",
   "execution_count": 0,
   "metadata": {
    "colab": {},
    "colab_type": "code",
    "id": "WbFYEWnA-xcJ"
   },
   "outputs": [],
   "source": [
    "## Listando os valores únicos"
   ]
  },
  {
   "cell_type": "markdown",
   "metadata": {
    "colab_type": "text",
    "id": "FC_JMJ6j-xcL"
   },
   "source": [
    "Também parece interessante verificarmos a hegemoneidade da nossa amostra em relação as gerações. Pra tarefas de contar valores podemos sempre aproveitar de outro método disponível, o `.value_counts()`."
   ]
  },
  {
   "cell_type": "code",
   "execution_count": 0,
   "metadata": {
    "colab": {},
    "colab_type": "code",
    "id": "9lQfhvwJ-xcL"
   },
   "outputs": [],
   "source": [
    "## Quantidade de valores para cada geração"
   ]
  },
  {
   "cell_type": "markdown",
   "metadata": {
    "colab_type": "text",
    "id": "EiPcC-xK-xcN"
   },
   "source": [
    "Os valores contados também podem ser normalizados para expressar porcentagens:"
   ]
  },
  {
   "cell_type": "code",
   "execution_count": 0,
   "metadata": {
    "colab": {},
    "colab_type": "code",
    "id": "ZUym7MUJ-xcN"
   },
   "outputs": [],
   "source": [
    "## Quantidade de valores para cada geração (normalizado)"
   ]
  },
  {
   "cell_type": "markdown",
   "metadata": {
    "colab_type": "text",
    "id": "VZ4OWWPx-xcO"
   },
   "source": [
    "Agrupar os dados se baseando em certos critérios é outro processo que o pandas facilita bastante com o `.groupby()`.\n",
    "\n",
    "Abaixo agrupamos o nosso DataFrame pelos valores da coluna `\"generation\"`, e em seguida aplicamos o `.mean()` ou `.agg('mean')` para termos um objeto GroupBy com informação das médias agrupadas pelos valores da coluna geração. "
   ]
  },
  {
   "cell_type": "code",
   "execution_count": 0,
   "metadata": {
    "colab": {},
    "colab_type": "code",
    "id": "hOxfD-CH-xcP"
   },
   "outputs": [],
   "source": [
    "## Agrupando pelas gerações"
   ]
  },
  {
   "cell_type": "markdown",
   "metadata": {
    "colab_type": "text",
    "id": "vH-NocxX-xcQ"
   },
   "source": [
    "É comum queremos aplicar uma função qualquer aos dados, ou à parte deles, neste caso o pandas fornece o método `.apply`. Por exemplo, para deixar os nomes dos pokemons como apenas as suas três primeiras letras:"
   ]
  },
  {
   "cell_type": "code",
   "execution_count": 0,
   "metadata": {
    "colab": {},
    "colab_type": "code",
    "id": "0Pb9eGBB-xcQ"
   },
   "outputs": [],
   "source": [
    "## Aplicação do método apply "
   ]
  },
  {
   "cell_type": "markdown",
   "metadata": {
    "colab_type": "text",
    "id": "PxYGJsWw-xcS"
   },
   "source": [
    "Ou de um jeito mais prático, usando uma função lambda:"
   ]
  },
  {
   "cell_type": "code",
   "execution_count": 0,
   "metadata": {
    "colab": {},
    "colab_type": "code",
    "id": "HTwBlR-b-xcT"
   },
   "outputs": [],
   "source": [
    "## Aplicação do método apply"
   ]
  },
  {
   "cell_type": "markdown",
   "metadata": {
    "colab_type": "text",
    "id": "CmnoWG8D-xcV"
   },
   "source": [
    "Uma das tarefas na qual o pandas é reconhecidamente poderoso é a habilidade de tratar dados incompletos.\n",
    "Por muitos motivos pode haver incompletude no dataset, o `np.nan` é um valor especial definido no Numpy, sigla para Not a Number, o pandas preenche células sem valores em um DataFrame lido com `np.nan`.\n",
    "\n",
    "Vamos criar um novo dataframe usando as 5 primeiras linhas do nosso original, usando o já visto `.head()`. Abaixo é usado o `.replace` para substituir um valor específico por um `NaN`. "
   ]
  },
  {
   "cell_type": "code",
   "execution_count": 0,
   "metadata": {
    "colab": {},
    "colab_type": "code",
    "id": "vJEtNNaA-xcW"
   },
   "outputs": [],
   "source": [
    "## Utilizando o replace()"
   ]
  },
  {
   "cell_type": "markdown",
   "metadata": {
    "colab_type": "text",
    "id": "Ftfz-8Ve-xcY"
   },
   "source": [
    "O pandas simplifica a remoção de quaiquer linhas ou colunas que possuem um `np.nan`, por padrão o `.dropna()` retorna as linhas que não contém um NaN:"
   ]
  },
  {
   "cell_type": "code",
   "execution_count": 0,
   "metadata": {
    "colab": {},
    "colab_type": "code",
    "id": "8Wyp5hLJ-xcY"
   },
   "outputs": [],
   "source": [
    "## Excluindo linhas com nan"
   ]
  },
  {
   "cell_type": "markdown",
   "metadata": {
    "colab_type": "text",
    "id": "aVO1M2-x-xcZ"
   },
   "source": [
    "Preencher todos os valores NaN por um outro específico também é bastante simples:"
   ]
  },
  {
   "cell_type": "code",
   "execution_count": 0,
   "metadata": {
    "colab": {},
    "colab_type": "code",
    "id": "SoglfH2X-xca"
   },
   "outputs": [],
   "source": [
    "## Subistindo valores nan"
   ]
  },
  {
   "cell_type": "markdown",
   "metadata": {
    "colab_type": "text",
    "id": "APQIMr-n-xce"
   },
   "source": [
    "## Visualização de dados com Pandas"
   ]
  },
  {
   "cell_type": "markdown",
   "metadata": {
    "colab_type": "text",
    "id": "Y_0VrE8--xcf"
   },
   "source": [
    "Partiremos agora para visualização de dados com o pandas. Os métodos de visualização do pandas são construídos com base no matplotlib para exploração rápida dos dados.\n",
    "\n",
    "Comecemos verificando que tanto Series como DataFrame possuem um método `.plot()` que também é um atributo e pode ser encadeado para gerar visualização de diversos tipos, como histograma, área, pizza e dispersão, com respectivamente  `.hist()`, `.area()`, `.pie()` e  `.scatter()`, além de vários outros.\n",
    "\n",
    "Vamos verificar a distribuição das velocidades usando o encadeamento `.plot.hist()`:"
   ]
  },
  {
   "cell_type": "code",
   "execution_count": 0,
   "metadata": {
    "colab": {},
    "colab_type": "code",
    "id": "MhTm8hMw-xcf"
   },
   "outputs": [],
   "source": [
    "## Histograma"
   ]
  },
  {
   "cell_type": "markdown",
   "metadata": {
    "colab_type": "text",
    "id": "StFhIyA0-xch"
   },
   "source": [
    "Por padrão esse método usa 10 bins, ou seja, divide os dados em 10 partes, mas é claro que podemos especificar um valor para a plotagem. Abaixo, além de especificar a quantidade de bins, também especifiquei a cor das bordas como preta, que por padrão é transparente."
   ]
  },
  {
   "cell_type": "code",
   "execution_count": 0,
   "metadata": {
    "colab": {},
    "colab_type": "code",
    "id": "Q4gfxeeb-xci"
   },
   "outputs": [],
   "source": [
    "## Histograma"
   ]
  },
  {
   "cell_type": "markdown",
   "metadata": {
    "colab_type": "text",
    "id": "9GuQfog--xck"
   },
   "source": [
    "Podemos usar os valores de contagem de cada geração como exemplo de dado para um plot tanto de barras verticais quando de barras horizontais, para verificar visualmente esses dados:"
   ]
  },
  {
   "cell_type": "code",
   "execution_count": 0,
   "metadata": {
    "colab": {},
    "colab_type": "code",
    "id": "imHA1ysG-xcl"
   },
   "outputs": [],
   "source": [
    "## Gráfico de barras verticais"
   ]
  },
  {
   "cell_type": "code",
   "execution_count": 0,
   "metadata": {
    "colab": {},
    "colab_type": "code",
    "id": "vxJ8UC8u-xco"
   },
   "outputs": [],
   "source": [
    "## Gráfico de barras horizontais"
   ]
  },
  {
   "cell_type": "markdown",
   "metadata": {
    "colab_type": "text",
    "id": "cjAD8do8-xct"
   },
   "source": [
    "Um gráfico de dispersão usando um DataFrame pode ser usado especificando-se quais colunas usar como dados no eixo x e y:"
   ]
  },
  {
   "cell_type": "code",
   "execution_count": 0,
   "metadata": {
    "colab": {},
    "colab_type": "code",
    "id": "kZvjJZww-xct"
   },
   "outputs": [],
   "source": [
    "## Gráfico de dispersão"
   ]
  },
  {
   "cell_type": "markdown",
   "metadata": {
    "colab_type": "text",
    "id": "P8tciEqG-xcv"
   },
   "source": [
    "A coluna `is_legendary` diz se o pokémon é legendário ou não, também se pode ver a contagem e distribuição usando outros métodos de plotagem oferecidos pelo pandas:"
   ]
  },
  {
   "cell_type": "code",
   "execution_count": 0,
   "metadata": {
    "colab": {},
    "colab_type": "code",
    "id": "Hnc_MkdM-xcv"
   },
   "outputs": [],
   "source": [
    "## Gráfico de pizza"
   ]
  },
  {
   "cell_type": "markdown",
   "metadata": {
    "colab_type": "text",
    "id": "eQrlwo9A-xcw"
   },
   "source": [
    "## Salvando DataFrame "
   ]
  },
  {
   "cell_type": "markdown",
   "metadata": {
    "colab_type": "text",
    "id": "dOnImuBE-xcx"
   },
   "source": [
    "Finalmente, a tarefa de salvar seu DataFrame externamente para um formato específico é feita com a mesma simplicidade que a leitura de dados é feita no pandas, pode-se usar, por exemplo, o método `to_csv`, e o arquivo será criado com os dados do DataFrame:"
   ]
  },
  {
   "cell_type": "code",
   "execution_count": 0,
   "metadata": {
    "colab": {},
    "colab_type": "code",
    "id": "1wz0YN1i-xcx"
   },
   "outputs": [],
   "source": [
    "## Salvando um novo DataFrame no computador"
   ]
  }
 ],
 "metadata": {
  "colab": {
   "name": "minicurso_pandas.ipynb",
   "provenance": [],
   "toc_visible": true
  },
  "kernelspec": {
   "display_name": "Python 3",
   "language": "python",
   "name": "python3"
  },
  "language_info": {
   "codemirror_mode": {
    "name": "ipython",
    "version": 3
   },
   "file_extension": ".py",
   "mimetype": "text/x-python",
   "name": "python",
   "nbconvert_exporter": "python",
   "pygments_lexer": "ipython3",
   "version": "3.7.3"
  }
 },
 "nbformat": 4,
 "nbformat_minor": 1
}
