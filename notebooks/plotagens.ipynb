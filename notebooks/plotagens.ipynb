{
 "cells": [
  {
   "cell_type": "markdown",
   "metadata": {},
   "source": [
    "## Imports"
   ]
  },
  {
   "cell_type": "code",
   "execution_count": 1,
   "metadata": {},
   "outputs": [],
   "source": [
    "import matplotlib.pyplot as plt\n",
    "import pandas as pd\n",
    "import numpy as np\n",
    "import plotly.express as px\n",
    "from bs4 import BeautifulSoup"
   ]
  },
  {
   "cell_type": "markdown",
   "metadata": {},
   "source": [
    "### Carrega o arquivo 'remuneracao_servidores.csv' e cria um DataFrame a partir dele."
   ]
  },
  {
   "cell_type": "code",
   "execution_count": 2,
   "metadata": {},
   "outputs": [],
   "source": [
    "file_path = '../ds/remuneracao_servidores.csv'\n",
    "rem_org = pd.read_csv(file_path, sep=',', header=0, decimal='.')\n",
    "\n",
    "try:       \n",
    "    rem_org.drop('Unnamed: 0', axis=1, inplace=True)\n",
    "except:\n",
    "    print(\"no unnamed column.\")\n",
    "        \n",
    "rem_org = rem_org.sort_values(by=['ORGAO', 'ANO', 'MES'])\n",
    " \n",
    "orgaos = rem_org[\"ORGAO\"].drop_duplicates()\n",
    "anos = rem_org[\"ANO\"].drop_duplicates().sort_values(ascending=False)\n",
    "meses = rem_org[\"MES\"].drop_duplicates()\n",
    "\n",
    "# Retira espaço inicial\n",
    "rem_org.rename(columns={' REMUNERACAO LEGAL DEVIDA(R$)' : 'REMUNERACAO LEGAL DEVIDA(R$)'}, inplace=True)"
   ]
  },
  {
   "cell_type": "markdown",
   "metadata": {},
   "source": [
    "# Plotagens"
   ]
  },
  {
   "cell_type": "markdown",
   "metadata": {},
   "source": [
    "## Órgãos que mais gastam\n",
    "### Remuneração Total por Mês"
   ]
  },
  {
   "cell_type": "code",
   "execution_count": 27,
   "metadata": {},
   "outputs": [
    {
     "data": {
      "application/vnd.plotly.v1+json": {
       "config": {
        "plotlyServerURL": "https://plot.ly"
       },
       "data": [
        {
         "hoverlabel": {
          "namelength": 0
         },
         "hovertemplate": "ORGAO=ADAF<br>MES=%{x}<br>REMUNERACAO LEGAL TOTAL(R$)=%{y}",
         "legendgroup": "ADAF",
         "line": {
          "color": "#636efa",
          "dash": "solid"
         },
         "mode": "lines",
         "name": "ADAF",
         "showlegend": true,
         "type": "scatter",
         "x": [
          1,
          2,
          3,
          4,
          5,
          6,
          7,
          8,
          9,
          10,
          11,
          12,
          13
         ],
         "xaxis": "x",
         "y": [
          783836.3499999992,
          713569.6199999995,
          709056.1499999993,
          693708.2399999993,
          718558.9399999991,
          718053.8399999997,
          700705.9499999995,
          696430.8499999996,
          709558.1999999995,
          688298.3799999995,
          717311.3399999999,
          700864.9599999996,
          700864.9599999996
         ],
         "yaxis": "y"
        },
        {
         "hoverlabel": {
          "namelength": 0
         },
         "hovertemplate": "ORGAO=ADS<br>MES=%{x}<br>REMUNERACAO LEGAL TOTAL(R$)=%{y}",
         "legendgroup": "ADS",
         "line": {
          "color": "#EF553B",
          "dash": "solid"
         },
         "mode": "lines",
         "name": "ADS",
         "showlegend": true,
         "type": "scatter",
         "x": [
          1,
          2,
          3,
          4,
          5,
          6,
          7,
          8,
          9,
          10,
          11,
          12,
          13
         ],
         "xaxis": "x",
         "y": [
          222616.05999999994,
          227717.38999999996,
          339062.73999999993,
          239169.01999999993,
          235520.03999999995,
          233517.69999999995,
          230149.5,
          230583.68999999997,
          234778.64999999997,
          224177.25999999998,
          300995.9599999999,
          279203.9599999999,
          279203.9599999999
         ],
         "yaxis": "y"
        },
        {
         "hoverlabel": {
          "namelength": 0
         },
         "hovertemplate": "ORGAO=ALFREDO DA MATA<br>MES=%{x}<br>REMUNERACAO LEGAL TOTAL(R$)=%{y}",
         "legendgroup": "ALFREDO DA MATA",
         "line": {
          "color": "#00cc96",
          "dash": "solid"
         },
         "mode": "lines",
         "name": "ALFREDO DA MATA",
         "showlegend": true,
         "type": "scatter",
         "x": [
          1,
          2,
          3,
          4,
          5,
          6,
          7,
          8,
          9,
          10,
          11,
          12,
          13
         ],
         "xaxis": "x",
         "y": [
          1406522.0299999998,
          1454863.8200000003,
          1452114.3100000005,
          1484625.6099999996,
          1433680.7700000003,
          1482538.0200000003,
          1525665.4300000018,
          1513010.1000000013,
          1484529.4600000004,
          1477160.7100000014,
          1560002.1700000018,
          1528746.3300000017,
          1528746.3300000017
         ],
         "yaxis": "y"
        },
        {
         "hoverlabel": {
          "namelength": 0
         },
         "hovertemplate": "ORGAO=AMAZONPREV<br>MES=%{x}<br>REMUNERACAO LEGAL TOTAL(R$)=%{y}",
         "legendgroup": "AMAZONPREV",
         "line": {
          "color": "#ab63fa",
          "dash": "solid"
         },
         "mode": "lines",
         "name": "AMAZONPREV",
         "showlegend": true,
         "type": "scatter",
         "x": [
          1,
          2,
          3,
          4,
          5,
          6,
          7,
          8,
          9,
          10,
          11,
          12,
          13
         ],
         "xaxis": "x",
         "y": [
          117640296.10000172,
          121811764.8800018,
          119014120.89000182,
          121418965.00000224,
          122018525.73000231,
          129098614.09000356,
          126198278.04000047,
          129711790.95000014,
          130547447.66000012,
          131184694.1300001,
          131780550.07000023,
          129340534.95000012,
          129340534.95000012
         ],
         "yaxis": "y"
        },
        {
         "hoverlabel": {
          "namelength": 0
         },
         "hovertemplate": "ORGAO=ARSAM<br>MES=%{x}<br>REMUNERACAO LEGAL TOTAL(R$)=%{y}",
         "legendgroup": "ARSAM",
         "line": {
          "color": "#FFA15A",
          "dash": "solid"
         },
         "mode": "lines",
         "name": "ARSAM",
         "showlegend": true,
         "type": "scatter",
         "x": [
          1,
          2,
          3,
          4,
          5,
          6,
          7,
          8,
          9,
          10,
          11,
          12,
          13
         ],
         "xaxis": "x",
         "y": [
          382756.0800000002,
          459376.62000000017,
          347094.89999999997,
          363179.51999999996,
          438815.2100000001,
          388618.66000000003,
          353026.42999999993,
          365190.31999999995,
          356846.3599999999,
          353439.8299999999,
          417257.0999999999,
          402102.0099999999,
          402102.0099999999
         ],
         "yaxis": "y"
        },
        {
         "hoverlabel": {
          "namelength": 0
         },
         "hovertemplate": "ORGAO=CASA CIVIL DO GOVERNO<br>MES=%{x}<br>REMUNERACAO LEGAL TOTAL(R$)=%{y}",
         "legendgroup": "CASA CIVIL DO GOVERNO",
         "line": {
          "color": "#19d3f3",
          "dash": "solid"
         },
         "mode": "lines",
         "name": "CASA CIVIL DO GOVERNO",
         "showlegend": true,
         "type": "scatter",
         "x": [
          1,
          2,
          3,
          4,
          5,
          6,
          7,
          8,
          9,
          10,
          11,
          12,
          13
         ],
         "xaxis": "x",
         "y": [
          3697166.600000002,
          3809467.490000001,
          3212216.8000000003,
          3029253.280000001,
          2946614.16,
          2952384.0400000014,
          3073182.390000002,
          3056199.6800000016,
          3047432.5000000014,
          3087083.2600000016,
          3536879.2000000007,
          3521420.8500000006,
          3521420.8500000006
         ],
         "yaxis": "y"
        },
        {
         "hoverlabel": {
          "namelength": 0
         },
         "hovertemplate": "ORGAO=CASA MILITAR<br>MES=%{x}<br>REMUNERACAO LEGAL TOTAL(R$)=%{y}",
         "legendgroup": "CASA MILITAR",
         "line": {
          "color": "#FF6692",
          "dash": "solid"
         },
         "mode": "lines",
         "name": "CASA MILITAR",
         "showlegend": true,
         "type": "scatter",
         "x": [
          1,
          2,
          3,
          4,
          5,
          6,
          7,
          8,
          9,
          10,
          11,
          12,
          13
         ],
         "xaxis": "x",
         "y": [
          332053.8499999999,
          465838.86,
          503659.6,
          474410.71,
          463391.14,
          473377.77999999997,
          470891.12,
          467083.12,
          570100.83,
          544579.56,
          601349.7500000001,
          613053.18,
          613053.18
         ],
         "yaxis": "y"
        },
        {
         "hoverlabel": {
          "namelength": 0
         },
         "hovertemplate": "ORGAO=CB-CIVIS<br>MES=%{x}<br>REMUNERACAO LEGAL TOTAL(R$)=%{y}",
         "legendgroup": "CB-CIVIS",
         "line": {
          "color": "#B6E880",
          "dash": "solid"
         },
         "mode": "lines",
         "name": "CB-CIVIS",
         "showlegend": true,
         "type": "scatter",
         "x": [
          1,
          2,
          3,
          4,
          5,
          6,
          7,
          8,
          9,
          10,
          11,
          12,
          13
         ],
         "xaxis": "x",
         "y": [
          195509.61999999994,
          136580.53999999998,
          154820.73999999996,
          142905.95999999996,
          148443.36000000002,
          139315.96,
          139855.96,
          158432.63000000003,
          145145.72999999998,
          145705.72999999998,
          147758.91999999998,
          145705.72999999998,
          145705.72999999998
         ],
         "yaxis": "y"
        },
        {
         "hoverlabel": {
          "namelength": 0
         },
         "hovertemplate": "ORGAO=CETAM<br>MES=%{x}<br>REMUNERACAO LEGAL TOTAL(R$)=%{y}",
         "legendgroup": "CETAM",
         "line": {
          "color": "#FF97FF",
          "dash": "solid"
         },
         "mode": "lines",
         "name": "CETAM",
         "showlegend": true,
         "type": "scatter",
         "x": [
          1,
          2,
          3,
          4,
          5,
          6,
          7,
          8,
          9,
          10,
          11,
          12,
          13
         ],
         "xaxis": "x",
         "y": [
          556682.3599999998,
          724530.6599999997,
          601328.0300000001,
          711372.3199999998,
          645583.0700000001,
          669868.21,
          669608.8799999998,
          665514.03,
          662491.73,
          661015.4299999999,
          711737.39,
          697426.0399999998,
          697426.0399999998
         ],
         "yaxis": "y"
        },
        {
         "hoverlabel": {
          "namelength": 0
         },
         "hovertemplate": "ORGAO=CGE<br>MES=%{x}<br>REMUNERACAO LEGAL TOTAL(R$)=%{y}",
         "legendgroup": "CGE",
         "line": {
          "color": "#FECB52",
          "dash": "solid"
         },
         "mode": "lines",
         "name": "CGE",
         "showlegend": true,
         "type": "scatter",
         "x": [
          1,
          2,
          3,
          4,
          5,
          6,
          7,
          8,
          9,
          10,
          11,
          12,
          13
         ],
         "xaxis": "x",
         "y": [
          336305.8599999999,
          424909.89999999973,
          348555.2799999998,
          334698.4199999998,
          338903.6599999998,
          337439.63999999984,
          340876.90999999986,
          332249.87999999983,
          335318.9899999998,
          342883.12999999983,
          387545.15999999986,
          382120.2199999998,
          382120.2199999998
         ],
         "yaxis": "y"
        },
        {
         "hoverlabel": {
          "namelength": 0
         },
         "hovertemplate": "ORGAO=FAPEAM<br>MES=%{x}<br>REMUNERACAO LEGAL TOTAL(R$)=%{y}",
         "legendgroup": "FAPEAM",
         "line": {
          "color": "#636efa",
          "dash": "solid"
         },
         "mode": "lines",
         "name": "FAPEAM",
         "showlegend": true,
         "type": "scatter",
         "x": [
          1,
          2,
          3,
          4,
          5,
          6,
          7,
          8,
          9,
          10,
          11,
          12,
          13
         ],
         "xaxis": "x",
         "y": [
          234002.13999999998,
          148652.13999999998,
          166137.07,
          126580.94,
          141675.36999999997,
          184762.69999999995,
          159387.72,
          152089.59,
          143650.62000000002,
          149952.24,
          152533.69999999998,
          166940.87000000002,
          166940.87000000002
         ],
         "yaxis": "y"
        },
        {
         "hoverlabel": {
          "namelength": 0
         },
         "hovertemplate": "ORGAO=FCECON<br>MES=%{x}<br>REMUNERACAO LEGAL TOTAL(R$)=%{y}",
         "legendgroup": "FCECON",
         "line": {
          "color": "#EF553B",
          "dash": "solid"
         },
         "mode": "lines",
         "name": "FCECON",
         "showlegend": true,
         "type": "scatter",
         "x": [
          1,
          2,
          3,
          4,
          5,
          6,
          7,
          8,
          9,
          10,
          11,
          12,
          13
         ],
         "xaxis": "x",
         "y": [
          2256288.519999999,
          2259992.0500000003,
          2447915.4400000023,
          2372267.4200000027,
          2334745.2400000007,
          2300596.2799999993,
          2474049.39,
          2420188.6299999976,
          2428025.429999998,
          2398598.489999998,
          2368679.03,
          2371214.9899999993,
          2371214.9899999993
         ],
         "yaxis": "y"
        },
        {
         "hoverlabel": {
          "namelength": 0
         },
         "hovertemplate": "ORGAO=FEI<br>MES=%{x}<br>REMUNERACAO LEGAL TOTAL(R$)=%{y}",
         "legendgroup": "FEI",
         "line": {
          "color": "#00cc96",
          "dash": "solid"
         },
         "mode": "lines",
         "name": "FEI",
         "showlegend": true,
         "type": "scatter",
         "x": [
          2,
          3,
          4,
          5,
          6
         ],
         "xaxis": "x",
         "y": [
          175211.16000000003,
          239393.26,
          117671.09000000001,
          80863.78,
          96797.01
         ],
         "yaxis": "y"
        },
        {
         "hoverlabel": {
          "namelength": 0
         },
         "hovertemplate": "ORGAO=FHEMOAM<br>MES=%{x}<br>REMUNERACAO LEGAL TOTAL(R$)=%{y}",
         "legendgroup": "FHEMOAM",
         "line": {
          "color": "#ab63fa",
          "dash": "solid"
         },
         "mode": "lines",
         "name": "FHEMOAM",
         "showlegend": true,
         "type": "scatter",
         "x": [
          1,
          2,
          3,
          4,
          5,
          6,
          7,
          8,
          9,
          10,
          11,
          12,
          13
         ],
         "xaxis": "x",
         "y": [
          1760647.97,
          1714632.970000001,
          2064596.67,
          1826527.4200000013,
          1827782.400000001,
          1967679.9999999993,
          2087306.0500000012,
          2071434.7200000007,
          2062843.8400000008,
          2055401.5200000014,
          2120285.8800000013,
          2081558.6900000013,
          2081558.6900000013
         ],
         "yaxis": "y"
        },
        {
         "hoverlabel": {
          "namelength": 0
         },
         "hovertemplate": "ORGAO=FMT-AM<br>MES=%{x}<br>REMUNERACAO LEGAL TOTAL(R$)=%{y}",
         "legendgroup": "FMT-AM",
         "line": {
          "color": "#FFA15A",
          "dash": "solid"
         },
         "mode": "lines",
         "name": "FMT-AM",
         "showlegend": true,
         "type": "scatter",
         "x": [
          1,
          2,
          3,
          4,
          5,
          6,
          7,
          8,
          9,
          10,
          11,
          12,
          13
         ],
         "xaxis": "x",
         "y": [
          2879182.8500000047,
          2749401.0400000038,
          2683190.3100000024,
          2699177.2500000023,
          2700329.4300000034,
          2697299.900000001,
          2798039.889999999,
          2786729.23,
          2770845.5499999993,
          2761671.79,
          2828146.8299999977,
          2759851.739999999,
          2759851.739999999
         ],
         "yaxis": "y"
        },
        {
         "hoverlabel": {
          "namelength": 0
         },
         "hovertemplate": "ORGAO=FVS<br>MES=%{x}<br>REMUNERACAO LEGAL TOTAL(R$)=%{y}",
         "legendgroup": "FVS",
         "line": {
          "color": "#19d3f3",
          "dash": "solid"
         },
         "mode": "lines",
         "name": "FVS",
         "showlegend": true,
         "type": "scatter",
         "x": [
          1,
          2,
          3,
          4,
          5,
          6,
          7,
          8,
          9,
          10,
          11,
          12,
          13
         ],
         "xaxis": "x",
         "y": [
          4725361.51999995,
          4416363.039999941,
          4395167.149999937,
          4533118.159999931,
          4523402.079999937,
          4605473.1599999415,
          4794338.010000001,
          4739467.050000004,
          4755125.370000003,
          4790286.26,
          4707753.640000002,
          4756676.770000003,
          4756676.770000003
         ],
         "yaxis": "y"
        },
        {
         "hoverlabel": {
          "namelength": 0
         },
         "hovertemplate": "ORGAO=IDAM<br>MES=%{x}<br>REMUNERACAO LEGAL TOTAL(R$)=%{y}",
         "legendgroup": "IDAM",
         "line": {
          "color": "#FF6692",
          "dash": "solid"
         },
         "mode": "lines",
         "name": "IDAM",
         "showlegend": true,
         "type": "scatter",
         "x": [
          1,
          2,
          3,
          4,
          5,
          6,
          7,
          8,
          9,
          10,
          11,
          12,
          13
         ],
         "xaxis": "x",
         "y": [
          1999846.7400000023,
          1852092.6200000017,
          1961591.0500000014,
          1795946.5900000015,
          2011954.9500000023,
          1861851.150000002,
          1875645.8900000018,
          1797495.4100000018,
          1772551.6500000018,
          1780015.110000002,
          1799373.6900000018,
          1772023.9400000013,
          1772023.9400000013
         ],
         "yaxis": "y"
        },
        {
         "hoverlabel": {
          "namelength": 0
         },
         "hovertemplate": "ORGAO=IMPRENSA OFICIAL<br>MES=%{x}<br>REMUNERACAO LEGAL TOTAL(R$)=%{y}",
         "legendgroup": "IMPRENSA OFICIAL",
         "line": {
          "color": "#B6E880",
          "dash": "solid"
         },
         "mode": "lines",
         "name": "IMPRENSA OFICIAL",
         "showlegend": true,
         "type": "scatter",
         "x": [
          1,
          2,
          3,
          4,
          5,
          6,
          7,
          8,
          9,
          10,
          11,
          12,
          13
         ],
         "xaxis": "x",
         "y": [
          326994.04999999993,
          342426.16000000015,
          308708.40999999986,
          302042.92999999993,
          317658.18999999994,
          296506.5099999999,
          327101.63,
          310078.4099999999,
          308392.12,
          296229.81000000006,
          347628.3,
          496464.03000000044,
          496464.03000000044
         ],
         "yaxis": "y"
        },
        {
         "hoverlabel": {
          "namelength": 0
         },
         "hovertemplate": "ORGAO=IPAAM<br>MES=%{x}<br>REMUNERACAO LEGAL TOTAL(R$)=%{y}",
         "legendgroup": "IPAAM",
         "line": {
          "color": "#FF97FF",
          "dash": "solid"
         },
         "mode": "lines",
         "name": "IPAAM",
         "showlegend": true,
         "type": "scatter",
         "x": [
          1,
          2,
          3,
          4,
          5,
          6,
          7,
          8,
          9,
          10,
          11,
          12,
          13
         ],
         "xaxis": "x",
         "y": [
          1475819.0800000008,
          1338185.5500000007,
          1313307.0100000007,
          1338907.7800000012,
          1329024.5700000012,
          1293180.5900000008,
          1281592.0400000007,
          1311087.250000001,
          1296905.8000000007,
          1278114.0600000012,
          1355380.070000001,
          1329677.7000000014,
          1329677.7000000014
         ],
         "yaxis": "y"
        },
        {
         "hoverlabel": {
          "namelength": 0
         },
         "hovertemplate": "ORGAO=PENSIONISTAS<br>MES=%{x}<br>REMUNERACAO LEGAL TOTAL(R$)=%{y}",
         "legendgroup": "PENSIONISTAS",
         "line": {
          "color": "#FECB52",
          "dash": "solid"
         },
         "mode": "lines",
         "name": "PENSIONISTAS",
         "showlegend": true,
         "type": "scatter",
         "x": [
          1,
          2,
          3,
          4,
          5,
          6,
          7,
          8,
          9,
          10,
          11,
          12,
          13
         ],
         "xaxis": "x",
         "y": [
          33038491.209999952,
          34384620.0399999,
          33153473.029999938,
          33444114.24999995,
          33734078.74999993,
          33870614.70999994,
          33712955.009999976,
          33926288.61999996,
          33981054.799999945,
          34179660.62999993,
          34265900.34999995,
          34170302.949999936,
          34170302.949999936
         ],
         "yaxis": "y"
        },
        {
         "hoverlabel": {
          "namelength": 0
         },
         "hovertemplate": "ORGAO=PM-ATIVOS<br>MES=%{x}<br>REMUNERACAO LEGAL TOTAL(R$)=%{y}",
         "legendgroup": "PM-ATIVOS",
         "line": {
          "color": "#636efa",
          "dash": "solid"
         },
         "mode": "lines",
         "name": "PM-ATIVOS",
         "showlegend": true,
         "type": "scatter",
         "x": [
          1,
          2,
          3,
          4,
          5,
          6,
          7,
          8,
          9,
          10,
          11,
          12,
          13
         ],
         "xaxis": "x",
         "y": [
          76820362.4400019,
          70868566.42000155,
          70590712.12000175,
          77119609.24000144,
          78997008.85000108,
          79868509.45000029,
          78493458.740001,
          82945293.14000037,
          83981811.13000032,
          83422465.97000015,
          83965176.30000028,
          81923841.8700001,
          81923841.8700001
         ],
         "yaxis": "y"
        },
        {
         "hoverlabel": {
          "namelength": 0
         },
         "hovertemplate": "ORGAO=PM-CIVIS<br>MES=%{x}<br>REMUNERACAO LEGAL TOTAL(R$)=%{y}",
         "legendgroup": "PM-CIVIS",
         "line": {
          "color": "#EF553B",
          "dash": "solid"
         },
         "mode": "lines",
         "name": "PM-CIVIS",
         "showlegend": true,
         "type": "scatter",
         "x": [
          1,
          2,
          3,
          4,
          5,
          6,
          7,
          8,
          9,
          10,
          11,
          12,
          13
         ],
         "xaxis": "x",
         "y": [
          530463.7400000002,
          407637.39000000013,
          410789.79000000027,
          427847.9000000003,
          393362.9900000002,
          407336.0200000002,
          414226.66000000027,
          405303.3300000002,
          407781.60000000015,
          420982.6800000002,
          404943.4500000002,
          409576.6300000002,
          409576.6300000002
         ],
         "yaxis": "y"
        },
        {
         "hoverlabel": {
          "namelength": 0
         },
         "hovertemplate": "ORGAO=POLICIA CIVIL<br>MES=%{x}<br>REMUNERACAO LEGAL TOTAL(R$)=%{y}",
         "legendgroup": "POLICIA CIVIL",
         "line": {
          "color": "#00cc96",
          "dash": "solid"
         },
         "mode": "lines",
         "name": "POLICIA CIVIL",
         "showlegend": true,
         "type": "scatter",
         "x": [
          1,
          2,
          3,
          4,
          5,
          6,
          7,
          8,
          9,
          10,
          11,
          12,
          13
         ],
         "xaxis": "x",
         "y": [
          44318443.10999986,
          59679843.40999995,
          43214318.30999988,
          43109017.83999986,
          44165270.72999984,
          44027534.86999982,
          43679951.25999983,
          44111011.39999993,
          43375995.94999997,
          43284402.94999993,
          43492337.05000003,
          42002100.43999988,
          42002100.43999988
         ],
         "yaxis": "y"
        },
        {
         "hoverlabel": {
          "namelength": 0
         },
         "hovertemplate": "ORGAO=SEAD<br>MES=%{x}<br>REMUNERACAO LEGAL TOTAL(R$)=%{y}",
         "legendgroup": "SEAD",
         "line": {
          "color": "#ab63fa",
          "dash": "solid"
         },
         "mode": "lines",
         "name": "SEAD",
         "showlegend": true,
         "type": "scatter",
         "x": [
          1,
          2,
          3,
          4,
          5,
          6,
          7,
          8,
          9,
          10,
          11,
          12,
          13
         ],
         "xaxis": "x",
         "y": [
          1865989.0600000015,
          1617287.3700000008,
          1720637.3700000008,
          1642259.9300000002,
          1645287.3599999994,
          1628347.0999999992,
          1612555.4099999997,
          1630010.26,
          1576325.7,
          1558784.5199999998,
          1577232.7299999997,
          1554537.5100000005,
          1554537.5100000005
         ],
         "yaxis": "y"
        },
        {
         "hoverlabel": {
          "namelength": 0
         },
         "hovertemplate": "ORGAO=SEAD-PENSÃO ESPECIAL I<br>MES=%{x}<br>REMUNERACAO LEGAL TOTAL(R$)=%{y}",
         "legendgroup": "SEAD-PENSÃO ESPECIAL I",
         "line": {
          "color": "#FFA15A",
          "dash": "solid"
         },
         "mode": "lines",
         "name": "SEAD-PENSÃO ESPECIAL I",
         "showlegend": true,
         "type": "scatter",
         "x": [
          1,
          2,
          3,
          4,
          5,
          6,
          7
         ],
         "xaxis": "x",
         "y": [
          333834.82,
          387174.59999999986,
          411816.8500000001,
          412011.0500000001,
          386761.60000000003,
          386255.27999999997,
          351625.64
         ],
         "yaxis": "y"
        },
        {
         "hoverlabel": {
          "namelength": 0
         },
         "hovertemplate": "ORGAO=SEAD-PENSÃO ESPECIAL II<br>MES=%{x}<br>REMUNERACAO LEGAL TOTAL(R$)=%{y}",
         "legendgroup": "SEAD-PENSÃO ESPECIAL II",
         "line": {
          "color": "#19d3f3",
          "dash": "solid"
         },
         "mode": "lines",
         "name": "SEAD-PENSÃO ESPECIAL II",
         "showlegend": true,
         "type": "scatter",
         "x": [
          1,
          2,
          3,
          4,
          5,
          6,
          7,
          8,
          9,
          10
         ],
         "xaxis": "x",
         "y": [
          221132.08,
          221132.08,
          221132.08,
          221132.08,
          221132.08,
          221132.08,
          221132.08,
          212785.87999999998,
          212785.87999999998,
          212785.87999999998
         ],
         "yaxis": "y"
        },
        {
         "hoverlabel": {
          "namelength": 0
         },
         "hovertemplate": "ORGAO=SEAD-PENSÃO HANSENIANOS<br>MES=%{x}<br>REMUNERACAO LEGAL TOTAL(R$)=%{y}",
         "legendgroup": "SEAD-PENSÃO HANSENIANOS",
         "line": {
          "color": "#FF6692",
          "dash": "solid"
         },
         "mode": "lines",
         "name": "SEAD-PENSÃO HANSENIANOS",
         "showlegend": true,
         "type": "scatter",
         "x": [
          1,
          2,
          3,
          4,
          5,
          6,
          7,
          8,
          9,
          10
         ],
         "xaxis": "x",
         "y": [
          1664730,
          1661868,
          1678086,
          1687626,
          1686672,
          1700028,
          1891792,
          1890560,
          1882702,
          1903595.5999999994
         ],
         "yaxis": "y"
        },
        {
         "hoverlabel": {
          "namelength": 0
         },
         "hovertemplate": "ORGAO=SEAP<br>MES=%{x}<br>REMUNERACAO LEGAL TOTAL(R$)=%{y}",
         "legendgroup": "SEAP",
         "line": {
          "color": "#B6E880",
          "dash": "solid"
         },
         "mode": "lines",
         "name": "SEAP",
         "showlegend": true,
         "type": "scatter",
         "x": [
          1,
          2,
          3,
          4,
          5,
          6,
          7,
          8,
          9
         ],
         "xaxis": "x",
         "y": [
          2024566.7300000032,
          1687150.630000004,
          1655642.6300000036,
          1689040.8800000043,
          1652624.5800000033,
          1611793.5400000035,
          1665269.7700000037,
          1617168.2100000037,
          1662798.950000004
         ],
         "yaxis": "y"
        },
        {
         "hoverlabel": {
          "namelength": 0
         },
         "hovertemplate": "ORGAO=SEC<br>MES=%{x}<br>REMUNERACAO LEGAL TOTAL(R$)=%{y}",
         "legendgroup": "SEC",
         "line": {
          "color": "#FF97FF",
          "dash": "solid"
         },
         "mode": "lines",
         "name": "SEC",
         "showlegend": true,
         "type": "scatter",
         "x": [
          1,
          2,
          3,
          4,
          5,
          6,
          7,
          8,
          10,
          11,
          12,
          13
         ],
         "xaxis": "x",
         "y": [
          1227645.380000002,
          1085610.560000001,
          1225832.1600000013,
          1186381.1900000018,
          1174776.4100000013,
          1155446.5300000017,
          1123120.1600000008,
          1166997.9500000016,
          1147263.330000002,
          1201414.2900000017,
          1187686.6000000027,
          1187686.6000000027
         ],
         "yaxis": "y"
        },
        {
         "hoverlabel": {
          "namelength": 0
         },
         "hovertemplate": "ORGAO=SECOM<br>MES=%{x}<br>REMUNERACAO LEGAL TOTAL(R$)=%{y}",
         "legendgroup": "SECOM",
         "line": {
          "color": "#FECB52",
          "dash": "solid"
         },
         "mode": "lines",
         "name": "SECOM",
         "showlegend": true,
         "type": "scatter",
         "x": [
          1,
          2,
          3,
          4,
          5,
          6,
          7,
          8,
          9,
          10,
          11,
          12,
          13
         ],
         "xaxis": "x",
         "y": [
          406354.54,
          330257.27000000014,
          325377.8900000001,
          324942.1600000001,
          333866.00000000006,
          329631.0400000001,
          331206.8100000001,
          319180.07000000007,
          354203.75,
          324999.8100000001,
          369996.94,
          756986.9600000002,
          756986.9600000002
         ],
         "yaxis": "y"
        },
        {
         "hoverlabel": {
          "namelength": 0
         },
         "hovertemplate": "ORGAO=SEDUC<br>MES=%{x}<br>REMUNERACAO LEGAL TOTAL(R$)=%{y}",
         "legendgroup": "SEDUC",
         "line": {
          "color": "#636efa",
          "dash": "solid"
         },
         "mode": "lines",
         "name": "SEDUC",
         "showlegend": true,
         "type": "scatter",
         "x": [
          1,
          2,
          3,
          4,
          5,
          6,
          7,
          8,
          10,
          11,
          12,
          13
         ],
         "xaxis": "x",
         "y": [
          103898497.32001008,
          102526052.39000809,
          104848461.18000872,
          112780215.49000862,
          108734873.33000842,
          130854814.38999934,
          117553607.90001108,
          119049099.54001041,
          115217241.91000976,
          114842929.42001,
          115568613.22001006,
          115568613.22001006
         ],
         "yaxis": "y"
        },
        {
         "hoverlabel": {
          "namelength": 0
         },
         "hovertemplate": "ORGAO=SEJEL<br>MES=%{x}<br>REMUNERACAO LEGAL TOTAL(R$)=%{y}",
         "legendgroup": "SEJEL",
         "line": {
          "color": "#EF553B",
          "dash": "solid"
         },
         "mode": "lines",
         "name": "SEJEL",
         "showlegend": true,
         "type": "scatter",
         "x": [
          1,
          2,
          3,
          4,
          5,
          6,
          7,
          8,
          9,
          10
         ],
         "xaxis": "x",
         "y": [
          850028.9100000001,
          799553.5599999997,
          615481.8600000002,
          689076.5500000004,
          673864.8900000004,
          664138.5200000001,
          690047.9800000004,
          642283.9800000003,
          656138.2300000003,
          652449.0200000005
         ],
         "yaxis": "y"
        },
        {
         "hoverlabel": {
          "namelength": 0
         },
         "hovertemplate": "ORGAO=SEJUSC<br>MES=%{x}<br>REMUNERACAO LEGAL TOTAL(R$)=%{y}",
         "legendgroup": "SEJUSC",
         "line": {
          "color": "#00cc96",
          "dash": "solid"
         },
         "mode": "lines",
         "name": "SEJUSC",
         "showlegend": true,
         "type": "scatter",
         "x": [
          1,
          2,
          3,
          4,
          5,
          6,
          7,
          8,
          9,
          10,
          11,
          12,
          13
         ],
         "xaxis": "x",
         "y": [
          1258247.0800000022,
          1150793.250000001,
          1213000.1400000025,
          1155268.1000000031,
          1101092.4500000027,
          1038327.5400000022,
          1234744.380000003,
          1130367.570000003,
          1170070.7700000035,
          1136919.3000000035,
          1307299.5600000047,
          1564834.550000004,
          1564834.550000004
         ],
         "yaxis": "y"
        },
        {
         "hoverlabel": {
          "namelength": 0
         },
         "hovertemplate": "ORGAO=SEMA<br>MES=%{x}<br>REMUNERACAO LEGAL TOTAL(R$)=%{y}",
         "legendgroup": "SEMA",
         "line": {
          "color": "#ab63fa",
          "dash": "solid"
         },
         "mode": "lines",
         "name": "SEMA",
         "showlegend": true,
         "type": "scatter",
         "x": [
          1,
          2,
          3,
          4,
          5,
          6,
          7,
          8,
          9,
          10,
          11,
          12,
          13
         ],
         "xaxis": "x",
         "y": [
          480527.41999999975,
          372672.15999999986,
          407483.4499999998,
          410888.1699999998,
          436145.0099999998,
          424965.31999999983,
          416205.75999999983,
          418032.9499999998,
          413099.2399999998,
          408456.1799999998,
          448146.3899999998,
          447385.9199999997,
          447385.9199999997
         ],
         "yaxis": "y"
        },
        {
         "hoverlabel": {
          "namelength": 0
         },
         "hovertemplate": "ORGAO=SEPED<br>MES=%{x}<br>REMUNERACAO LEGAL TOTAL(R$)=%{y}",
         "legendgroup": "SEPED",
         "line": {
          "color": "#FFA15A",
          "dash": "solid"
         },
         "mode": "lines",
         "name": "SEPED",
         "showlegend": true,
         "type": "scatter",
         "x": [
          6,
          7,
          8,
          9,
          10
         ],
         "xaxis": "x",
         "y": [
          158535.40999999997,
          149046.7,
          140249.99,
          150516.55,
          140249.99
         ],
         "yaxis": "y"
        },
        {
         "hoverlabel": {
          "namelength": 0
         },
         "hovertemplate": "ORGAO=SERIRA<br>MES=%{x}<br>REMUNERACAO LEGAL TOTAL(R$)=%{y}",
         "legendgroup": "SERIRA",
         "line": {
          "color": "#19d3f3",
          "dash": "solid"
         },
         "mode": "lines",
         "name": "SERIRA",
         "showlegend": true,
         "type": "scatter",
         "x": [
          1,
          2,
          3,
          4,
          5,
          6,
          7,
          8,
          9
         ],
         "xaxis": "x",
         "y": [
          372185.47999999986,
          233995.62999999995,
          267210.5899999999,
          207271.88999999996,
          211171.88999999996,
          207358.91999999993,
          217102.33999999994,
          233158.7799999999,
          226325.2799999999
         ],
         "yaxis": "y"
        },
        {
         "hoverlabel": {
          "namelength": 0
         },
         "hovertemplate": "ORGAO=SETRAB<br>MES=%{x}<br>REMUNERACAO LEGAL TOTAL(R$)=%{y}",
         "legendgroup": "SETRAB",
         "line": {
          "color": "#FF6692",
          "dash": "solid"
         },
         "mode": "lines",
         "name": "SETRAB",
         "showlegend": true,
         "type": "scatter",
         "x": [
          6,
          7,
          8,
          9,
          10
         ],
         "xaxis": "x",
         "y": [
          341025.1100000001,
          338940.8200000001,
          341164.7100000001,
          328620.22000000015,
          329641.85000000015
         ],
         "yaxis": "y"
        },
        {
         "hoverlabel": {
          "namelength": 0
         },
         "hovertemplate": "ORGAO=SRMM<br>MES=%{x}<br>REMUNERACAO LEGAL TOTAL(R$)=%{y}",
         "legendgroup": "SRMM",
         "line": {
          "color": "#B6E880",
          "dash": "solid"
         },
         "mode": "lines",
         "name": "SRMM",
         "showlegend": true,
         "type": "scatter",
         "x": [
          1,
          2,
          3,
          4,
          5,
          6,
          7,
          8,
          9,
          10
         ],
         "xaxis": "x",
         "y": [
          297895.99,
          127331.37,
          120509.59,
          114510.44,
          113846.37000000001,
          119833.89999999998,
          114189.67,
          111715.81999999999,
          105475.66,
          125953.94
         ],
         "yaxis": "y"
        },
        {
         "hoverlabel": {
          "namelength": 0
         },
         "hovertemplate": "ORGAO=SSP<br>MES=%{x}<br>REMUNERACAO LEGAL TOTAL(R$)=%{y}",
         "legendgroup": "SSP",
         "line": {
          "color": "#FF97FF",
          "dash": "solid"
         },
         "mode": "lines",
         "name": "SSP",
         "showlegend": true,
         "type": "scatter",
         "x": [
          1,
          2,
          3,
          4,
          5,
          6,
          7,
          8,
          10,
          11,
          12,
          13
         ],
         "xaxis": "x",
         "y": [
          2374751.6599999946,
          2446538.6599999955,
          2587555.779999994,
          2333767.439999994,
          2312849.1199999955,
          2372848.5699999947,
          2331596.8599999966,
          2291789.4299999964,
          2301734.509999996,
          2398039.079999995,
          2410288.3499999964,
          2410288.3499999964
         ],
         "yaxis": "y"
        },
        {
         "hoverlabel": {
          "namelength": 0
         },
         "hovertemplate": "ORGAO=SUHAB<br>MES=%{x}<br>REMUNERACAO LEGAL TOTAL(R$)=%{y}",
         "legendgroup": "SUHAB",
         "line": {
          "color": "#FECB52",
          "dash": "solid"
         },
         "mode": "lines",
         "name": "SUHAB",
         "showlegend": true,
         "type": "scatter",
         "x": [
          1,
          2,
          3,
          4,
          5,
          6,
          7,
          8,
          9,
          10,
          11,
          12,
          13
         ],
         "xaxis": "x",
         "y": [
          1432307.980000001,
          700863.9899999999,
          1492693.0200000026,
          1226279.3000000017,
          1193431.1300000022,
          1237613.3300000022,
          1187061.420000002,
          1179160.550000002,
          1201506.7200000018,
          1182291.130000002,
          1267211.0400000021,
          1242472.860000002,
          1242472.860000002
         ],
         "yaxis": "y"
        },
        {
         "hoverlabel": {
          "namelength": 0
         },
         "hovertemplate": "ORGAO=UEA<br>MES=%{x}<br>REMUNERACAO LEGAL TOTAL(R$)=%{y}",
         "legendgroup": "UEA",
         "line": {
          "color": "#636efa",
          "dash": "solid"
         },
         "mode": "lines",
         "name": "UEA",
         "showlegend": true,
         "type": "scatter",
         "x": [
          1,
          2,
          3,
          4,
          5,
          6,
          7,
          8,
          9,
          10,
          11,
          12,
          13
         ],
         "xaxis": "x",
         "y": [
          21887018.43999998,
          17542270.550000057,
          17613223.600000042,
          20994500.389999945,
          20744205.58999996,
          21033112.469999954,
          22947201.259999946,
          19870831.199999917,
          19977850.919999957,
          20010639.989999976,
          19751364.179999977,
          20163726.779999975,
          20163726.779999975
         ],
         "yaxis": "y"
        }
       ],
       "layout": {
        "legend": {
         "title": {
          "text": "ORGAO"
         },
         "tracegroupgap": 0
        },
        "template": {
         "data": {
          "bar": [
           {
            "error_x": {
             "color": "#2a3f5f"
            },
            "error_y": {
             "color": "#2a3f5f"
            },
            "marker": {
             "line": {
              "color": "#E5ECF6",
              "width": 0.5
             }
            },
            "type": "bar"
           }
          ],
          "barpolar": [
           {
            "marker": {
             "line": {
              "color": "#E5ECF6",
              "width": 0.5
             }
            },
            "type": "barpolar"
           }
          ],
          "carpet": [
           {
            "aaxis": {
             "endlinecolor": "#2a3f5f",
             "gridcolor": "white",
             "linecolor": "white",
             "minorgridcolor": "white",
             "startlinecolor": "#2a3f5f"
            },
            "baxis": {
             "endlinecolor": "#2a3f5f",
             "gridcolor": "white",
             "linecolor": "white",
             "minorgridcolor": "white",
             "startlinecolor": "#2a3f5f"
            },
            "type": "carpet"
           }
          ],
          "choropleth": [
           {
            "colorbar": {
             "outlinewidth": 0,
             "ticks": ""
            },
            "type": "choropleth"
           }
          ],
          "contour": [
           {
            "colorbar": {
             "outlinewidth": 0,
             "ticks": ""
            },
            "colorscale": [
             [
              0,
              "#0d0887"
             ],
             [
              0.1111111111111111,
              "#46039f"
             ],
             [
              0.2222222222222222,
              "#7201a8"
             ],
             [
              0.3333333333333333,
              "#9c179e"
             ],
             [
              0.4444444444444444,
              "#bd3786"
             ],
             [
              0.5555555555555556,
              "#d8576b"
             ],
             [
              0.6666666666666666,
              "#ed7953"
             ],
             [
              0.7777777777777778,
              "#fb9f3a"
             ],
             [
              0.8888888888888888,
              "#fdca26"
             ],
             [
              1,
              "#f0f921"
             ]
            ],
            "type": "contour"
           }
          ],
          "contourcarpet": [
           {
            "colorbar": {
             "outlinewidth": 0,
             "ticks": ""
            },
            "type": "contourcarpet"
           }
          ],
          "heatmap": [
           {
            "colorbar": {
             "outlinewidth": 0,
             "ticks": ""
            },
            "colorscale": [
             [
              0,
              "#0d0887"
             ],
             [
              0.1111111111111111,
              "#46039f"
             ],
             [
              0.2222222222222222,
              "#7201a8"
             ],
             [
              0.3333333333333333,
              "#9c179e"
             ],
             [
              0.4444444444444444,
              "#bd3786"
             ],
             [
              0.5555555555555556,
              "#d8576b"
             ],
             [
              0.6666666666666666,
              "#ed7953"
             ],
             [
              0.7777777777777778,
              "#fb9f3a"
             ],
             [
              0.8888888888888888,
              "#fdca26"
             ],
             [
              1,
              "#f0f921"
             ]
            ],
            "type": "heatmap"
           }
          ],
          "heatmapgl": [
           {
            "colorbar": {
             "outlinewidth": 0,
             "ticks": ""
            },
            "colorscale": [
             [
              0,
              "#0d0887"
             ],
             [
              0.1111111111111111,
              "#46039f"
             ],
             [
              0.2222222222222222,
              "#7201a8"
             ],
             [
              0.3333333333333333,
              "#9c179e"
             ],
             [
              0.4444444444444444,
              "#bd3786"
             ],
             [
              0.5555555555555556,
              "#d8576b"
             ],
             [
              0.6666666666666666,
              "#ed7953"
             ],
             [
              0.7777777777777778,
              "#fb9f3a"
             ],
             [
              0.8888888888888888,
              "#fdca26"
             ],
             [
              1,
              "#f0f921"
             ]
            ],
            "type": "heatmapgl"
           }
          ],
          "histogram": [
           {
            "marker": {
             "colorbar": {
              "outlinewidth": 0,
              "ticks": ""
             }
            },
            "type": "histogram"
           }
          ],
          "histogram2d": [
           {
            "colorbar": {
             "outlinewidth": 0,
             "ticks": ""
            },
            "colorscale": [
             [
              0,
              "#0d0887"
             ],
             [
              0.1111111111111111,
              "#46039f"
             ],
             [
              0.2222222222222222,
              "#7201a8"
             ],
             [
              0.3333333333333333,
              "#9c179e"
             ],
             [
              0.4444444444444444,
              "#bd3786"
             ],
             [
              0.5555555555555556,
              "#d8576b"
             ],
             [
              0.6666666666666666,
              "#ed7953"
             ],
             [
              0.7777777777777778,
              "#fb9f3a"
             ],
             [
              0.8888888888888888,
              "#fdca26"
             ],
             [
              1,
              "#f0f921"
             ]
            ],
            "type": "histogram2d"
           }
          ],
          "histogram2dcontour": [
           {
            "colorbar": {
             "outlinewidth": 0,
             "ticks": ""
            },
            "colorscale": [
             [
              0,
              "#0d0887"
             ],
             [
              0.1111111111111111,
              "#46039f"
             ],
             [
              0.2222222222222222,
              "#7201a8"
             ],
             [
              0.3333333333333333,
              "#9c179e"
             ],
             [
              0.4444444444444444,
              "#bd3786"
             ],
             [
              0.5555555555555556,
              "#d8576b"
             ],
             [
              0.6666666666666666,
              "#ed7953"
             ],
             [
              0.7777777777777778,
              "#fb9f3a"
             ],
             [
              0.8888888888888888,
              "#fdca26"
             ],
             [
              1,
              "#f0f921"
             ]
            ],
            "type": "histogram2dcontour"
           }
          ],
          "mesh3d": [
           {
            "colorbar": {
             "outlinewidth": 0,
             "ticks": ""
            },
            "type": "mesh3d"
           }
          ],
          "parcoords": [
           {
            "line": {
             "colorbar": {
              "outlinewidth": 0,
              "ticks": ""
             }
            },
            "type": "parcoords"
           }
          ],
          "pie": [
           {
            "automargin": true,
            "type": "pie"
           }
          ],
          "scatter": [
           {
            "marker": {
             "colorbar": {
              "outlinewidth": 0,
              "ticks": ""
             }
            },
            "type": "scatter"
           }
          ],
          "scatter3d": [
           {
            "line": {
             "colorbar": {
              "outlinewidth": 0,
              "ticks": ""
             }
            },
            "marker": {
             "colorbar": {
              "outlinewidth": 0,
              "ticks": ""
             }
            },
            "type": "scatter3d"
           }
          ],
          "scattercarpet": [
           {
            "marker": {
             "colorbar": {
              "outlinewidth": 0,
              "ticks": ""
             }
            },
            "type": "scattercarpet"
           }
          ],
          "scattergeo": [
           {
            "marker": {
             "colorbar": {
              "outlinewidth": 0,
              "ticks": ""
             }
            },
            "type": "scattergeo"
           }
          ],
          "scattergl": [
           {
            "marker": {
             "colorbar": {
              "outlinewidth": 0,
              "ticks": ""
             }
            },
            "type": "scattergl"
           }
          ],
          "scattermapbox": [
           {
            "marker": {
             "colorbar": {
              "outlinewidth": 0,
              "ticks": ""
             }
            },
            "type": "scattermapbox"
           }
          ],
          "scatterpolar": [
           {
            "marker": {
             "colorbar": {
              "outlinewidth": 0,
              "ticks": ""
             }
            },
            "type": "scatterpolar"
           }
          ],
          "scatterpolargl": [
           {
            "marker": {
             "colorbar": {
              "outlinewidth": 0,
              "ticks": ""
             }
            },
            "type": "scatterpolargl"
           }
          ],
          "scatterternary": [
           {
            "marker": {
             "colorbar": {
              "outlinewidth": 0,
              "ticks": ""
             }
            },
            "type": "scatterternary"
           }
          ],
          "surface": [
           {
            "colorbar": {
             "outlinewidth": 0,
             "ticks": ""
            },
            "colorscale": [
             [
              0,
              "#0d0887"
             ],
             [
              0.1111111111111111,
              "#46039f"
             ],
             [
              0.2222222222222222,
              "#7201a8"
             ],
             [
              0.3333333333333333,
              "#9c179e"
             ],
             [
              0.4444444444444444,
              "#bd3786"
             ],
             [
              0.5555555555555556,
              "#d8576b"
             ],
             [
              0.6666666666666666,
              "#ed7953"
             ],
             [
              0.7777777777777778,
              "#fb9f3a"
             ],
             [
              0.8888888888888888,
              "#fdca26"
             ],
             [
              1,
              "#f0f921"
             ]
            ],
            "type": "surface"
           }
          ],
          "table": [
           {
            "cells": {
             "fill": {
              "color": "#EBF0F8"
             },
             "line": {
              "color": "white"
             }
            },
            "header": {
             "fill": {
              "color": "#C8D4E3"
             },
             "line": {
              "color": "white"
             }
            },
            "type": "table"
           }
          ]
         },
         "layout": {
          "annotationdefaults": {
           "arrowcolor": "#2a3f5f",
           "arrowhead": 0,
           "arrowwidth": 1
          },
          "coloraxis": {
           "colorbar": {
            "outlinewidth": 0,
            "ticks": ""
           }
          },
          "colorscale": {
           "diverging": [
            [
             0,
             "#8e0152"
            ],
            [
             0.1,
             "#c51b7d"
            ],
            [
             0.2,
             "#de77ae"
            ],
            [
             0.3,
             "#f1b6da"
            ],
            [
             0.4,
             "#fde0ef"
            ],
            [
             0.5,
             "#f7f7f7"
            ],
            [
             0.6,
             "#e6f5d0"
            ],
            [
             0.7,
             "#b8e186"
            ],
            [
             0.8,
             "#7fbc41"
            ],
            [
             0.9,
             "#4d9221"
            ],
            [
             1,
             "#276419"
            ]
           ],
           "sequential": [
            [
             0,
             "#0d0887"
            ],
            [
             0.1111111111111111,
             "#46039f"
            ],
            [
             0.2222222222222222,
             "#7201a8"
            ],
            [
             0.3333333333333333,
             "#9c179e"
            ],
            [
             0.4444444444444444,
             "#bd3786"
            ],
            [
             0.5555555555555556,
             "#d8576b"
            ],
            [
             0.6666666666666666,
             "#ed7953"
            ],
            [
             0.7777777777777778,
             "#fb9f3a"
            ],
            [
             0.8888888888888888,
             "#fdca26"
            ],
            [
             1,
             "#f0f921"
            ]
           ],
           "sequentialminus": [
            [
             0,
             "#0d0887"
            ],
            [
             0.1111111111111111,
             "#46039f"
            ],
            [
             0.2222222222222222,
             "#7201a8"
            ],
            [
             0.3333333333333333,
             "#9c179e"
            ],
            [
             0.4444444444444444,
             "#bd3786"
            ],
            [
             0.5555555555555556,
             "#d8576b"
            ],
            [
             0.6666666666666666,
             "#ed7953"
            ],
            [
             0.7777777777777778,
             "#fb9f3a"
            ],
            [
             0.8888888888888888,
             "#fdca26"
            ],
            [
             1,
             "#f0f921"
            ]
           ]
          },
          "colorway": [
           "#636efa",
           "#EF553B",
           "#00cc96",
           "#ab63fa",
           "#FFA15A",
           "#19d3f3",
           "#FF6692",
           "#B6E880",
           "#FF97FF",
           "#FECB52"
          ],
          "font": {
           "color": "#2a3f5f"
          },
          "geo": {
           "bgcolor": "white",
           "lakecolor": "white",
           "landcolor": "#E5ECF6",
           "showlakes": true,
           "showland": true,
           "subunitcolor": "white"
          },
          "hoverlabel": {
           "align": "left"
          },
          "hovermode": "closest",
          "mapbox": {
           "style": "light"
          },
          "paper_bgcolor": "white",
          "plot_bgcolor": "#E5ECF6",
          "polar": {
           "angularaxis": {
            "gridcolor": "white",
            "linecolor": "white",
            "ticks": ""
           },
           "bgcolor": "#E5ECF6",
           "radialaxis": {
            "gridcolor": "white",
            "linecolor": "white",
            "ticks": ""
           }
          },
          "scene": {
           "xaxis": {
            "backgroundcolor": "#E5ECF6",
            "gridcolor": "white",
            "gridwidth": 2,
            "linecolor": "white",
            "showbackground": true,
            "ticks": "",
            "zerolinecolor": "white"
           },
           "yaxis": {
            "backgroundcolor": "#E5ECF6",
            "gridcolor": "white",
            "gridwidth": 2,
            "linecolor": "white",
            "showbackground": true,
            "ticks": "",
            "zerolinecolor": "white"
           },
           "zaxis": {
            "backgroundcolor": "#E5ECF6",
            "gridcolor": "white",
            "gridwidth": 2,
            "linecolor": "white",
            "showbackground": true,
            "ticks": "",
            "zerolinecolor": "white"
           }
          },
          "shapedefaults": {
           "line": {
            "color": "#2a3f5f"
           }
          },
          "ternary": {
           "aaxis": {
            "gridcolor": "white",
            "linecolor": "white",
            "ticks": ""
           },
           "baxis": {
            "gridcolor": "white",
            "linecolor": "white",
            "ticks": ""
           },
           "bgcolor": "#E5ECF6",
           "caxis": {
            "gridcolor": "white",
            "linecolor": "white",
            "ticks": ""
           }
          },
          "title": {
           "x": 0.05
          },
          "xaxis": {
           "automargin": true,
           "gridcolor": "white",
           "linecolor": "white",
           "ticks": "",
           "title": {
            "standoff": 15
           },
           "zerolinecolor": "white",
           "zerolinewidth": 2
          },
          "yaxis": {
           "automargin": true,
           "gridcolor": "white",
           "linecolor": "white",
           "ticks": "",
           "title": {
            "standoff": 15
           },
           "zerolinecolor": "white",
           "zerolinewidth": 2
          }
         }
        },
        "title": {
         "text": "Remuneração Legal Total de cada orgão (2019)"
        },
        "xaxis": {
         "anchor": "y",
         "domain": [
          0,
          1
         ],
         "title": {
          "text": "MES"
         }
        },
        "yaxis": {
         "anchor": "x",
         "domain": [
          0,
          1
         ],
         "title": {
          "text": "REMUNERACAO LEGAL TOTAL(R$)"
         }
        }
       }
      },
      "text/html": [
       "<div>\n",
       "        \n",
       "        \n",
       "            <div id=\"e42c1409-ba96-493e-978a-578cc4207be2\" class=\"plotly-graph-div\" style=\"height:525px; width:100%;\"></div>\n",
       "            <script type=\"text/javascript\">\n",
       "                require([\"plotly\"], function(Plotly) {\n",
       "                    window.PLOTLYENV=window.PLOTLYENV || {};\n",
       "                    \n",
       "                if (document.getElementById(\"e42c1409-ba96-493e-978a-578cc4207be2\")) {\n",
       "                    Plotly.newPlot(\n",
       "                        'e42c1409-ba96-493e-978a-578cc4207be2',\n",
       "                        [{\"hoverlabel\": {\"namelength\": 0}, \"hovertemplate\": \"ORGAO=ADAF<br>MES=%{x}<br>REMUNERACAO LEGAL TOTAL(R$)=%{y}\", \"legendgroup\": \"ADAF\", \"line\": {\"color\": \"#636efa\", \"dash\": \"solid\"}, \"mode\": \"lines\", \"name\": \"ADAF\", \"showlegend\": true, \"type\": \"scatter\", \"x\": [1, 2, 3, 4, 5, 6, 7, 8, 9, 10, 11, 12, 13], \"xaxis\": \"x\", \"y\": [783836.3499999992, 713569.6199999995, 709056.1499999993, 693708.2399999993, 718558.9399999991, 718053.8399999997, 700705.9499999995, 696430.8499999996, 709558.1999999995, 688298.3799999995, 717311.3399999999, 700864.9599999996, 700864.9599999996], \"yaxis\": \"y\"}, {\"hoverlabel\": {\"namelength\": 0}, \"hovertemplate\": \"ORGAO=ADS<br>MES=%{x}<br>REMUNERACAO LEGAL TOTAL(R$)=%{y}\", \"legendgroup\": \"ADS\", \"line\": {\"color\": \"#EF553B\", \"dash\": \"solid\"}, \"mode\": \"lines\", \"name\": \"ADS\", \"showlegend\": true, \"type\": \"scatter\", \"x\": [1, 2, 3, 4, 5, 6, 7, 8, 9, 10, 11, 12, 13], \"xaxis\": \"x\", \"y\": [222616.05999999994, 227717.38999999996, 339062.73999999993, 239169.01999999993, 235520.03999999995, 233517.69999999995, 230149.5, 230583.68999999997, 234778.64999999997, 224177.25999999998, 300995.9599999999, 279203.9599999999, 279203.9599999999], \"yaxis\": \"y\"}, {\"hoverlabel\": {\"namelength\": 0}, \"hovertemplate\": \"ORGAO=ALFREDO DA MATA<br>MES=%{x}<br>REMUNERACAO LEGAL TOTAL(R$)=%{y}\", \"legendgroup\": \"ALFREDO DA MATA\", \"line\": {\"color\": \"#00cc96\", \"dash\": \"solid\"}, \"mode\": \"lines\", \"name\": \"ALFREDO DA MATA\", \"showlegend\": true, \"type\": \"scatter\", \"x\": [1, 2, 3, 4, 5, 6, 7, 8, 9, 10, 11, 12, 13], \"xaxis\": \"x\", \"y\": [1406522.0299999998, 1454863.8200000003, 1452114.3100000005, 1484625.6099999996, 1433680.7700000003, 1482538.0200000003, 1525665.4300000018, 1513010.1000000013, 1484529.4600000004, 1477160.7100000014, 1560002.1700000018, 1528746.3300000017, 1528746.3300000017], \"yaxis\": \"y\"}, {\"hoverlabel\": {\"namelength\": 0}, \"hovertemplate\": \"ORGAO=AMAZONPREV<br>MES=%{x}<br>REMUNERACAO LEGAL TOTAL(R$)=%{y}\", \"legendgroup\": \"AMAZONPREV\", \"line\": {\"color\": \"#ab63fa\", \"dash\": \"solid\"}, \"mode\": \"lines\", \"name\": \"AMAZONPREV\", \"showlegend\": true, \"type\": \"scatter\", \"x\": [1, 2, 3, 4, 5, 6, 7, 8, 9, 10, 11, 12, 13], \"xaxis\": \"x\", \"y\": [117640296.10000172, 121811764.8800018, 119014120.89000182, 121418965.00000224, 122018525.73000231, 129098614.09000356, 126198278.04000047, 129711790.95000014, 130547447.66000012, 131184694.1300001, 131780550.07000023, 129340534.95000012, 129340534.95000012], \"yaxis\": \"y\"}, {\"hoverlabel\": {\"namelength\": 0}, \"hovertemplate\": \"ORGAO=ARSAM<br>MES=%{x}<br>REMUNERACAO LEGAL TOTAL(R$)=%{y}\", \"legendgroup\": \"ARSAM\", \"line\": {\"color\": \"#FFA15A\", \"dash\": \"solid\"}, \"mode\": \"lines\", \"name\": \"ARSAM\", \"showlegend\": true, \"type\": \"scatter\", \"x\": [1, 2, 3, 4, 5, 6, 7, 8, 9, 10, 11, 12, 13], \"xaxis\": \"x\", \"y\": [382756.0800000002, 459376.62000000017, 347094.89999999997, 363179.51999999996, 438815.2100000001, 388618.66000000003, 353026.42999999993, 365190.31999999995, 356846.3599999999, 353439.8299999999, 417257.0999999999, 402102.0099999999, 402102.0099999999], \"yaxis\": \"y\"}, {\"hoverlabel\": {\"namelength\": 0}, \"hovertemplate\": \"ORGAO=CASA CIVIL DO GOVERNO<br>MES=%{x}<br>REMUNERACAO LEGAL TOTAL(R$)=%{y}\", \"legendgroup\": \"CASA CIVIL DO GOVERNO\", \"line\": {\"color\": \"#19d3f3\", \"dash\": \"solid\"}, \"mode\": \"lines\", \"name\": \"CASA CIVIL DO GOVERNO\", \"showlegend\": true, \"type\": \"scatter\", \"x\": [1, 2, 3, 4, 5, 6, 7, 8, 9, 10, 11, 12, 13], \"xaxis\": \"x\", \"y\": [3697166.600000002, 3809467.490000001, 3212216.8000000003, 3029253.280000001, 2946614.16, 2952384.0400000014, 3073182.390000002, 3056199.6800000016, 3047432.5000000014, 3087083.2600000016, 3536879.2000000007, 3521420.8500000006, 3521420.8500000006], \"yaxis\": \"y\"}, {\"hoverlabel\": {\"namelength\": 0}, \"hovertemplate\": \"ORGAO=CASA MILITAR<br>MES=%{x}<br>REMUNERACAO LEGAL TOTAL(R$)=%{y}\", \"legendgroup\": \"CASA MILITAR\", \"line\": {\"color\": \"#FF6692\", \"dash\": \"solid\"}, \"mode\": \"lines\", \"name\": \"CASA MILITAR\", \"showlegend\": true, \"type\": \"scatter\", \"x\": [1, 2, 3, 4, 5, 6, 7, 8, 9, 10, 11, 12, 13], \"xaxis\": \"x\", \"y\": [332053.8499999999, 465838.86, 503659.6, 474410.71, 463391.14, 473377.77999999997, 470891.12, 467083.12, 570100.83, 544579.56, 601349.7500000001, 613053.18, 613053.18], \"yaxis\": \"y\"}, {\"hoverlabel\": {\"namelength\": 0}, \"hovertemplate\": \"ORGAO=CB-CIVIS<br>MES=%{x}<br>REMUNERACAO LEGAL TOTAL(R$)=%{y}\", \"legendgroup\": \"CB-CIVIS\", \"line\": {\"color\": \"#B6E880\", \"dash\": \"solid\"}, \"mode\": \"lines\", \"name\": \"CB-CIVIS\", \"showlegend\": true, \"type\": \"scatter\", \"x\": [1, 2, 3, 4, 5, 6, 7, 8, 9, 10, 11, 12, 13], \"xaxis\": \"x\", \"y\": [195509.61999999994, 136580.53999999998, 154820.73999999996, 142905.95999999996, 148443.36000000002, 139315.96, 139855.96, 158432.63000000003, 145145.72999999998, 145705.72999999998, 147758.91999999998, 145705.72999999998, 145705.72999999998], \"yaxis\": \"y\"}, {\"hoverlabel\": {\"namelength\": 0}, \"hovertemplate\": \"ORGAO=CETAM<br>MES=%{x}<br>REMUNERACAO LEGAL TOTAL(R$)=%{y}\", \"legendgroup\": \"CETAM\", \"line\": {\"color\": \"#FF97FF\", \"dash\": \"solid\"}, \"mode\": \"lines\", \"name\": \"CETAM\", \"showlegend\": true, \"type\": \"scatter\", \"x\": [1, 2, 3, 4, 5, 6, 7, 8, 9, 10, 11, 12, 13], \"xaxis\": \"x\", \"y\": [556682.3599999998, 724530.6599999997, 601328.0300000001, 711372.3199999998, 645583.0700000001, 669868.21, 669608.8799999998, 665514.03, 662491.73, 661015.4299999999, 711737.39, 697426.0399999998, 697426.0399999998], \"yaxis\": \"y\"}, {\"hoverlabel\": {\"namelength\": 0}, \"hovertemplate\": \"ORGAO=CGE<br>MES=%{x}<br>REMUNERACAO LEGAL TOTAL(R$)=%{y}\", \"legendgroup\": \"CGE\", \"line\": {\"color\": \"#FECB52\", \"dash\": \"solid\"}, \"mode\": \"lines\", \"name\": \"CGE\", \"showlegend\": true, \"type\": \"scatter\", \"x\": [1, 2, 3, 4, 5, 6, 7, 8, 9, 10, 11, 12, 13], \"xaxis\": \"x\", \"y\": [336305.8599999999, 424909.89999999973, 348555.2799999998, 334698.4199999998, 338903.6599999998, 337439.63999999984, 340876.90999999986, 332249.87999999983, 335318.9899999998, 342883.12999999983, 387545.15999999986, 382120.2199999998, 382120.2199999998], \"yaxis\": \"y\"}, {\"hoverlabel\": {\"namelength\": 0}, \"hovertemplate\": \"ORGAO=FAPEAM<br>MES=%{x}<br>REMUNERACAO LEGAL TOTAL(R$)=%{y}\", \"legendgroup\": \"FAPEAM\", \"line\": {\"color\": \"#636efa\", \"dash\": \"solid\"}, \"mode\": \"lines\", \"name\": \"FAPEAM\", \"showlegend\": true, \"type\": \"scatter\", \"x\": [1, 2, 3, 4, 5, 6, 7, 8, 9, 10, 11, 12, 13], \"xaxis\": \"x\", \"y\": [234002.13999999998, 148652.13999999998, 166137.07, 126580.94, 141675.36999999997, 184762.69999999995, 159387.72, 152089.59, 143650.62000000002, 149952.24, 152533.69999999998, 166940.87000000002, 166940.87000000002], \"yaxis\": \"y\"}, {\"hoverlabel\": {\"namelength\": 0}, \"hovertemplate\": \"ORGAO=FCECON<br>MES=%{x}<br>REMUNERACAO LEGAL TOTAL(R$)=%{y}\", \"legendgroup\": \"FCECON\", \"line\": {\"color\": \"#EF553B\", \"dash\": \"solid\"}, \"mode\": \"lines\", \"name\": \"FCECON\", \"showlegend\": true, \"type\": \"scatter\", \"x\": [1, 2, 3, 4, 5, 6, 7, 8, 9, 10, 11, 12, 13], \"xaxis\": \"x\", \"y\": [2256288.519999999, 2259992.0500000003, 2447915.4400000023, 2372267.4200000027, 2334745.2400000007, 2300596.2799999993, 2474049.39, 2420188.6299999976, 2428025.429999998, 2398598.489999998, 2368679.03, 2371214.9899999993, 2371214.9899999993], \"yaxis\": \"y\"}, {\"hoverlabel\": {\"namelength\": 0}, \"hovertemplate\": \"ORGAO=FEI<br>MES=%{x}<br>REMUNERACAO LEGAL TOTAL(R$)=%{y}\", \"legendgroup\": \"FEI\", \"line\": {\"color\": \"#00cc96\", \"dash\": \"solid\"}, \"mode\": \"lines\", \"name\": \"FEI\", \"showlegend\": true, \"type\": \"scatter\", \"x\": [2, 3, 4, 5, 6], \"xaxis\": \"x\", \"y\": [175211.16000000003, 239393.26, 117671.09000000001, 80863.78, 96797.01], \"yaxis\": \"y\"}, {\"hoverlabel\": {\"namelength\": 0}, \"hovertemplate\": \"ORGAO=FHEMOAM<br>MES=%{x}<br>REMUNERACAO LEGAL TOTAL(R$)=%{y}\", \"legendgroup\": \"FHEMOAM\", \"line\": {\"color\": \"#ab63fa\", \"dash\": \"solid\"}, \"mode\": \"lines\", \"name\": \"FHEMOAM\", \"showlegend\": true, \"type\": \"scatter\", \"x\": [1, 2, 3, 4, 5, 6, 7, 8, 9, 10, 11, 12, 13], \"xaxis\": \"x\", \"y\": [1760647.97, 1714632.970000001, 2064596.67, 1826527.4200000013, 1827782.400000001, 1967679.9999999993, 2087306.0500000012, 2071434.7200000007, 2062843.8400000008, 2055401.5200000014, 2120285.8800000013, 2081558.6900000013, 2081558.6900000013], \"yaxis\": \"y\"}, {\"hoverlabel\": {\"namelength\": 0}, \"hovertemplate\": \"ORGAO=FMT-AM<br>MES=%{x}<br>REMUNERACAO LEGAL TOTAL(R$)=%{y}\", \"legendgroup\": \"FMT-AM\", \"line\": {\"color\": \"#FFA15A\", \"dash\": \"solid\"}, \"mode\": \"lines\", \"name\": \"FMT-AM\", \"showlegend\": true, \"type\": \"scatter\", \"x\": [1, 2, 3, 4, 5, 6, 7, 8, 9, 10, 11, 12, 13], \"xaxis\": \"x\", \"y\": [2879182.8500000047, 2749401.0400000038, 2683190.3100000024, 2699177.2500000023, 2700329.4300000034, 2697299.900000001, 2798039.889999999, 2786729.23, 2770845.5499999993, 2761671.79, 2828146.8299999977, 2759851.739999999, 2759851.739999999], \"yaxis\": \"y\"}, {\"hoverlabel\": {\"namelength\": 0}, \"hovertemplate\": \"ORGAO=FVS<br>MES=%{x}<br>REMUNERACAO LEGAL TOTAL(R$)=%{y}\", \"legendgroup\": \"FVS\", \"line\": {\"color\": \"#19d3f3\", \"dash\": \"solid\"}, \"mode\": \"lines\", \"name\": \"FVS\", \"showlegend\": true, \"type\": \"scatter\", \"x\": [1, 2, 3, 4, 5, 6, 7, 8, 9, 10, 11, 12, 13], \"xaxis\": \"x\", \"y\": [4725361.51999995, 4416363.039999941, 4395167.149999937, 4533118.159999931, 4523402.079999937, 4605473.1599999415, 4794338.010000001, 4739467.050000004, 4755125.370000003, 4790286.26, 4707753.640000002, 4756676.770000003, 4756676.770000003], \"yaxis\": \"y\"}, {\"hoverlabel\": {\"namelength\": 0}, \"hovertemplate\": \"ORGAO=IDAM<br>MES=%{x}<br>REMUNERACAO LEGAL TOTAL(R$)=%{y}\", \"legendgroup\": \"IDAM\", \"line\": {\"color\": \"#FF6692\", \"dash\": \"solid\"}, \"mode\": \"lines\", \"name\": \"IDAM\", \"showlegend\": true, \"type\": \"scatter\", \"x\": [1, 2, 3, 4, 5, 6, 7, 8, 9, 10, 11, 12, 13], \"xaxis\": \"x\", \"y\": [1999846.7400000023, 1852092.6200000017, 1961591.0500000014, 1795946.5900000015, 2011954.9500000023, 1861851.150000002, 1875645.8900000018, 1797495.4100000018, 1772551.6500000018, 1780015.110000002, 1799373.6900000018, 1772023.9400000013, 1772023.9400000013], \"yaxis\": \"y\"}, {\"hoverlabel\": {\"namelength\": 0}, \"hovertemplate\": \"ORGAO=IMPRENSA OFICIAL<br>MES=%{x}<br>REMUNERACAO LEGAL TOTAL(R$)=%{y}\", \"legendgroup\": \"IMPRENSA OFICIAL\", \"line\": {\"color\": \"#B6E880\", \"dash\": \"solid\"}, \"mode\": \"lines\", \"name\": \"IMPRENSA OFICIAL\", \"showlegend\": true, \"type\": \"scatter\", \"x\": [1, 2, 3, 4, 5, 6, 7, 8, 9, 10, 11, 12, 13], \"xaxis\": \"x\", \"y\": [326994.04999999993, 342426.16000000015, 308708.40999999986, 302042.92999999993, 317658.18999999994, 296506.5099999999, 327101.63, 310078.4099999999, 308392.12, 296229.81000000006, 347628.3, 496464.03000000044, 496464.03000000044], \"yaxis\": \"y\"}, {\"hoverlabel\": {\"namelength\": 0}, \"hovertemplate\": \"ORGAO=IPAAM<br>MES=%{x}<br>REMUNERACAO LEGAL TOTAL(R$)=%{y}\", \"legendgroup\": \"IPAAM\", \"line\": {\"color\": \"#FF97FF\", \"dash\": \"solid\"}, \"mode\": \"lines\", \"name\": \"IPAAM\", \"showlegend\": true, \"type\": \"scatter\", \"x\": [1, 2, 3, 4, 5, 6, 7, 8, 9, 10, 11, 12, 13], \"xaxis\": \"x\", \"y\": [1475819.0800000008, 1338185.5500000007, 1313307.0100000007, 1338907.7800000012, 1329024.5700000012, 1293180.5900000008, 1281592.0400000007, 1311087.250000001, 1296905.8000000007, 1278114.0600000012, 1355380.070000001, 1329677.7000000014, 1329677.7000000014], \"yaxis\": \"y\"}, {\"hoverlabel\": {\"namelength\": 0}, \"hovertemplate\": \"ORGAO=PENSIONISTAS<br>MES=%{x}<br>REMUNERACAO LEGAL TOTAL(R$)=%{y}\", \"legendgroup\": \"PENSIONISTAS\", \"line\": {\"color\": \"#FECB52\", \"dash\": \"solid\"}, \"mode\": \"lines\", \"name\": \"PENSIONISTAS\", \"showlegend\": true, \"type\": \"scatter\", \"x\": [1, 2, 3, 4, 5, 6, 7, 8, 9, 10, 11, 12, 13], \"xaxis\": \"x\", \"y\": [33038491.209999952, 34384620.0399999, 33153473.029999938, 33444114.24999995, 33734078.74999993, 33870614.70999994, 33712955.009999976, 33926288.61999996, 33981054.799999945, 34179660.62999993, 34265900.34999995, 34170302.949999936, 34170302.949999936], \"yaxis\": \"y\"}, {\"hoverlabel\": {\"namelength\": 0}, \"hovertemplate\": \"ORGAO=PM-ATIVOS<br>MES=%{x}<br>REMUNERACAO LEGAL TOTAL(R$)=%{y}\", \"legendgroup\": \"PM-ATIVOS\", \"line\": {\"color\": \"#636efa\", \"dash\": \"solid\"}, \"mode\": \"lines\", \"name\": \"PM-ATIVOS\", \"showlegend\": true, \"type\": \"scatter\", \"x\": [1, 2, 3, 4, 5, 6, 7, 8, 9, 10, 11, 12, 13], \"xaxis\": \"x\", \"y\": [76820362.4400019, 70868566.42000155, 70590712.12000175, 77119609.24000144, 78997008.85000108, 79868509.45000029, 78493458.740001, 82945293.14000037, 83981811.13000032, 83422465.97000015, 83965176.30000028, 81923841.8700001, 81923841.8700001], \"yaxis\": \"y\"}, {\"hoverlabel\": {\"namelength\": 0}, \"hovertemplate\": \"ORGAO=PM-CIVIS<br>MES=%{x}<br>REMUNERACAO LEGAL TOTAL(R$)=%{y}\", \"legendgroup\": \"PM-CIVIS\", \"line\": {\"color\": \"#EF553B\", \"dash\": \"solid\"}, \"mode\": \"lines\", \"name\": \"PM-CIVIS\", \"showlegend\": true, \"type\": \"scatter\", \"x\": [1, 2, 3, 4, 5, 6, 7, 8, 9, 10, 11, 12, 13], \"xaxis\": \"x\", \"y\": [530463.7400000002, 407637.39000000013, 410789.79000000027, 427847.9000000003, 393362.9900000002, 407336.0200000002, 414226.66000000027, 405303.3300000002, 407781.60000000015, 420982.6800000002, 404943.4500000002, 409576.6300000002, 409576.6300000002], \"yaxis\": \"y\"}, {\"hoverlabel\": {\"namelength\": 0}, \"hovertemplate\": \"ORGAO=POLICIA CIVIL<br>MES=%{x}<br>REMUNERACAO LEGAL TOTAL(R$)=%{y}\", \"legendgroup\": \"POLICIA CIVIL\", \"line\": {\"color\": \"#00cc96\", \"dash\": \"solid\"}, \"mode\": \"lines\", \"name\": \"POLICIA CIVIL\", \"showlegend\": true, \"type\": \"scatter\", \"x\": [1, 2, 3, 4, 5, 6, 7, 8, 9, 10, 11, 12, 13], \"xaxis\": \"x\", \"y\": [44318443.10999986, 59679843.40999995, 43214318.30999988, 43109017.83999986, 44165270.72999984, 44027534.86999982, 43679951.25999983, 44111011.39999993, 43375995.94999997, 43284402.94999993, 43492337.05000003, 42002100.43999988, 42002100.43999988], \"yaxis\": \"y\"}, {\"hoverlabel\": {\"namelength\": 0}, \"hovertemplate\": \"ORGAO=SEAD<br>MES=%{x}<br>REMUNERACAO LEGAL TOTAL(R$)=%{y}\", \"legendgroup\": \"SEAD\", \"line\": {\"color\": \"#ab63fa\", \"dash\": \"solid\"}, \"mode\": \"lines\", \"name\": \"SEAD\", \"showlegend\": true, \"type\": \"scatter\", \"x\": [1, 2, 3, 4, 5, 6, 7, 8, 9, 10, 11, 12, 13], \"xaxis\": \"x\", \"y\": [1865989.0600000015, 1617287.3700000008, 1720637.3700000008, 1642259.9300000002, 1645287.3599999994, 1628347.0999999992, 1612555.4099999997, 1630010.26, 1576325.7, 1558784.5199999998, 1577232.7299999997, 1554537.5100000005, 1554537.5100000005], \"yaxis\": \"y\"}, {\"hoverlabel\": {\"namelength\": 0}, \"hovertemplate\": \"ORGAO=SEAD-PENS\\u00c3O ESPECIAL I<br>MES=%{x}<br>REMUNERACAO LEGAL TOTAL(R$)=%{y}\", \"legendgroup\": \"SEAD-PENS\\u00c3O ESPECIAL I\", \"line\": {\"color\": \"#FFA15A\", \"dash\": \"solid\"}, \"mode\": \"lines\", \"name\": \"SEAD-PENS\\u00c3O ESPECIAL I\", \"showlegend\": true, \"type\": \"scatter\", \"x\": [1, 2, 3, 4, 5, 6, 7], \"xaxis\": \"x\", \"y\": [333834.82, 387174.59999999986, 411816.8500000001, 412011.0500000001, 386761.60000000003, 386255.27999999997, 351625.64], \"yaxis\": \"y\"}, {\"hoverlabel\": {\"namelength\": 0}, \"hovertemplate\": \"ORGAO=SEAD-PENS\\u00c3O ESPECIAL II<br>MES=%{x}<br>REMUNERACAO LEGAL TOTAL(R$)=%{y}\", \"legendgroup\": \"SEAD-PENS\\u00c3O ESPECIAL II\", \"line\": {\"color\": \"#19d3f3\", \"dash\": \"solid\"}, \"mode\": \"lines\", \"name\": \"SEAD-PENS\\u00c3O ESPECIAL II\", \"showlegend\": true, \"type\": \"scatter\", \"x\": [1, 2, 3, 4, 5, 6, 7, 8, 9, 10], \"xaxis\": \"x\", \"y\": [221132.08, 221132.08, 221132.08, 221132.08, 221132.08, 221132.08, 221132.08, 212785.87999999998, 212785.87999999998, 212785.87999999998], \"yaxis\": \"y\"}, {\"hoverlabel\": {\"namelength\": 0}, \"hovertemplate\": \"ORGAO=SEAD-PENS\\u00c3O HANSENIANOS<br>MES=%{x}<br>REMUNERACAO LEGAL TOTAL(R$)=%{y}\", \"legendgroup\": \"SEAD-PENS\\u00c3O HANSENIANOS\", \"line\": {\"color\": \"#FF6692\", \"dash\": \"solid\"}, \"mode\": \"lines\", \"name\": \"SEAD-PENS\\u00c3O HANSENIANOS\", \"showlegend\": true, \"type\": \"scatter\", \"x\": [1, 2, 3, 4, 5, 6, 7, 8, 9, 10], \"xaxis\": \"x\", \"y\": [1664730.0, 1661868.0, 1678086.0, 1687626.0, 1686672.0, 1700028.0, 1891792.0, 1890560.0, 1882702.0, 1903595.5999999994], \"yaxis\": \"y\"}, {\"hoverlabel\": {\"namelength\": 0}, \"hovertemplate\": \"ORGAO=SEAP<br>MES=%{x}<br>REMUNERACAO LEGAL TOTAL(R$)=%{y}\", \"legendgroup\": \"SEAP\", \"line\": {\"color\": \"#B6E880\", \"dash\": \"solid\"}, \"mode\": \"lines\", \"name\": \"SEAP\", \"showlegend\": true, \"type\": \"scatter\", \"x\": [1, 2, 3, 4, 5, 6, 7, 8, 9], \"xaxis\": \"x\", \"y\": [2024566.7300000032, 1687150.630000004, 1655642.6300000036, 1689040.8800000043, 1652624.5800000033, 1611793.5400000035, 1665269.7700000037, 1617168.2100000037, 1662798.950000004], \"yaxis\": \"y\"}, {\"hoverlabel\": {\"namelength\": 0}, \"hovertemplate\": \"ORGAO=SEC<br>MES=%{x}<br>REMUNERACAO LEGAL TOTAL(R$)=%{y}\", \"legendgroup\": \"SEC\", \"line\": {\"color\": \"#FF97FF\", \"dash\": \"solid\"}, \"mode\": \"lines\", \"name\": \"SEC\", \"showlegend\": true, \"type\": \"scatter\", \"x\": [1, 2, 3, 4, 5, 6, 7, 8, 10, 11, 12, 13], \"xaxis\": \"x\", \"y\": [1227645.380000002, 1085610.560000001, 1225832.1600000013, 1186381.1900000018, 1174776.4100000013, 1155446.5300000017, 1123120.1600000008, 1166997.9500000016, 1147263.330000002, 1201414.2900000017, 1187686.6000000027, 1187686.6000000027], \"yaxis\": \"y\"}, {\"hoverlabel\": {\"namelength\": 0}, \"hovertemplate\": \"ORGAO=SECOM<br>MES=%{x}<br>REMUNERACAO LEGAL TOTAL(R$)=%{y}\", \"legendgroup\": \"SECOM\", \"line\": {\"color\": \"#FECB52\", \"dash\": \"solid\"}, \"mode\": \"lines\", \"name\": \"SECOM\", \"showlegend\": true, \"type\": \"scatter\", \"x\": [1, 2, 3, 4, 5, 6, 7, 8, 9, 10, 11, 12, 13], \"xaxis\": \"x\", \"y\": [406354.54, 330257.27000000014, 325377.8900000001, 324942.1600000001, 333866.00000000006, 329631.0400000001, 331206.8100000001, 319180.07000000007, 354203.75, 324999.8100000001, 369996.94, 756986.9600000002, 756986.9600000002], \"yaxis\": \"y\"}, {\"hoverlabel\": {\"namelength\": 0}, \"hovertemplate\": \"ORGAO=SEDUC<br>MES=%{x}<br>REMUNERACAO LEGAL TOTAL(R$)=%{y}\", \"legendgroup\": \"SEDUC\", \"line\": {\"color\": \"#636efa\", \"dash\": \"solid\"}, \"mode\": \"lines\", \"name\": \"SEDUC\", \"showlegend\": true, \"type\": \"scatter\", \"x\": [1, 2, 3, 4, 5, 6, 7, 8, 10, 11, 12, 13], \"xaxis\": \"x\", \"y\": [103898497.32001008, 102526052.39000809, 104848461.18000872, 112780215.49000862, 108734873.33000842, 130854814.38999934, 117553607.90001108, 119049099.54001041, 115217241.91000976, 114842929.42001, 115568613.22001006, 115568613.22001006], \"yaxis\": \"y\"}, {\"hoverlabel\": {\"namelength\": 0}, \"hovertemplate\": \"ORGAO=SEJEL<br>MES=%{x}<br>REMUNERACAO LEGAL TOTAL(R$)=%{y}\", \"legendgroup\": \"SEJEL\", \"line\": {\"color\": \"#EF553B\", \"dash\": \"solid\"}, \"mode\": \"lines\", \"name\": \"SEJEL\", \"showlegend\": true, \"type\": \"scatter\", \"x\": [1, 2, 3, 4, 5, 6, 7, 8, 9, 10], \"xaxis\": \"x\", \"y\": [850028.9100000001, 799553.5599999997, 615481.8600000002, 689076.5500000004, 673864.8900000004, 664138.5200000001, 690047.9800000004, 642283.9800000003, 656138.2300000003, 652449.0200000005], \"yaxis\": \"y\"}, {\"hoverlabel\": {\"namelength\": 0}, \"hovertemplate\": \"ORGAO=SEJUSC<br>MES=%{x}<br>REMUNERACAO LEGAL TOTAL(R$)=%{y}\", \"legendgroup\": \"SEJUSC\", \"line\": {\"color\": \"#00cc96\", \"dash\": \"solid\"}, \"mode\": \"lines\", \"name\": \"SEJUSC\", \"showlegend\": true, \"type\": \"scatter\", \"x\": [1, 2, 3, 4, 5, 6, 7, 8, 9, 10, 11, 12, 13], \"xaxis\": \"x\", \"y\": [1258247.0800000022, 1150793.250000001, 1213000.1400000025, 1155268.1000000031, 1101092.4500000027, 1038327.5400000022, 1234744.380000003, 1130367.570000003, 1170070.7700000035, 1136919.3000000035, 1307299.5600000047, 1564834.550000004, 1564834.550000004], \"yaxis\": \"y\"}, {\"hoverlabel\": {\"namelength\": 0}, \"hovertemplate\": \"ORGAO=SEMA<br>MES=%{x}<br>REMUNERACAO LEGAL TOTAL(R$)=%{y}\", \"legendgroup\": \"SEMA\", \"line\": {\"color\": \"#ab63fa\", \"dash\": \"solid\"}, \"mode\": \"lines\", \"name\": \"SEMA\", \"showlegend\": true, \"type\": \"scatter\", \"x\": [1, 2, 3, 4, 5, 6, 7, 8, 9, 10, 11, 12, 13], \"xaxis\": \"x\", \"y\": [480527.41999999975, 372672.15999999986, 407483.4499999998, 410888.1699999998, 436145.0099999998, 424965.31999999983, 416205.75999999983, 418032.9499999998, 413099.2399999998, 408456.1799999998, 448146.3899999998, 447385.9199999997, 447385.9199999997], \"yaxis\": \"y\"}, {\"hoverlabel\": {\"namelength\": 0}, \"hovertemplate\": \"ORGAO=SEPED<br>MES=%{x}<br>REMUNERACAO LEGAL TOTAL(R$)=%{y}\", \"legendgroup\": \"SEPED\", \"line\": {\"color\": \"#FFA15A\", \"dash\": \"solid\"}, \"mode\": \"lines\", \"name\": \"SEPED\", \"showlegend\": true, \"type\": \"scatter\", \"x\": [6, 7, 8, 9, 10], \"xaxis\": \"x\", \"y\": [158535.40999999997, 149046.7, 140249.99, 150516.55, 140249.99], \"yaxis\": \"y\"}, {\"hoverlabel\": {\"namelength\": 0}, \"hovertemplate\": \"ORGAO=SERIRA<br>MES=%{x}<br>REMUNERACAO LEGAL TOTAL(R$)=%{y}\", \"legendgroup\": \"SERIRA\", \"line\": {\"color\": \"#19d3f3\", \"dash\": \"solid\"}, \"mode\": \"lines\", \"name\": \"SERIRA\", \"showlegend\": true, \"type\": \"scatter\", \"x\": [1, 2, 3, 4, 5, 6, 7, 8, 9], \"xaxis\": \"x\", \"y\": [372185.47999999986, 233995.62999999995, 267210.5899999999, 207271.88999999996, 211171.88999999996, 207358.91999999993, 217102.33999999994, 233158.7799999999, 226325.2799999999], \"yaxis\": \"y\"}, {\"hoverlabel\": {\"namelength\": 0}, \"hovertemplate\": \"ORGAO=SETRAB<br>MES=%{x}<br>REMUNERACAO LEGAL TOTAL(R$)=%{y}\", \"legendgroup\": \"SETRAB\", \"line\": {\"color\": \"#FF6692\", \"dash\": \"solid\"}, \"mode\": \"lines\", \"name\": \"SETRAB\", \"showlegend\": true, \"type\": \"scatter\", \"x\": [6, 7, 8, 9, 10], \"xaxis\": \"x\", \"y\": [341025.1100000001, 338940.8200000001, 341164.7100000001, 328620.22000000015, 329641.85000000015], \"yaxis\": \"y\"}, {\"hoverlabel\": {\"namelength\": 0}, \"hovertemplate\": \"ORGAO=SRMM<br>MES=%{x}<br>REMUNERACAO LEGAL TOTAL(R$)=%{y}\", \"legendgroup\": \"SRMM\", \"line\": {\"color\": \"#B6E880\", \"dash\": \"solid\"}, \"mode\": \"lines\", \"name\": \"SRMM\", \"showlegend\": true, \"type\": \"scatter\", \"x\": [1, 2, 3, 4, 5, 6, 7, 8, 9, 10], \"xaxis\": \"x\", \"y\": [297895.99, 127331.37, 120509.59, 114510.44, 113846.37000000001, 119833.89999999998, 114189.67, 111715.81999999999, 105475.66, 125953.94], \"yaxis\": \"y\"}, {\"hoverlabel\": {\"namelength\": 0}, \"hovertemplate\": \"ORGAO=SSP<br>MES=%{x}<br>REMUNERACAO LEGAL TOTAL(R$)=%{y}\", \"legendgroup\": \"SSP\", \"line\": {\"color\": \"#FF97FF\", \"dash\": \"solid\"}, \"mode\": \"lines\", \"name\": \"SSP\", \"showlegend\": true, \"type\": \"scatter\", \"x\": [1, 2, 3, 4, 5, 6, 7, 8, 10, 11, 12, 13], \"xaxis\": \"x\", \"y\": [2374751.6599999946, 2446538.6599999955, 2587555.779999994, 2333767.439999994, 2312849.1199999955, 2372848.5699999947, 2331596.8599999966, 2291789.4299999964, 2301734.509999996, 2398039.079999995, 2410288.3499999964, 2410288.3499999964], \"yaxis\": \"y\"}, {\"hoverlabel\": {\"namelength\": 0}, \"hovertemplate\": \"ORGAO=SUHAB<br>MES=%{x}<br>REMUNERACAO LEGAL TOTAL(R$)=%{y}\", \"legendgroup\": \"SUHAB\", \"line\": {\"color\": \"#FECB52\", \"dash\": \"solid\"}, \"mode\": \"lines\", \"name\": \"SUHAB\", \"showlegend\": true, \"type\": \"scatter\", \"x\": [1, 2, 3, 4, 5, 6, 7, 8, 9, 10, 11, 12, 13], \"xaxis\": \"x\", \"y\": [1432307.980000001, 700863.9899999999, 1492693.0200000026, 1226279.3000000017, 1193431.1300000022, 1237613.3300000022, 1187061.420000002, 1179160.550000002, 1201506.7200000018, 1182291.130000002, 1267211.0400000021, 1242472.860000002, 1242472.860000002], \"yaxis\": \"y\"}, {\"hoverlabel\": {\"namelength\": 0}, \"hovertemplate\": \"ORGAO=UEA<br>MES=%{x}<br>REMUNERACAO LEGAL TOTAL(R$)=%{y}\", \"legendgroup\": \"UEA\", \"line\": {\"color\": \"#636efa\", \"dash\": \"solid\"}, \"mode\": \"lines\", \"name\": \"UEA\", \"showlegend\": true, \"type\": \"scatter\", \"x\": [1, 2, 3, 4, 5, 6, 7, 8, 9, 10, 11, 12, 13], \"xaxis\": \"x\", \"y\": [21887018.43999998, 17542270.550000057, 17613223.600000042, 20994500.389999945, 20744205.58999996, 21033112.469999954, 22947201.259999946, 19870831.199999917, 19977850.919999957, 20010639.989999976, 19751364.179999977, 20163726.779999975, 20163726.779999975], \"yaxis\": \"y\"}],\n",
       "                        {\"legend\": {\"title\": {\"text\": \"ORGAO\"}, \"tracegroupgap\": 0}, \"template\": {\"data\": {\"bar\": [{\"error_x\": {\"color\": \"#2a3f5f\"}, \"error_y\": {\"color\": \"#2a3f5f\"}, \"marker\": {\"line\": {\"color\": \"#E5ECF6\", \"width\": 0.5}}, \"type\": \"bar\"}], \"barpolar\": [{\"marker\": {\"line\": {\"color\": \"#E5ECF6\", \"width\": 0.5}}, \"type\": \"barpolar\"}], \"carpet\": [{\"aaxis\": {\"endlinecolor\": \"#2a3f5f\", \"gridcolor\": \"white\", \"linecolor\": \"white\", \"minorgridcolor\": \"white\", \"startlinecolor\": \"#2a3f5f\"}, \"baxis\": {\"endlinecolor\": \"#2a3f5f\", \"gridcolor\": \"white\", \"linecolor\": \"white\", \"minorgridcolor\": \"white\", \"startlinecolor\": \"#2a3f5f\"}, \"type\": \"carpet\"}], \"choropleth\": [{\"colorbar\": {\"outlinewidth\": 0, \"ticks\": \"\"}, \"type\": \"choropleth\"}], \"contour\": [{\"colorbar\": {\"outlinewidth\": 0, \"ticks\": \"\"}, \"colorscale\": [[0.0, \"#0d0887\"], [0.1111111111111111, \"#46039f\"], [0.2222222222222222, \"#7201a8\"], [0.3333333333333333, \"#9c179e\"], [0.4444444444444444, \"#bd3786\"], [0.5555555555555556, \"#d8576b\"], [0.6666666666666666, \"#ed7953\"], [0.7777777777777778, \"#fb9f3a\"], [0.8888888888888888, \"#fdca26\"], [1.0, \"#f0f921\"]], \"type\": \"contour\"}], \"contourcarpet\": [{\"colorbar\": {\"outlinewidth\": 0, \"ticks\": \"\"}, \"type\": \"contourcarpet\"}], \"heatmap\": [{\"colorbar\": {\"outlinewidth\": 0, \"ticks\": \"\"}, \"colorscale\": [[0.0, \"#0d0887\"], [0.1111111111111111, \"#46039f\"], [0.2222222222222222, \"#7201a8\"], [0.3333333333333333, \"#9c179e\"], [0.4444444444444444, \"#bd3786\"], [0.5555555555555556, \"#d8576b\"], [0.6666666666666666, \"#ed7953\"], [0.7777777777777778, \"#fb9f3a\"], [0.8888888888888888, \"#fdca26\"], [1.0, \"#f0f921\"]], \"type\": \"heatmap\"}], \"heatmapgl\": [{\"colorbar\": {\"outlinewidth\": 0, \"ticks\": \"\"}, \"colorscale\": [[0.0, \"#0d0887\"], [0.1111111111111111, \"#46039f\"], [0.2222222222222222, \"#7201a8\"], [0.3333333333333333, \"#9c179e\"], [0.4444444444444444, \"#bd3786\"], [0.5555555555555556, \"#d8576b\"], [0.6666666666666666, \"#ed7953\"], [0.7777777777777778, \"#fb9f3a\"], [0.8888888888888888, \"#fdca26\"], [1.0, \"#f0f921\"]], \"type\": \"heatmapgl\"}], \"histogram\": [{\"marker\": {\"colorbar\": {\"outlinewidth\": 0, \"ticks\": \"\"}}, \"type\": \"histogram\"}], \"histogram2d\": [{\"colorbar\": {\"outlinewidth\": 0, \"ticks\": \"\"}, \"colorscale\": [[0.0, \"#0d0887\"], [0.1111111111111111, \"#46039f\"], [0.2222222222222222, \"#7201a8\"], [0.3333333333333333, \"#9c179e\"], [0.4444444444444444, \"#bd3786\"], [0.5555555555555556, \"#d8576b\"], [0.6666666666666666, \"#ed7953\"], [0.7777777777777778, \"#fb9f3a\"], [0.8888888888888888, \"#fdca26\"], [1.0, \"#f0f921\"]], \"type\": \"histogram2d\"}], \"histogram2dcontour\": [{\"colorbar\": {\"outlinewidth\": 0, \"ticks\": \"\"}, \"colorscale\": [[0.0, \"#0d0887\"], [0.1111111111111111, \"#46039f\"], [0.2222222222222222, \"#7201a8\"], [0.3333333333333333, \"#9c179e\"], [0.4444444444444444, \"#bd3786\"], [0.5555555555555556, \"#d8576b\"], [0.6666666666666666, \"#ed7953\"], [0.7777777777777778, \"#fb9f3a\"], [0.8888888888888888, \"#fdca26\"], [1.0, \"#f0f921\"]], \"type\": \"histogram2dcontour\"}], \"mesh3d\": [{\"colorbar\": {\"outlinewidth\": 0, \"ticks\": \"\"}, \"type\": \"mesh3d\"}], \"parcoords\": [{\"line\": {\"colorbar\": {\"outlinewidth\": 0, \"ticks\": \"\"}}, \"type\": \"parcoords\"}], \"pie\": [{\"automargin\": true, \"type\": \"pie\"}], \"scatter\": [{\"marker\": {\"colorbar\": {\"outlinewidth\": 0, \"ticks\": \"\"}}, \"type\": \"scatter\"}], \"scatter3d\": [{\"line\": {\"colorbar\": {\"outlinewidth\": 0, \"ticks\": \"\"}}, \"marker\": {\"colorbar\": {\"outlinewidth\": 0, \"ticks\": \"\"}}, \"type\": \"scatter3d\"}], \"scattercarpet\": [{\"marker\": {\"colorbar\": {\"outlinewidth\": 0, \"ticks\": \"\"}}, \"type\": \"scattercarpet\"}], \"scattergeo\": [{\"marker\": {\"colorbar\": {\"outlinewidth\": 0, \"ticks\": \"\"}}, \"type\": \"scattergeo\"}], \"scattergl\": [{\"marker\": {\"colorbar\": {\"outlinewidth\": 0, \"ticks\": \"\"}}, \"type\": \"scattergl\"}], \"scattermapbox\": [{\"marker\": {\"colorbar\": {\"outlinewidth\": 0, \"ticks\": \"\"}}, \"type\": \"scattermapbox\"}], \"scatterpolar\": [{\"marker\": {\"colorbar\": {\"outlinewidth\": 0, \"ticks\": \"\"}}, \"type\": \"scatterpolar\"}], \"scatterpolargl\": [{\"marker\": {\"colorbar\": {\"outlinewidth\": 0, \"ticks\": \"\"}}, \"type\": \"scatterpolargl\"}], \"scatterternary\": [{\"marker\": {\"colorbar\": {\"outlinewidth\": 0, \"ticks\": \"\"}}, \"type\": \"scatterternary\"}], \"surface\": [{\"colorbar\": {\"outlinewidth\": 0, \"ticks\": \"\"}, \"colorscale\": [[0.0, \"#0d0887\"], [0.1111111111111111, \"#46039f\"], [0.2222222222222222, \"#7201a8\"], [0.3333333333333333, \"#9c179e\"], [0.4444444444444444, \"#bd3786\"], [0.5555555555555556, \"#d8576b\"], [0.6666666666666666, \"#ed7953\"], [0.7777777777777778, \"#fb9f3a\"], [0.8888888888888888, \"#fdca26\"], [1.0, \"#f0f921\"]], \"type\": \"surface\"}], \"table\": [{\"cells\": {\"fill\": {\"color\": \"#EBF0F8\"}, \"line\": {\"color\": \"white\"}}, \"header\": {\"fill\": {\"color\": \"#C8D4E3\"}, \"line\": {\"color\": \"white\"}}, \"type\": \"table\"}]}, \"layout\": {\"annotationdefaults\": {\"arrowcolor\": \"#2a3f5f\", \"arrowhead\": 0, \"arrowwidth\": 1}, \"coloraxis\": {\"colorbar\": {\"outlinewidth\": 0, \"ticks\": \"\"}}, \"colorscale\": {\"diverging\": [[0, \"#8e0152\"], [0.1, \"#c51b7d\"], [0.2, \"#de77ae\"], [0.3, \"#f1b6da\"], [0.4, \"#fde0ef\"], [0.5, \"#f7f7f7\"], [0.6, \"#e6f5d0\"], [0.7, \"#b8e186\"], [0.8, \"#7fbc41\"], [0.9, \"#4d9221\"], [1, \"#276419\"]], \"sequential\": [[0.0, \"#0d0887\"], [0.1111111111111111, \"#46039f\"], [0.2222222222222222, \"#7201a8\"], [0.3333333333333333, \"#9c179e\"], [0.4444444444444444, \"#bd3786\"], [0.5555555555555556, \"#d8576b\"], [0.6666666666666666, \"#ed7953\"], [0.7777777777777778, \"#fb9f3a\"], [0.8888888888888888, \"#fdca26\"], [1.0, \"#f0f921\"]], \"sequentialminus\": [[0.0, \"#0d0887\"], [0.1111111111111111, \"#46039f\"], [0.2222222222222222, \"#7201a8\"], [0.3333333333333333, \"#9c179e\"], [0.4444444444444444, \"#bd3786\"], [0.5555555555555556, \"#d8576b\"], [0.6666666666666666, \"#ed7953\"], [0.7777777777777778, \"#fb9f3a\"], [0.8888888888888888, \"#fdca26\"], [1.0, \"#f0f921\"]]}, \"colorway\": [\"#636efa\", \"#EF553B\", \"#00cc96\", \"#ab63fa\", \"#FFA15A\", \"#19d3f3\", \"#FF6692\", \"#B6E880\", \"#FF97FF\", \"#FECB52\"], \"font\": {\"color\": \"#2a3f5f\"}, \"geo\": {\"bgcolor\": \"white\", \"lakecolor\": \"white\", \"landcolor\": \"#E5ECF6\", \"showlakes\": true, \"showland\": true, \"subunitcolor\": \"white\"}, \"hoverlabel\": {\"align\": \"left\"}, \"hovermode\": \"closest\", \"mapbox\": {\"style\": \"light\"}, \"paper_bgcolor\": \"white\", \"plot_bgcolor\": \"#E5ECF6\", \"polar\": {\"angularaxis\": {\"gridcolor\": \"white\", \"linecolor\": \"white\", \"ticks\": \"\"}, \"bgcolor\": \"#E5ECF6\", \"radialaxis\": {\"gridcolor\": \"white\", \"linecolor\": \"white\", \"ticks\": \"\"}}, \"scene\": {\"xaxis\": {\"backgroundcolor\": \"#E5ECF6\", \"gridcolor\": \"white\", \"gridwidth\": 2, \"linecolor\": \"white\", \"showbackground\": true, \"ticks\": \"\", \"zerolinecolor\": \"white\"}, \"yaxis\": {\"backgroundcolor\": \"#E5ECF6\", \"gridcolor\": \"white\", \"gridwidth\": 2, \"linecolor\": \"white\", \"showbackground\": true, \"ticks\": \"\", \"zerolinecolor\": \"white\"}, \"zaxis\": {\"backgroundcolor\": \"#E5ECF6\", \"gridcolor\": \"white\", \"gridwidth\": 2, \"linecolor\": \"white\", \"showbackground\": true, \"ticks\": \"\", \"zerolinecolor\": \"white\"}}, \"shapedefaults\": {\"line\": {\"color\": \"#2a3f5f\"}}, \"ternary\": {\"aaxis\": {\"gridcolor\": \"white\", \"linecolor\": \"white\", \"ticks\": \"\"}, \"baxis\": {\"gridcolor\": \"white\", \"linecolor\": \"white\", \"ticks\": \"\"}, \"bgcolor\": \"#E5ECF6\", \"caxis\": {\"gridcolor\": \"white\", \"linecolor\": \"white\", \"ticks\": \"\"}}, \"title\": {\"x\": 0.05}, \"xaxis\": {\"automargin\": true, \"gridcolor\": \"white\", \"linecolor\": \"white\", \"ticks\": \"\", \"title\": {\"standoff\": 15}, \"zerolinecolor\": \"white\", \"zerolinewidth\": 2}, \"yaxis\": {\"automargin\": true, \"gridcolor\": \"white\", \"linecolor\": \"white\", \"ticks\": \"\", \"title\": {\"standoff\": 15}, \"zerolinecolor\": \"white\", \"zerolinewidth\": 2}}}, \"title\": {\"text\": \"Remunera\\u00e7\\u00e3o Legal Total de cada org\\u00e3o (2019)\"}, \"xaxis\": {\"anchor\": \"y\", \"domain\": [0.0, 1.0], \"title\": {\"text\": \"MES\"}}, \"yaxis\": {\"anchor\": \"x\", \"domain\": [0.0, 1.0], \"title\": {\"text\": \"REMUNERACAO LEGAL TOTAL(R$)\"}}},\n",
       "                        {\"responsive\": true}\n",
       "                    ).then(function(){\n",
       "                            \n",
       "var gd = document.getElementById('e42c1409-ba96-493e-978a-578cc4207be2');\n",
       "var x = new MutationObserver(function (mutations, observer) {{\n",
       "        var display = window.getComputedStyle(gd).display;\n",
       "        if (!display || display === 'none') {{\n",
       "            console.log([gd, 'removed!']);\n",
       "            Plotly.purge(gd);\n",
       "            observer.disconnect();\n",
       "        }}\n",
       "}});\n",
       "\n",
       "// Listen for the removal of the full notebook cells\n",
       "var notebookContainer = gd.closest('#notebook-container');\n",
       "if (notebookContainer) {{\n",
       "    x.observe(notebookContainer, {childList: true});\n",
       "}}\n",
       "\n",
       "// Listen for the clearing of the current output cell\n",
       "var outputEl = gd.closest('.output');\n",
       "if (outputEl) {{\n",
       "    x.observe(outputEl, {childList: true});\n",
       "}}\n",
       "\n",
       "                        })\n",
       "                };\n",
       "                });\n",
       "            </script>\n",
       "        </div>"
      ]
     },
     "metadata": {},
     "output_type": "display_data"
    },
    {
     "data": {
      "application/vnd.plotly.v1+json": {
       "config": {
        "plotlyServerURL": "https://plot.ly"
       },
       "data": [
        {
         "hoverlabel": {
          "namelength": 0
         },
         "hovertemplate": "ORGAO=AMAZONPREV<br>MES=%{x}<br>REMUNERACAO LEGAL TOTAL(R$)=%{y}",
         "legendgroup": "AMAZONPREV",
         "line": {
          "color": "#636efa",
          "dash": "solid"
         },
         "mode": "lines",
         "name": "AMAZONPREV",
         "showlegend": true,
         "type": "scatter",
         "x": [
          1,
          2,
          3,
          4,
          5,
          6,
          7,
          8,
          9,
          10,
          11,
          12,
          13
         ],
         "xaxis": "x",
         "y": [
          117640296.10000172,
          121811764.8800018,
          119014120.89000182,
          121418965.00000224,
          122018525.73000231,
          129098614.09000356,
          126198278.04000047,
          129711790.95000014,
          130547447.66000012,
          131184694.1300001,
          131780550.07000023,
          129340534.95000012,
          129340534.95000012
         ],
         "yaxis": "y"
        },
        {
         "hoverlabel": {
          "namelength": 0
         },
         "hovertemplate": "ORGAO=PENSIONISTAS<br>MES=%{x}<br>REMUNERACAO LEGAL TOTAL(R$)=%{y}",
         "legendgroup": "PENSIONISTAS",
         "line": {
          "color": "#EF553B",
          "dash": "solid"
         },
         "mode": "lines",
         "name": "PENSIONISTAS",
         "showlegend": true,
         "type": "scatter",
         "x": [
          1,
          2,
          3,
          4,
          5,
          6,
          7,
          8,
          9,
          10,
          11,
          12,
          13
         ],
         "xaxis": "x",
         "y": [
          33038491.209999952,
          34384620.0399999,
          33153473.029999938,
          33444114.24999995,
          33734078.74999993,
          33870614.70999994,
          33712955.009999976,
          33926288.61999996,
          33981054.799999945,
          34179660.62999993,
          34265900.34999995,
          34170302.949999936,
          34170302.949999936
         ],
         "yaxis": "y"
        },
        {
         "hoverlabel": {
          "namelength": 0
         },
         "hovertemplate": "ORGAO=PM-ATIVOS<br>MES=%{x}<br>REMUNERACAO LEGAL TOTAL(R$)=%{y}",
         "legendgroup": "PM-ATIVOS",
         "line": {
          "color": "#00cc96",
          "dash": "solid"
         },
         "mode": "lines",
         "name": "PM-ATIVOS",
         "showlegend": true,
         "type": "scatter",
         "x": [
          1,
          2,
          3,
          4,
          5,
          6,
          7,
          8,
          9,
          10,
          11,
          12,
          13
         ],
         "xaxis": "x",
         "y": [
          76820362.4400019,
          70868566.42000155,
          70590712.12000175,
          77119609.24000144,
          78997008.85000108,
          79868509.45000029,
          78493458.740001,
          82945293.14000037,
          83981811.13000032,
          83422465.97000015,
          83965176.30000028,
          81923841.8700001,
          81923841.8700001
         ],
         "yaxis": "y"
        },
        {
         "hoverlabel": {
          "namelength": 0
         },
         "hovertemplate": "ORGAO=POLICIA CIVIL<br>MES=%{x}<br>REMUNERACAO LEGAL TOTAL(R$)=%{y}",
         "legendgroup": "POLICIA CIVIL",
         "line": {
          "color": "#ab63fa",
          "dash": "solid"
         },
         "mode": "lines",
         "name": "POLICIA CIVIL",
         "showlegend": true,
         "type": "scatter",
         "x": [
          1,
          2,
          3,
          4,
          5,
          6,
          7,
          8,
          9,
          10,
          11,
          12,
          13
         ],
         "xaxis": "x",
         "y": [
          44318443.10999986,
          59679843.40999995,
          43214318.30999988,
          43109017.83999986,
          44165270.72999984,
          44027534.86999982,
          43679951.25999983,
          44111011.39999993,
          43375995.94999997,
          43284402.94999993,
          43492337.05000003,
          42002100.43999988,
          42002100.43999988
         ],
         "yaxis": "y"
        },
        {
         "hoverlabel": {
          "namelength": 0
         },
         "hovertemplate": "ORGAO=SEDUC<br>MES=%{x}<br>REMUNERACAO LEGAL TOTAL(R$)=%{y}",
         "legendgroup": "SEDUC",
         "line": {
          "color": "#FFA15A",
          "dash": "solid"
         },
         "mode": "lines",
         "name": "SEDUC",
         "showlegend": true,
         "type": "scatter",
         "x": [
          1,
          2,
          3,
          4,
          5,
          6,
          7,
          8,
          10,
          11,
          12,
          13
         ],
         "xaxis": "x",
         "y": [
          103898497.32001008,
          102526052.39000809,
          104848461.18000872,
          112780215.49000862,
          108734873.33000842,
          130854814.38999934,
          117553607.90001108,
          119049099.54001041,
          115217241.91000976,
          114842929.42001,
          115568613.22001006,
          115568613.22001006
         ],
         "yaxis": "y"
        },
        {
         "hoverlabel": {
          "namelength": 0
         },
         "hovertemplate": "ORGAO=UEA<br>MES=%{x}<br>REMUNERACAO LEGAL TOTAL(R$)=%{y}",
         "legendgroup": "UEA",
         "line": {
          "color": "#19d3f3",
          "dash": "solid"
         },
         "mode": "lines",
         "name": "UEA",
         "showlegend": true,
         "type": "scatter",
         "x": [
          1,
          2,
          3,
          4,
          5,
          6,
          7,
          8,
          9,
          10,
          11,
          12,
          13
         ],
         "xaxis": "x",
         "y": [
          21887018.43999998,
          17542270.550000057,
          17613223.600000042,
          20994500.389999945,
          20744205.58999996,
          21033112.469999954,
          22947201.259999946,
          19870831.199999917,
          19977850.919999957,
          20010639.989999976,
          19751364.179999977,
          20163726.779999975,
          20163726.779999975
         ],
         "yaxis": "y"
        }
       ],
       "layout": {
        "legend": {
         "title": {
          "text": "ORGAO"
         },
         "tracegroupgap": 0
        },
        "template": {
         "data": {
          "bar": [
           {
            "error_x": {
             "color": "#2a3f5f"
            },
            "error_y": {
             "color": "#2a3f5f"
            },
            "marker": {
             "line": {
              "color": "#E5ECF6",
              "width": 0.5
             }
            },
            "type": "bar"
           }
          ],
          "barpolar": [
           {
            "marker": {
             "line": {
              "color": "#E5ECF6",
              "width": 0.5
             }
            },
            "type": "barpolar"
           }
          ],
          "carpet": [
           {
            "aaxis": {
             "endlinecolor": "#2a3f5f",
             "gridcolor": "white",
             "linecolor": "white",
             "minorgridcolor": "white",
             "startlinecolor": "#2a3f5f"
            },
            "baxis": {
             "endlinecolor": "#2a3f5f",
             "gridcolor": "white",
             "linecolor": "white",
             "minorgridcolor": "white",
             "startlinecolor": "#2a3f5f"
            },
            "type": "carpet"
           }
          ],
          "choropleth": [
           {
            "colorbar": {
             "outlinewidth": 0,
             "ticks": ""
            },
            "type": "choropleth"
           }
          ],
          "contour": [
           {
            "colorbar": {
             "outlinewidth": 0,
             "ticks": ""
            },
            "colorscale": [
             [
              0,
              "#0d0887"
             ],
             [
              0.1111111111111111,
              "#46039f"
             ],
             [
              0.2222222222222222,
              "#7201a8"
             ],
             [
              0.3333333333333333,
              "#9c179e"
             ],
             [
              0.4444444444444444,
              "#bd3786"
             ],
             [
              0.5555555555555556,
              "#d8576b"
             ],
             [
              0.6666666666666666,
              "#ed7953"
             ],
             [
              0.7777777777777778,
              "#fb9f3a"
             ],
             [
              0.8888888888888888,
              "#fdca26"
             ],
             [
              1,
              "#f0f921"
             ]
            ],
            "type": "contour"
           }
          ],
          "contourcarpet": [
           {
            "colorbar": {
             "outlinewidth": 0,
             "ticks": ""
            },
            "type": "contourcarpet"
           }
          ],
          "heatmap": [
           {
            "colorbar": {
             "outlinewidth": 0,
             "ticks": ""
            },
            "colorscale": [
             [
              0,
              "#0d0887"
             ],
             [
              0.1111111111111111,
              "#46039f"
             ],
             [
              0.2222222222222222,
              "#7201a8"
             ],
             [
              0.3333333333333333,
              "#9c179e"
             ],
             [
              0.4444444444444444,
              "#bd3786"
             ],
             [
              0.5555555555555556,
              "#d8576b"
             ],
             [
              0.6666666666666666,
              "#ed7953"
             ],
             [
              0.7777777777777778,
              "#fb9f3a"
             ],
             [
              0.8888888888888888,
              "#fdca26"
             ],
             [
              1,
              "#f0f921"
             ]
            ],
            "type": "heatmap"
           }
          ],
          "heatmapgl": [
           {
            "colorbar": {
             "outlinewidth": 0,
             "ticks": ""
            },
            "colorscale": [
             [
              0,
              "#0d0887"
             ],
             [
              0.1111111111111111,
              "#46039f"
             ],
             [
              0.2222222222222222,
              "#7201a8"
             ],
             [
              0.3333333333333333,
              "#9c179e"
             ],
             [
              0.4444444444444444,
              "#bd3786"
             ],
             [
              0.5555555555555556,
              "#d8576b"
             ],
             [
              0.6666666666666666,
              "#ed7953"
             ],
             [
              0.7777777777777778,
              "#fb9f3a"
             ],
             [
              0.8888888888888888,
              "#fdca26"
             ],
             [
              1,
              "#f0f921"
             ]
            ],
            "type": "heatmapgl"
           }
          ],
          "histogram": [
           {
            "marker": {
             "colorbar": {
              "outlinewidth": 0,
              "ticks": ""
             }
            },
            "type": "histogram"
           }
          ],
          "histogram2d": [
           {
            "colorbar": {
             "outlinewidth": 0,
             "ticks": ""
            },
            "colorscale": [
             [
              0,
              "#0d0887"
             ],
             [
              0.1111111111111111,
              "#46039f"
             ],
             [
              0.2222222222222222,
              "#7201a8"
             ],
             [
              0.3333333333333333,
              "#9c179e"
             ],
             [
              0.4444444444444444,
              "#bd3786"
             ],
             [
              0.5555555555555556,
              "#d8576b"
             ],
             [
              0.6666666666666666,
              "#ed7953"
             ],
             [
              0.7777777777777778,
              "#fb9f3a"
             ],
             [
              0.8888888888888888,
              "#fdca26"
             ],
             [
              1,
              "#f0f921"
             ]
            ],
            "type": "histogram2d"
           }
          ],
          "histogram2dcontour": [
           {
            "colorbar": {
             "outlinewidth": 0,
             "ticks": ""
            },
            "colorscale": [
             [
              0,
              "#0d0887"
             ],
             [
              0.1111111111111111,
              "#46039f"
             ],
             [
              0.2222222222222222,
              "#7201a8"
             ],
             [
              0.3333333333333333,
              "#9c179e"
             ],
             [
              0.4444444444444444,
              "#bd3786"
             ],
             [
              0.5555555555555556,
              "#d8576b"
             ],
             [
              0.6666666666666666,
              "#ed7953"
             ],
             [
              0.7777777777777778,
              "#fb9f3a"
             ],
             [
              0.8888888888888888,
              "#fdca26"
             ],
             [
              1,
              "#f0f921"
             ]
            ],
            "type": "histogram2dcontour"
           }
          ],
          "mesh3d": [
           {
            "colorbar": {
             "outlinewidth": 0,
             "ticks": ""
            },
            "type": "mesh3d"
           }
          ],
          "parcoords": [
           {
            "line": {
             "colorbar": {
              "outlinewidth": 0,
              "ticks": ""
             }
            },
            "type": "parcoords"
           }
          ],
          "pie": [
           {
            "automargin": true,
            "type": "pie"
           }
          ],
          "scatter": [
           {
            "marker": {
             "colorbar": {
              "outlinewidth": 0,
              "ticks": ""
             }
            },
            "type": "scatter"
           }
          ],
          "scatter3d": [
           {
            "line": {
             "colorbar": {
              "outlinewidth": 0,
              "ticks": ""
             }
            },
            "marker": {
             "colorbar": {
              "outlinewidth": 0,
              "ticks": ""
             }
            },
            "type": "scatter3d"
           }
          ],
          "scattercarpet": [
           {
            "marker": {
             "colorbar": {
              "outlinewidth": 0,
              "ticks": ""
             }
            },
            "type": "scattercarpet"
           }
          ],
          "scattergeo": [
           {
            "marker": {
             "colorbar": {
              "outlinewidth": 0,
              "ticks": ""
             }
            },
            "type": "scattergeo"
           }
          ],
          "scattergl": [
           {
            "marker": {
             "colorbar": {
              "outlinewidth": 0,
              "ticks": ""
             }
            },
            "type": "scattergl"
           }
          ],
          "scattermapbox": [
           {
            "marker": {
             "colorbar": {
              "outlinewidth": 0,
              "ticks": ""
             }
            },
            "type": "scattermapbox"
           }
          ],
          "scatterpolar": [
           {
            "marker": {
             "colorbar": {
              "outlinewidth": 0,
              "ticks": ""
             }
            },
            "type": "scatterpolar"
           }
          ],
          "scatterpolargl": [
           {
            "marker": {
             "colorbar": {
              "outlinewidth": 0,
              "ticks": ""
             }
            },
            "type": "scatterpolargl"
           }
          ],
          "scatterternary": [
           {
            "marker": {
             "colorbar": {
              "outlinewidth": 0,
              "ticks": ""
             }
            },
            "type": "scatterternary"
           }
          ],
          "surface": [
           {
            "colorbar": {
             "outlinewidth": 0,
             "ticks": ""
            },
            "colorscale": [
             [
              0,
              "#0d0887"
             ],
             [
              0.1111111111111111,
              "#46039f"
             ],
             [
              0.2222222222222222,
              "#7201a8"
             ],
             [
              0.3333333333333333,
              "#9c179e"
             ],
             [
              0.4444444444444444,
              "#bd3786"
             ],
             [
              0.5555555555555556,
              "#d8576b"
             ],
             [
              0.6666666666666666,
              "#ed7953"
             ],
             [
              0.7777777777777778,
              "#fb9f3a"
             ],
             [
              0.8888888888888888,
              "#fdca26"
             ],
             [
              1,
              "#f0f921"
             ]
            ],
            "type": "surface"
           }
          ],
          "table": [
           {
            "cells": {
             "fill": {
              "color": "#EBF0F8"
             },
             "line": {
              "color": "white"
             }
            },
            "header": {
             "fill": {
              "color": "#C8D4E3"
             },
             "line": {
              "color": "white"
             }
            },
            "type": "table"
           }
          ]
         },
         "layout": {
          "annotationdefaults": {
           "arrowcolor": "#2a3f5f",
           "arrowhead": 0,
           "arrowwidth": 1
          },
          "coloraxis": {
           "colorbar": {
            "outlinewidth": 0,
            "ticks": ""
           }
          },
          "colorscale": {
           "diverging": [
            [
             0,
             "#8e0152"
            ],
            [
             0.1,
             "#c51b7d"
            ],
            [
             0.2,
             "#de77ae"
            ],
            [
             0.3,
             "#f1b6da"
            ],
            [
             0.4,
             "#fde0ef"
            ],
            [
             0.5,
             "#f7f7f7"
            ],
            [
             0.6,
             "#e6f5d0"
            ],
            [
             0.7,
             "#b8e186"
            ],
            [
             0.8,
             "#7fbc41"
            ],
            [
             0.9,
             "#4d9221"
            ],
            [
             1,
             "#276419"
            ]
           ],
           "sequential": [
            [
             0,
             "#0d0887"
            ],
            [
             0.1111111111111111,
             "#46039f"
            ],
            [
             0.2222222222222222,
             "#7201a8"
            ],
            [
             0.3333333333333333,
             "#9c179e"
            ],
            [
             0.4444444444444444,
             "#bd3786"
            ],
            [
             0.5555555555555556,
             "#d8576b"
            ],
            [
             0.6666666666666666,
             "#ed7953"
            ],
            [
             0.7777777777777778,
             "#fb9f3a"
            ],
            [
             0.8888888888888888,
             "#fdca26"
            ],
            [
             1,
             "#f0f921"
            ]
           ],
           "sequentialminus": [
            [
             0,
             "#0d0887"
            ],
            [
             0.1111111111111111,
             "#46039f"
            ],
            [
             0.2222222222222222,
             "#7201a8"
            ],
            [
             0.3333333333333333,
             "#9c179e"
            ],
            [
             0.4444444444444444,
             "#bd3786"
            ],
            [
             0.5555555555555556,
             "#d8576b"
            ],
            [
             0.6666666666666666,
             "#ed7953"
            ],
            [
             0.7777777777777778,
             "#fb9f3a"
            ],
            [
             0.8888888888888888,
             "#fdca26"
            ],
            [
             1,
             "#f0f921"
            ]
           ]
          },
          "colorway": [
           "#636efa",
           "#EF553B",
           "#00cc96",
           "#ab63fa",
           "#FFA15A",
           "#19d3f3",
           "#FF6692",
           "#B6E880",
           "#FF97FF",
           "#FECB52"
          ],
          "font": {
           "color": "#2a3f5f"
          },
          "geo": {
           "bgcolor": "white",
           "lakecolor": "white",
           "landcolor": "#E5ECF6",
           "showlakes": true,
           "showland": true,
           "subunitcolor": "white"
          },
          "hoverlabel": {
           "align": "left"
          },
          "hovermode": "closest",
          "mapbox": {
           "style": "light"
          },
          "paper_bgcolor": "white",
          "plot_bgcolor": "#E5ECF6",
          "polar": {
           "angularaxis": {
            "gridcolor": "white",
            "linecolor": "white",
            "ticks": ""
           },
           "bgcolor": "#E5ECF6",
           "radialaxis": {
            "gridcolor": "white",
            "linecolor": "white",
            "ticks": ""
           }
          },
          "scene": {
           "xaxis": {
            "backgroundcolor": "#E5ECF6",
            "gridcolor": "white",
            "gridwidth": 2,
            "linecolor": "white",
            "showbackground": true,
            "ticks": "",
            "zerolinecolor": "white"
           },
           "yaxis": {
            "backgroundcolor": "#E5ECF6",
            "gridcolor": "white",
            "gridwidth": 2,
            "linecolor": "white",
            "showbackground": true,
            "ticks": "",
            "zerolinecolor": "white"
           },
           "zaxis": {
            "backgroundcolor": "#E5ECF6",
            "gridcolor": "white",
            "gridwidth": 2,
            "linecolor": "white",
            "showbackground": true,
            "ticks": "",
            "zerolinecolor": "white"
           }
          },
          "shapedefaults": {
           "line": {
            "color": "#2a3f5f"
           }
          },
          "ternary": {
           "aaxis": {
            "gridcolor": "white",
            "linecolor": "white",
            "ticks": ""
           },
           "baxis": {
            "gridcolor": "white",
            "linecolor": "white",
            "ticks": ""
           },
           "bgcolor": "#E5ECF6",
           "caxis": {
            "gridcolor": "white",
            "linecolor": "white",
            "ticks": ""
           }
          },
          "title": {
           "x": 0.05
          },
          "xaxis": {
           "automargin": true,
           "gridcolor": "white",
           "linecolor": "white",
           "ticks": "",
           "title": {
            "standoff": 15
           },
           "zerolinecolor": "white",
           "zerolinewidth": 2
          },
          "yaxis": {
           "automargin": true,
           "gridcolor": "white",
           "linecolor": "white",
           "ticks": "",
           "title": {
            "standoff": 15
           },
           "zerolinecolor": "white",
           "zerolinewidth": 2
          }
         }
        },
        "title": {
         "text": "Órgãos com o total de remunerações maior que 10.000.000 (10 milhões)"
        },
        "xaxis": {
         "anchor": "y",
         "domain": [
          0,
          1
         ],
         "title": {
          "text": "MES"
         }
        },
        "yaxis": {
         "anchor": "x",
         "domain": [
          0,
          1
         ],
         "title": {
          "text": "REMUNERACAO LEGAL TOTAL(R$)"
         }
        }
       }
      },
      "text/html": [
       "<div>\n",
       "        \n",
       "        \n",
       "            <div id=\"5806a771-85cb-4ae9-bc72-a2636397953c\" class=\"plotly-graph-div\" style=\"height:525px; width:100%;\"></div>\n",
       "            <script type=\"text/javascript\">\n",
       "                require([\"plotly\"], function(Plotly) {\n",
       "                    window.PLOTLYENV=window.PLOTLYENV || {};\n",
       "                    \n",
       "                if (document.getElementById(\"5806a771-85cb-4ae9-bc72-a2636397953c\")) {\n",
       "                    Plotly.newPlot(\n",
       "                        '5806a771-85cb-4ae9-bc72-a2636397953c',\n",
       "                        [{\"hoverlabel\": {\"namelength\": 0}, \"hovertemplate\": \"ORGAO=AMAZONPREV<br>MES=%{x}<br>REMUNERACAO LEGAL TOTAL(R$)=%{y}\", \"legendgroup\": \"AMAZONPREV\", \"line\": {\"color\": \"#636efa\", \"dash\": \"solid\"}, \"mode\": \"lines\", \"name\": \"AMAZONPREV\", \"showlegend\": true, \"type\": \"scatter\", \"x\": [1, 2, 3, 4, 5, 6, 7, 8, 9, 10, 11, 12, 13], \"xaxis\": \"x\", \"y\": [117640296.10000172, 121811764.8800018, 119014120.89000182, 121418965.00000224, 122018525.73000231, 129098614.09000356, 126198278.04000047, 129711790.95000014, 130547447.66000012, 131184694.1300001, 131780550.07000023, 129340534.95000012, 129340534.95000012], \"yaxis\": \"y\"}, {\"hoverlabel\": {\"namelength\": 0}, \"hovertemplate\": \"ORGAO=PENSIONISTAS<br>MES=%{x}<br>REMUNERACAO LEGAL TOTAL(R$)=%{y}\", \"legendgroup\": \"PENSIONISTAS\", \"line\": {\"color\": \"#EF553B\", \"dash\": \"solid\"}, \"mode\": \"lines\", \"name\": \"PENSIONISTAS\", \"showlegend\": true, \"type\": \"scatter\", \"x\": [1, 2, 3, 4, 5, 6, 7, 8, 9, 10, 11, 12, 13], \"xaxis\": \"x\", \"y\": [33038491.209999952, 34384620.0399999, 33153473.029999938, 33444114.24999995, 33734078.74999993, 33870614.70999994, 33712955.009999976, 33926288.61999996, 33981054.799999945, 34179660.62999993, 34265900.34999995, 34170302.949999936, 34170302.949999936], \"yaxis\": \"y\"}, {\"hoverlabel\": {\"namelength\": 0}, \"hovertemplate\": \"ORGAO=PM-ATIVOS<br>MES=%{x}<br>REMUNERACAO LEGAL TOTAL(R$)=%{y}\", \"legendgroup\": \"PM-ATIVOS\", \"line\": {\"color\": \"#00cc96\", \"dash\": \"solid\"}, \"mode\": \"lines\", \"name\": \"PM-ATIVOS\", \"showlegend\": true, \"type\": \"scatter\", \"x\": [1, 2, 3, 4, 5, 6, 7, 8, 9, 10, 11, 12, 13], \"xaxis\": \"x\", \"y\": [76820362.4400019, 70868566.42000155, 70590712.12000175, 77119609.24000144, 78997008.85000108, 79868509.45000029, 78493458.740001, 82945293.14000037, 83981811.13000032, 83422465.97000015, 83965176.30000028, 81923841.8700001, 81923841.8700001], \"yaxis\": \"y\"}, {\"hoverlabel\": {\"namelength\": 0}, \"hovertemplate\": \"ORGAO=POLICIA CIVIL<br>MES=%{x}<br>REMUNERACAO LEGAL TOTAL(R$)=%{y}\", \"legendgroup\": \"POLICIA CIVIL\", \"line\": {\"color\": \"#ab63fa\", \"dash\": \"solid\"}, \"mode\": \"lines\", \"name\": \"POLICIA CIVIL\", \"showlegend\": true, \"type\": \"scatter\", \"x\": [1, 2, 3, 4, 5, 6, 7, 8, 9, 10, 11, 12, 13], \"xaxis\": \"x\", \"y\": [44318443.10999986, 59679843.40999995, 43214318.30999988, 43109017.83999986, 44165270.72999984, 44027534.86999982, 43679951.25999983, 44111011.39999993, 43375995.94999997, 43284402.94999993, 43492337.05000003, 42002100.43999988, 42002100.43999988], \"yaxis\": \"y\"}, {\"hoverlabel\": {\"namelength\": 0}, \"hovertemplate\": \"ORGAO=SEDUC<br>MES=%{x}<br>REMUNERACAO LEGAL TOTAL(R$)=%{y}\", \"legendgroup\": \"SEDUC\", \"line\": {\"color\": \"#FFA15A\", \"dash\": \"solid\"}, \"mode\": \"lines\", \"name\": \"SEDUC\", \"showlegend\": true, \"type\": \"scatter\", \"x\": [1, 2, 3, 4, 5, 6, 7, 8, 10, 11, 12, 13], \"xaxis\": \"x\", \"y\": [103898497.32001008, 102526052.39000809, 104848461.18000872, 112780215.49000862, 108734873.33000842, 130854814.38999934, 117553607.90001108, 119049099.54001041, 115217241.91000976, 114842929.42001, 115568613.22001006, 115568613.22001006], \"yaxis\": \"y\"}, {\"hoverlabel\": {\"namelength\": 0}, \"hovertemplate\": \"ORGAO=UEA<br>MES=%{x}<br>REMUNERACAO LEGAL TOTAL(R$)=%{y}\", \"legendgroup\": \"UEA\", \"line\": {\"color\": \"#19d3f3\", \"dash\": \"solid\"}, \"mode\": \"lines\", \"name\": \"UEA\", \"showlegend\": true, \"type\": \"scatter\", \"x\": [1, 2, 3, 4, 5, 6, 7, 8, 9, 10, 11, 12, 13], \"xaxis\": \"x\", \"y\": [21887018.43999998, 17542270.550000057, 17613223.600000042, 20994500.389999945, 20744205.58999996, 21033112.469999954, 22947201.259999946, 19870831.199999917, 19977850.919999957, 20010639.989999976, 19751364.179999977, 20163726.779999975, 20163726.779999975], \"yaxis\": \"y\"}],\n",
       "                        {\"legend\": {\"title\": {\"text\": \"ORGAO\"}, \"tracegroupgap\": 0}, \"template\": {\"data\": {\"bar\": [{\"error_x\": {\"color\": \"#2a3f5f\"}, \"error_y\": {\"color\": \"#2a3f5f\"}, \"marker\": {\"line\": {\"color\": \"#E5ECF6\", \"width\": 0.5}}, \"type\": \"bar\"}], \"barpolar\": [{\"marker\": {\"line\": {\"color\": \"#E5ECF6\", \"width\": 0.5}}, \"type\": \"barpolar\"}], \"carpet\": [{\"aaxis\": {\"endlinecolor\": \"#2a3f5f\", \"gridcolor\": \"white\", \"linecolor\": \"white\", \"minorgridcolor\": \"white\", \"startlinecolor\": \"#2a3f5f\"}, \"baxis\": {\"endlinecolor\": \"#2a3f5f\", \"gridcolor\": \"white\", \"linecolor\": \"white\", \"minorgridcolor\": \"white\", \"startlinecolor\": \"#2a3f5f\"}, \"type\": \"carpet\"}], \"choropleth\": [{\"colorbar\": {\"outlinewidth\": 0, \"ticks\": \"\"}, \"type\": \"choropleth\"}], \"contour\": [{\"colorbar\": {\"outlinewidth\": 0, \"ticks\": \"\"}, \"colorscale\": [[0.0, \"#0d0887\"], [0.1111111111111111, \"#46039f\"], [0.2222222222222222, \"#7201a8\"], [0.3333333333333333, \"#9c179e\"], [0.4444444444444444, \"#bd3786\"], [0.5555555555555556, \"#d8576b\"], [0.6666666666666666, \"#ed7953\"], [0.7777777777777778, \"#fb9f3a\"], [0.8888888888888888, \"#fdca26\"], [1.0, \"#f0f921\"]], \"type\": \"contour\"}], \"contourcarpet\": [{\"colorbar\": {\"outlinewidth\": 0, \"ticks\": \"\"}, \"type\": \"contourcarpet\"}], \"heatmap\": [{\"colorbar\": {\"outlinewidth\": 0, \"ticks\": \"\"}, \"colorscale\": [[0.0, \"#0d0887\"], [0.1111111111111111, \"#46039f\"], [0.2222222222222222, \"#7201a8\"], [0.3333333333333333, \"#9c179e\"], [0.4444444444444444, \"#bd3786\"], [0.5555555555555556, \"#d8576b\"], [0.6666666666666666, \"#ed7953\"], [0.7777777777777778, \"#fb9f3a\"], [0.8888888888888888, \"#fdca26\"], [1.0, \"#f0f921\"]], \"type\": \"heatmap\"}], \"heatmapgl\": [{\"colorbar\": {\"outlinewidth\": 0, \"ticks\": \"\"}, \"colorscale\": [[0.0, \"#0d0887\"], [0.1111111111111111, \"#46039f\"], [0.2222222222222222, \"#7201a8\"], [0.3333333333333333, \"#9c179e\"], [0.4444444444444444, \"#bd3786\"], [0.5555555555555556, \"#d8576b\"], [0.6666666666666666, \"#ed7953\"], [0.7777777777777778, \"#fb9f3a\"], [0.8888888888888888, \"#fdca26\"], [1.0, \"#f0f921\"]], \"type\": \"heatmapgl\"}], \"histogram\": [{\"marker\": {\"colorbar\": {\"outlinewidth\": 0, \"ticks\": \"\"}}, \"type\": \"histogram\"}], \"histogram2d\": [{\"colorbar\": {\"outlinewidth\": 0, \"ticks\": \"\"}, \"colorscale\": [[0.0, \"#0d0887\"], [0.1111111111111111, \"#46039f\"], [0.2222222222222222, \"#7201a8\"], [0.3333333333333333, \"#9c179e\"], [0.4444444444444444, \"#bd3786\"], [0.5555555555555556, \"#d8576b\"], [0.6666666666666666, \"#ed7953\"], [0.7777777777777778, \"#fb9f3a\"], [0.8888888888888888, \"#fdca26\"], [1.0, \"#f0f921\"]], \"type\": \"histogram2d\"}], \"histogram2dcontour\": [{\"colorbar\": {\"outlinewidth\": 0, \"ticks\": \"\"}, \"colorscale\": [[0.0, \"#0d0887\"], [0.1111111111111111, \"#46039f\"], [0.2222222222222222, \"#7201a8\"], [0.3333333333333333, \"#9c179e\"], [0.4444444444444444, \"#bd3786\"], [0.5555555555555556, \"#d8576b\"], [0.6666666666666666, \"#ed7953\"], [0.7777777777777778, \"#fb9f3a\"], [0.8888888888888888, \"#fdca26\"], [1.0, \"#f0f921\"]], \"type\": \"histogram2dcontour\"}], \"mesh3d\": [{\"colorbar\": {\"outlinewidth\": 0, \"ticks\": \"\"}, \"type\": \"mesh3d\"}], \"parcoords\": [{\"line\": {\"colorbar\": {\"outlinewidth\": 0, \"ticks\": \"\"}}, \"type\": \"parcoords\"}], \"pie\": [{\"automargin\": true, \"type\": \"pie\"}], \"scatter\": [{\"marker\": {\"colorbar\": {\"outlinewidth\": 0, \"ticks\": \"\"}}, \"type\": \"scatter\"}], \"scatter3d\": [{\"line\": {\"colorbar\": {\"outlinewidth\": 0, \"ticks\": \"\"}}, \"marker\": {\"colorbar\": {\"outlinewidth\": 0, \"ticks\": \"\"}}, \"type\": \"scatter3d\"}], \"scattercarpet\": [{\"marker\": {\"colorbar\": {\"outlinewidth\": 0, \"ticks\": \"\"}}, \"type\": \"scattercarpet\"}], \"scattergeo\": [{\"marker\": {\"colorbar\": {\"outlinewidth\": 0, \"ticks\": \"\"}}, \"type\": \"scattergeo\"}], \"scattergl\": [{\"marker\": {\"colorbar\": {\"outlinewidth\": 0, \"ticks\": \"\"}}, \"type\": \"scattergl\"}], \"scattermapbox\": [{\"marker\": {\"colorbar\": {\"outlinewidth\": 0, \"ticks\": \"\"}}, \"type\": \"scattermapbox\"}], \"scatterpolar\": [{\"marker\": {\"colorbar\": {\"outlinewidth\": 0, \"ticks\": \"\"}}, \"type\": \"scatterpolar\"}], \"scatterpolargl\": [{\"marker\": {\"colorbar\": {\"outlinewidth\": 0, \"ticks\": \"\"}}, \"type\": \"scatterpolargl\"}], \"scatterternary\": [{\"marker\": {\"colorbar\": {\"outlinewidth\": 0, \"ticks\": \"\"}}, \"type\": \"scatterternary\"}], \"surface\": [{\"colorbar\": {\"outlinewidth\": 0, \"ticks\": \"\"}, \"colorscale\": [[0.0, \"#0d0887\"], [0.1111111111111111, \"#46039f\"], [0.2222222222222222, \"#7201a8\"], [0.3333333333333333, \"#9c179e\"], [0.4444444444444444, \"#bd3786\"], [0.5555555555555556, \"#d8576b\"], [0.6666666666666666, \"#ed7953\"], [0.7777777777777778, \"#fb9f3a\"], [0.8888888888888888, \"#fdca26\"], [1.0, \"#f0f921\"]], \"type\": \"surface\"}], \"table\": [{\"cells\": {\"fill\": {\"color\": \"#EBF0F8\"}, \"line\": {\"color\": \"white\"}}, \"header\": {\"fill\": {\"color\": \"#C8D4E3\"}, \"line\": {\"color\": \"white\"}}, \"type\": \"table\"}]}, \"layout\": {\"annotationdefaults\": {\"arrowcolor\": \"#2a3f5f\", \"arrowhead\": 0, \"arrowwidth\": 1}, \"coloraxis\": {\"colorbar\": {\"outlinewidth\": 0, \"ticks\": \"\"}}, \"colorscale\": {\"diverging\": [[0, \"#8e0152\"], [0.1, \"#c51b7d\"], [0.2, \"#de77ae\"], [0.3, \"#f1b6da\"], [0.4, \"#fde0ef\"], [0.5, \"#f7f7f7\"], [0.6, \"#e6f5d0\"], [0.7, \"#b8e186\"], [0.8, \"#7fbc41\"], [0.9, \"#4d9221\"], [1, \"#276419\"]], \"sequential\": [[0.0, \"#0d0887\"], [0.1111111111111111, \"#46039f\"], [0.2222222222222222, \"#7201a8\"], [0.3333333333333333, \"#9c179e\"], [0.4444444444444444, \"#bd3786\"], [0.5555555555555556, \"#d8576b\"], [0.6666666666666666, \"#ed7953\"], [0.7777777777777778, \"#fb9f3a\"], [0.8888888888888888, \"#fdca26\"], [1.0, \"#f0f921\"]], \"sequentialminus\": [[0.0, \"#0d0887\"], [0.1111111111111111, \"#46039f\"], [0.2222222222222222, \"#7201a8\"], [0.3333333333333333, \"#9c179e\"], [0.4444444444444444, \"#bd3786\"], [0.5555555555555556, \"#d8576b\"], [0.6666666666666666, \"#ed7953\"], [0.7777777777777778, \"#fb9f3a\"], [0.8888888888888888, \"#fdca26\"], [1.0, \"#f0f921\"]]}, \"colorway\": [\"#636efa\", \"#EF553B\", \"#00cc96\", \"#ab63fa\", \"#FFA15A\", \"#19d3f3\", \"#FF6692\", \"#B6E880\", \"#FF97FF\", \"#FECB52\"], \"font\": {\"color\": \"#2a3f5f\"}, \"geo\": {\"bgcolor\": \"white\", \"lakecolor\": \"white\", \"landcolor\": \"#E5ECF6\", \"showlakes\": true, \"showland\": true, \"subunitcolor\": \"white\"}, \"hoverlabel\": {\"align\": \"left\"}, \"hovermode\": \"closest\", \"mapbox\": {\"style\": \"light\"}, \"paper_bgcolor\": \"white\", \"plot_bgcolor\": \"#E5ECF6\", \"polar\": {\"angularaxis\": {\"gridcolor\": \"white\", \"linecolor\": \"white\", \"ticks\": \"\"}, \"bgcolor\": \"#E5ECF6\", \"radialaxis\": {\"gridcolor\": \"white\", \"linecolor\": \"white\", \"ticks\": \"\"}}, \"scene\": {\"xaxis\": {\"backgroundcolor\": \"#E5ECF6\", \"gridcolor\": \"white\", \"gridwidth\": 2, \"linecolor\": \"white\", \"showbackground\": true, \"ticks\": \"\", \"zerolinecolor\": \"white\"}, \"yaxis\": {\"backgroundcolor\": \"#E5ECF6\", \"gridcolor\": \"white\", \"gridwidth\": 2, \"linecolor\": \"white\", \"showbackground\": true, \"ticks\": \"\", \"zerolinecolor\": \"white\"}, \"zaxis\": {\"backgroundcolor\": \"#E5ECF6\", \"gridcolor\": \"white\", \"gridwidth\": 2, \"linecolor\": \"white\", \"showbackground\": true, \"ticks\": \"\", \"zerolinecolor\": \"white\"}}, \"shapedefaults\": {\"line\": {\"color\": \"#2a3f5f\"}}, \"ternary\": {\"aaxis\": {\"gridcolor\": \"white\", \"linecolor\": \"white\", \"ticks\": \"\"}, \"baxis\": {\"gridcolor\": \"white\", \"linecolor\": \"white\", \"ticks\": \"\"}, \"bgcolor\": \"#E5ECF6\", \"caxis\": {\"gridcolor\": \"white\", \"linecolor\": \"white\", \"ticks\": \"\"}}, \"title\": {\"x\": 0.05}, \"xaxis\": {\"automargin\": true, \"gridcolor\": \"white\", \"linecolor\": \"white\", \"ticks\": \"\", \"title\": {\"standoff\": 15}, \"zerolinecolor\": \"white\", \"zerolinewidth\": 2}, \"yaxis\": {\"automargin\": true, \"gridcolor\": \"white\", \"linecolor\": \"white\", \"ticks\": \"\", \"title\": {\"standoff\": 15}, \"zerolinecolor\": \"white\", \"zerolinewidth\": 2}}}, \"title\": {\"text\": \"\\u00d3rg\\u00e3os com o total de remunera\\u00e7\\u00f5es maior que 10.000.000 (10 milh\\u00f5es)\"}, \"xaxis\": {\"anchor\": \"y\", \"domain\": [0.0, 1.0], \"title\": {\"text\": \"MES\"}}, \"yaxis\": {\"anchor\": \"x\", \"domain\": [0.0, 1.0], \"title\": {\"text\": \"REMUNERACAO LEGAL TOTAL(R$)\"}}},\n",
       "                        {\"responsive\": true}\n",
       "                    ).then(function(){\n",
       "                            \n",
       "var gd = document.getElementById('5806a771-85cb-4ae9-bc72-a2636397953c');\n",
       "var x = new MutationObserver(function (mutations, observer) {{\n",
       "        var display = window.getComputedStyle(gd).display;\n",
       "        if (!display || display === 'none') {{\n",
       "            console.log([gd, 'removed!']);\n",
       "            Plotly.purge(gd);\n",
       "            observer.disconnect();\n",
       "        }}\n",
       "}});\n",
       "\n",
       "// Listen for the removal of the full notebook cells\n",
       "var notebookContainer = gd.closest('#notebook-container');\n",
       "if (notebookContainer) {{\n",
       "    x.observe(notebookContainer, {childList: true});\n",
       "}}\n",
       "\n",
       "// Listen for the clearing of the current output cell\n",
       "var outputEl = gd.closest('.output');\n",
       "if (outputEl) {{\n",
       "    x.observe(outputEl, {childList: true});\n",
       "}}\n",
       "\n",
       "                        })\n",
       "                };\n",
       "                });\n",
       "            </script>\n",
       "        </div>"
      ]
     },
     "metadata": {},
     "output_type": "display_data"
    }
   ],
   "source": [
    "ano = 2019\n",
    "df = rem_org.loc[(rem_org.ANO == ano), ['REMUNERACAO LEGAL TOTAL(R$)', 'MES', 'ANO', 'ORGAO']].groupby(by=['ORGAO', 'ANO', 'MES'], as_index=False).sum()\n",
    "\n",
    "# df.iloc[0:12]\n",
    "# df\n",
    "fig = px.line(df, title='Remuneração Legal Total de cada orgão ('+str(ano)+')', x='MES', y=\"REMUNERACAO LEGAL TOTAL(R$)\", color='ORGAO')\n",
    "# fig = px.scatter(df, title='Remuneração Legal Total de cada orgão ('+str(ano)+')', x='MES', y=\"REMUNERACAO LEGAL TOTAL(R$)\", color='ORGAO', trendline='ols')\n",
    "fig.show()\n",
    "\n",
    "df_top = df[df['REMUNERACAO LEGAL TOTAL(R$)'] > 10000000]\n",
    "df_top\n",
    "\n",
    "fig = px.line(df_top, title='Órgãos com o total de remunerações maior que 10.000.000 (10 milhões)', x='MES', y=\"REMUNERACAO LEGAL TOTAL(R$)\", color='ORGAO')\n",
    "# fig = px.scatter(df_top, title='Órgãos com o total de remunerações maior que 10.000.000 (10 milhões)', x='MES', y=\"REMUNERACAO LEGAL TOTAL(R$)\", color='ORGAO')\n",
    "fig.show()"
   ]
  },
  {
   "cell_type": "markdown",
   "metadata": {},
   "source": [
    "### Busca "
   ]
  },
  {
   "cell_type": "code",
   "execution_count": 5,
   "metadata": {
    "scrolled": true
   },
   "outputs": [
    {
     "data": {
      "application/vnd.plotly.v1+json": {
       "config": {
        "plotlyServerURL": "https://plot.ly"
       },
       "data": [
        {
         "hoverlabel": {
          "namelength": 0
         },
         "hovertemplate": "MES=%{x}<br>REMUNERACAO LEGAL TOTAL(R$)=%{y}",
         "legendgroup": "",
         "line": {
          "color": "#636efa",
          "dash": "solid"
         },
         "mode": "lines",
         "name": "",
         "showlegend": false,
         "type": "scatter",
         "x": [
          1,
          2,
          3,
          4,
          5,
          6,
          7,
          8,
          9,
          10,
          11,
          12,
          13
         ],
         "xaxis": "x",
         "y": [
          98692657.86999646,
          94692369.19999719,
          99414786.90999621,
          104598940.68000141,
          104333216.19999677,
          102059370.81999698,
          105954688.01999687,
          109715905.55999713,
          111856547.35999642,
          112122051.28999645,
          112746994.66999634,
          109963050.77999517,
          109963050.77999517
         ],
         "yaxis": "y"
        }
       ],
       "layout": {
        "legend": {
         "tracegroupgap": 0
        },
        "template": {
         "data": {
          "bar": [
           {
            "error_x": {
             "color": "#2a3f5f"
            },
            "error_y": {
             "color": "#2a3f5f"
            },
            "marker": {
             "line": {
              "color": "#E5ECF6",
              "width": 0.5
             }
            },
            "type": "bar"
           }
          ],
          "barpolar": [
           {
            "marker": {
             "line": {
              "color": "#E5ECF6",
              "width": 0.5
             }
            },
            "type": "barpolar"
           }
          ],
          "carpet": [
           {
            "aaxis": {
             "endlinecolor": "#2a3f5f",
             "gridcolor": "white",
             "linecolor": "white",
             "minorgridcolor": "white",
             "startlinecolor": "#2a3f5f"
            },
            "baxis": {
             "endlinecolor": "#2a3f5f",
             "gridcolor": "white",
             "linecolor": "white",
             "minorgridcolor": "white",
             "startlinecolor": "#2a3f5f"
            },
            "type": "carpet"
           }
          ],
          "choropleth": [
           {
            "colorbar": {
             "outlinewidth": 0,
             "ticks": ""
            },
            "type": "choropleth"
           }
          ],
          "contour": [
           {
            "colorbar": {
             "outlinewidth": 0,
             "ticks": ""
            },
            "colorscale": [
             [
              0,
              "#0d0887"
             ],
             [
              0.1111111111111111,
              "#46039f"
             ],
             [
              0.2222222222222222,
              "#7201a8"
             ],
             [
              0.3333333333333333,
              "#9c179e"
             ],
             [
              0.4444444444444444,
              "#bd3786"
             ],
             [
              0.5555555555555556,
              "#d8576b"
             ],
             [
              0.6666666666666666,
              "#ed7953"
             ],
             [
              0.7777777777777778,
              "#fb9f3a"
             ],
             [
              0.8888888888888888,
              "#fdca26"
             ],
             [
              1,
              "#f0f921"
             ]
            ],
            "type": "contour"
           }
          ],
          "contourcarpet": [
           {
            "colorbar": {
             "outlinewidth": 0,
             "ticks": ""
            },
            "type": "contourcarpet"
           }
          ],
          "heatmap": [
           {
            "colorbar": {
             "outlinewidth": 0,
             "ticks": ""
            },
            "colorscale": [
             [
              0,
              "#0d0887"
             ],
             [
              0.1111111111111111,
              "#46039f"
             ],
             [
              0.2222222222222222,
              "#7201a8"
             ],
             [
              0.3333333333333333,
              "#9c179e"
             ],
             [
              0.4444444444444444,
              "#bd3786"
             ],
             [
              0.5555555555555556,
              "#d8576b"
             ],
             [
              0.6666666666666666,
              "#ed7953"
             ],
             [
              0.7777777777777778,
              "#fb9f3a"
             ],
             [
              0.8888888888888888,
              "#fdca26"
             ],
             [
              1,
              "#f0f921"
             ]
            ],
            "type": "heatmap"
           }
          ],
          "heatmapgl": [
           {
            "colorbar": {
             "outlinewidth": 0,
             "ticks": ""
            },
            "colorscale": [
             [
              0,
              "#0d0887"
             ],
             [
              0.1111111111111111,
              "#46039f"
             ],
             [
              0.2222222222222222,
              "#7201a8"
             ],
             [
              0.3333333333333333,
              "#9c179e"
             ],
             [
              0.4444444444444444,
              "#bd3786"
             ],
             [
              0.5555555555555556,
              "#d8576b"
             ],
             [
              0.6666666666666666,
              "#ed7953"
             ],
             [
              0.7777777777777778,
              "#fb9f3a"
             ],
             [
              0.8888888888888888,
              "#fdca26"
             ],
             [
              1,
              "#f0f921"
             ]
            ],
            "type": "heatmapgl"
           }
          ],
          "histogram": [
           {
            "marker": {
             "colorbar": {
              "outlinewidth": 0,
              "ticks": ""
             }
            },
            "type": "histogram"
           }
          ],
          "histogram2d": [
           {
            "colorbar": {
             "outlinewidth": 0,
             "ticks": ""
            },
            "colorscale": [
             [
              0,
              "#0d0887"
             ],
             [
              0.1111111111111111,
              "#46039f"
             ],
             [
              0.2222222222222222,
              "#7201a8"
             ],
             [
              0.3333333333333333,
              "#9c179e"
             ],
             [
              0.4444444444444444,
              "#bd3786"
             ],
             [
              0.5555555555555556,
              "#d8576b"
             ],
             [
              0.6666666666666666,
              "#ed7953"
             ],
             [
              0.7777777777777778,
              "#fb9f3a"
             ],
             [
              0.8888888888888888,
              "#fdca26"
             ],
             [
              1,
              "#f0f921"
             ]
            ],
            "type": "histogram2d"
           }
          ],
          "histogram2dcontour": [
           {
            "colorbar": {
             "outlinewidth": 0,
             "ticks": ""
            },
            "colorscale": [
             [
              0,
              "#0d0887"
             ],
             [
              0.1111111111111111,
              "#46039f"
             ],
             [
              0.2222222222222222,
              "#7201a8"
             ],
             [
              0.3333333333333333,
              "#9c179e"
             ],
             [
              0.4444444444444444,
              "#bd3786"
             ],
             [
              0.5555555555555556,
              "#d8576b"
             ],
             [
              0.6666666666666666,
              "#ed7953"
             ],
             [
              0.7777777777777778,
              "#fb9f3a"
             ],
             [
              0.8888888888888888,
              "#fdca26"
             ],
             [
              1,
              "#f0f921"
             ]
            ],
            "type": "histogram2dcontour"
           }
          ],
          "mesh3d": [
           {
            "colorbar": {
             "outlinewidth": 0,
             "ticks": ""
            },
            "type": "mesh3d"
           }
          ],
          "parcoords": [
           {
            "line": {
             "colorbar": {
              "outlinewidth": 0,
              "ticks": ""
             }
            },
            "type": "parcoords"
           }
          ],
          "pie": [
           {
            "automargin": true,
            "type": "pie"
           }
          ],
          "scatter": [
           {
            "marker": {
             "colorbar": {
              "outlinewidth": 0,
              "ticks": ""
             }
            },
            "type": "scatter"
           }
          ],
          "scatter3d": [
           {
            "line": {
             "colorbar": {
              "outlinewidth": 0,
              "ticks": ""
             }
            },
            "marker": {
             "colorbar": {
              "outlinewidth": 0,
              "ticks": ""
             }
            },
            "type": "scatter3d"
           }
          ],
          "scattercarpet": [
           {
            "marker": {
             "colorbar": {
              "outlinewidth": 0,
              "ticks": ""
             }
            },
            "type": "scattercarpet"
           }
          ],
          "scattergeo": [
           {
            "marker": {
             "colorbar": {
              "outlinewidth": 0,
              "ticks": ""
             }
            },
            "type": "scattergeo"
           }
          ],
          "scattergl": [
           {
            "marker": {
             "colorbar": {
              "outlinewidth": 0,
              "ticks": ""
             }
            },
            "type": "scattergl"
           }
          ],
          "scattermapbox": [
           {
            "marker": {
             "colorbar": {
              "outlinewidth": 0,
              "ticks": ""
             }
            },
            "type": "scattermapbox"
           }
          ],
          "scatterpolar": [
           {
            "marker": {
             "colorbar": {
              "outlinewidth": 0,
              "ticks": ""
             }
            },
            "type": "scatterpolar"
           }
          ],
          "scatterpolargl": [
           {
            "marker": {
             "colorbar": {
              "outlinewidth": 0,
              "ticks": ""
             }
            },
            "type": "scatterpolargl"
           }
          ],
          "scatterternary": [
           {
            "marker": {
             "colorbar": {
              "outlinewidth": 0,
              "ticks": ""
             }
            },
            "type": "scatterternary"
           }
          ],
          "surface": [
           {
            "colorbar": {
             "outlinewidth": 0,
             "ticks": ""
            },
            "colorscale": [
             [
              0,
              "#0d0887"
             ],
             [
              0.1111111111111111,
              "#46039f"
             ],
             [
              0.2222222222222222,
              "#7201a8"
             ],
             [
              0.3333333333333333,
              "#9c179e"
             ],
             [
              0.4444444444444444,
              "#bd3786"
             ],
             [
              0.5555555555555556,
              "#d8576b"
             ],
             [
              0.6666666666666666,
              "#ed7953"
             ],
             [
              0.7777777777777778,
              "#fb9f3a"
             ],
             [
              0.8888888888888888,
              "#fdca26"
             ],
             [
              1,
              "#f0f921"
             ]
            ],
            "type": "surface"
           }
          ],
          "table": [
           {
            "cells": {
             "fill": {
              "color": "#EBF0F8"
             },
             "line": {
              "color": "white"
             }
            },
            "header": {
             "fill": {
              "color": "#C8D4E3"
             },
             "line": {
              "color": "white"
             }
            },
            "type": "table"
           }
          ]
         },
         "layout": {
          "annotationdefaults": {
           "arrowcolor": "#2a3f5f",
           "arrowhead": 0,
           "arrowwidth": 1
          },
          "coloraxis": {
           "colorbar": {
            "outlinewidth": 0,
            "ticks": ""
           }
          },
          "colorscale": {
           "diverging": [
            [
             0,
             "#8e0152"
            ],
            [
             0.1,
             "#c51b7d"
            ],
            [
             0.2,
             "#de77ae"
            ],
            [
             0.3,
             "#f1b6da"
            ],
            [
             0.4,
             "#fde0ef"
            ],
            [
             0.5,
             "#f7f7f7"
            ],
            [
             0.6,
             "#e6f5d0"
            ],
            [
             0.7,
             "#b8e186"
            ],
            [
             0.8,
             "#7fbc41"
            ],
            [
             0.9,
             "#4d9221"
            ],
            [
             1,
             "#276419"
            ]
           ],
           "sequential": [
            [
             0,
             "#0d0887"
            ],
            [
             0.1111111111111111,
             "#46039f"
            ],
            [
             0.2222222222222222,
             "#7201a8"
            ],
            [
             0.3333333333333333,
             "#9c179e"
            ],
            [
             0.4444444444444444,
             "#bd3786"
            ],
            [
             0.5555555555555556,
             "#d8576b"
            ],
            [
             0.6666666666666666,
             "#ed7953"
            ],
            [
             0.7777777777777778,
             "#fb9f3a"
            ],
            [
             0.8888888888888888,
             "#fdca26"
            ],
            [
             1,
             "#f0f921"
            ]
           ],
           "sequentialminus": [
            [
             0,
             "#0d0887"
            ],
            [
             0.1111111111111111,
             "#46039f"
            ],
            [
             0.2222222222222222,
             "#7201a8"
            ],
            [
             0.3333333333333333,
             "#9c179e"
            ],
            [
             0.4444444444444444,
             "#bd3786"
            ],
            [
             0.5555555555555556,
             "#d8576b"
            ],
            [
             0.6666666666666666,
             "#ed7953"
            ],
            [
             0.7777777777777778,
             "#fb9f3a"
            ],
            [
             0.8888888888888888,
             "#fdca26"
            ],
            [
             1,
             "#f0f921"
            ]
           ]
          },
          "colorway": [
           "#636efa",
           "#EF553B",
           "#00cc96",
           "#ab63fa",
           "#FFA15A",
           "#19d3f3",
           "#FF6692",
           "#B6E880",
           "#FF97FF",
           "#FECB52"
          ],
          "font": {
           "color": "#2a3f5f"
          },
          "geo": {
           "bgcolor": "white",
           "lakecolor": "white",
           "landcolor": "#E5ECF6",
           "showlakes": true,
           "showland": true,
           "subunitcolor": "white"
          },
          "hoverlabel": {
           "align": "left"
          },
          "hovermode": "closest",
          "mapbox": {
           "style": "light"
          },
          "paper_bgcolor": "white",
          "plot_bgcolor": "#E5ECF6",
          "polar": {
           "angularaxis": {
            "gridcolor": "white",
            "linecolor": "white",
            "ticks": ""
           },
           "bgcolor": "#E5ECF6",
           "radialaxis": {
            "gridcolor": "white",
            "linecolor": "white",
            "ticks": ""
           }
          },
          "scene": {
           "xaxis": {
            "backgroundcolor": "#E5ECF6",
            "gridcolor": "white",
            "gridwidth": 2,
            "linecolor": "white",
            "showbackground": true,
            "ticks": "",
            "zerolinecolor": "white"
           },
           "yaxis": {
            "backgroundcolor": "#E5ECF6",
            "gridcolor": "white",
            "gridwidth": 2,
            "linecolor": "white",
            "showbackground": true,
            "ticks": "",
            "zerolinecolor": "white"
           },
           "zaxis": {
            "backgroundcolor": "#E5ECF6",
            "gridcolor": "white",
            "gridwidth": 2,
            "linecolor": "white",
            "showbackground": true,
            "ticks": "",
            "zerolinecolor": "white"
           }
          },
          "shapedefaults": {
           "line": {
            "color": "#2a3f5f"
           }
          },
          "ternary": {
           "aaxis": {
            "gridcolor": "white",
            "linecolor": "white",
            "ticks": ""
           },
           "baxis": {
            "gridcolor": "white",
            "linecolor": "white",
            "ticks": ""
           },
           "bgcolor": "#E5ECF6",
           "caxis": {
            "gridcolor": "white",
            "linecolor": "white",
            "ticks": ""
           }
          },
          "title": {
           "x": 0.05
          },
          "xaxis": {
           "automargin": true,
           "gridcolor": "white",
           "linecolor": "white",
           "ticks": "",
           "title": {
            "standoff": 15
           },
           "zerolinecolor": "white",
           "zerolinewidth": 2
          },
          "yaxis": {
           "automargin": true,
           "gridcolor": "white",
           "linecolor": "white",
           "ticks": "",
           "title": {
            "standoff": 15
           },
           "zerolinecolor": "white",
           "zerolinewidth": 2
          }
         }
        },
        "title": {
         "text": "Remuneração Legal Total - AMAZONPREV - 2018"
        },
        "xaxis": {
         "anchor": "y",
         "domain": [
          0,
          1
         ],
         "title": {
          "text": "MES"
         }
        },
        "yaxis": {
         "anchor": "x",
         "domain": [
          0,
          1
         ],
         "title": {
          "text": "REMUNERACAO LEGAL TOTAL(R$)"
         }
        }
       }
      },
      "text/html": [
       "<div>\n",
       "        \n",
       "        \n",
       "            <div id=\"e577502a-612d-4a73-a9ac-e0f095a2c58c\" class=\"plotly-graph-div\" style=\"height:525px; width:100%;\"></div>\n",
       "            <script type=\"text/javascript\">\n",
       "                require([\"plotly\"], function(Plotly) {\n",
       "                    window.PLOTLYENV=window.PLOTLYENV || {};\n",
       "                    \n",
       "                if (document.getElementById(\"e577502a-612d-4a73-a9ac-e0f095a2c58c\")) {\n",
       "                    Plotly.newPlot(\n",
       "                        'e577502a-612d-4a73-a9ac-e0f095a2c58c',\n",
       "                        [{\"hoverlabel\": {\"namelength\": 0}, \"hovertemplate\": \"MES=%{x}<br>REMUNERACAO LEGAL TOTAL(R$)=%{y}\", \"legendgroup\": \"\", \"line\": {\"color\": \"#636efa\", \"dash\": \"solid\"}, \"mode\": \"lines\", \"name\": \"\", \"showlegend\": false, \"type\": \"scatter\", \"x\": [1, 2, 3, 4, 5, 6, 7, 8, 9, 10, 11, 12, 13], \"xaxis\": \"x\", \"y\": [98692657.86999646, 94692369.19999719, 99414786.90999621, 104598940.68000141, 104333216.19999677, 102059370.81999698, 105954688.01999687, 109715905.55999713, 111856547.35999642, 112122051.28999645, 112746994.66999634, 109963050.77999517, 109963050.77999517], \"yaxis\": \"y\"}],\n",
       "                        {\"legend\": {\"tracegroupgap\": 0}, \"template\": {\"data\": {\"bar\": [{\"error_x\": {\"color\": \"#2a3f5f\"}, \"error_y\": {\"color\": \"#2a3f5f\"}, \"marker\": {\"line\": {\"color\": \"#E5ECF6\", \"width\": 0.5}}, \"type\": \"bar\"}], \"barpolar\": [{\"marker\": {\"line\": {\"color\": \"#E5ECF6\", \"width\": 0.5}}, \"type\": \"barpolar\"}], \"carpet\": [{\"aaxis\": {\"endlinecolor\": \"#2a3f5f\", \"gridcolor\": \"white\", \"linecolor\": \"white\", \"minorgridcolor\": \"white\", \"startlinecolor\": \"#2a3f5f\"}, \"baxis\": {\"endlinecolor\": \"#2a3f5f\", \"gridcolor\": \"white\", \"linecolor\": \"white\", \"minorgridcolor\": \"white\", \"startlinecolor\": \"#2a3f5f\"}, \"type\": \"carpet\"}], \"choropleth\": [{\"colorbar\": {\"outlinewidth\": 0, \"ticks\": \"\"}, \"type\": \"choropleth\"}], \"contour\": [{\"colorbar\": {\"outlinewidth\": 0, \"ticks\": \"\"}, \"colorscale\": [[0.0, \"#0d0887\"], [0.1111111111111111, \"#46039f\"], [0.2222222222222222, \"#7201a8\"], [0.3333333333333333, \"#9c179e\"], [0.4444444444444444, \"#bd3786\"], [0.5555555555555556, \"#d8576b\"], [0.6666666666666666, \"#ed7953\"], [0.7777777777777778, \"#fb9f3a\"], [0.8888888888888888, \"#fdca26\"], [1.0, \"#f0f921\"]], \"type\": \"contour\"}], \"contourcarpet\": [{\"colorbar\": {\"outlinewidth\": 0, \"ticks\": \"\"}, \"type\": \"contourcarpet\"}], \"heatmap\": [{\"colorbar\": {\"outlinewidth\": 0, \"ticks\": \"\"}, \"colorscale\": [[0.0, \"#0d0887\"], [0.1111111111111111, \"#46039f\"], [0.2222222222222222, \"#7201a8\"], [0.3333333333333333, \"#9c179e\"], [0.4444444444444444, \"#bd3786\"], [0.5555555555555556, \"#d8576b\"], [0.6666666666666666, \"#ed7953\"], [0.7777777777777778, \"#fb9f3a\"], [0.8888888888888888, \"#fdca26\"], [1.0, \"#f0f921\"]], \"type\": \"heatmap\"}], \"heatmapgl\": [{\"colorbar\": {\"outlinewidth\": 0, \"ticks\": \"\"}, \"colorscale\": [[0.0, \"#0d0887\"], [0.1111111111111111, \"#46039f\"], [0.2222222222222222, \"#7201a8\"], [0.3333333333333333, \"#9c179e\"], [0.4444444444444444, \"#bd3786\"], [0.5555555555555556, \"#d8576b\"], [0.6666666666666666, \"#ed7953\"], [0.7777777777777778, \"#fb9f3a\"], [0.8888888888888888, \"#fdca26\"], [1.0, \"#f0f921\"]], \"type\": \"heatmapgl\"}], \"histogram\": [{\"marker\": {\"colorbar\": {\"outlinewidth\": 0, \"ticks\": \"\"}}, \"type\": \"histogram\"}], \"histogram2d\": [{\"colorbar\": {\"outlinewidth\": 0, \"ticks\": \"\"}, \"colorscale\": [[0.0, \"#0d0887\"], [0.1111111111111111, \"#46039f\"], [0.2222222222222222, \"#7201a8\"], [0.3333333333333333, \"#9c179e\"], [0.4444444444444444, \"#bd3786\"], [0.5555555555555556, \"#d8576b\"], [0.6666666666666666, \"#ed7953\"], [0.7777777777777778, \"#fb9f3a\"], [0.8888888888888888, \"#fdca26\"], [1.0, \"#f0f921\"]], \"type\": \"histogram2d\"}], \"histogram2dcontour\": [{\"colorbar\": {\"outlinewidth\": 0, \"ticks\": \"\"}, \"colorscale\": [[0.0, \"#0d0887\"], [0.1111111111111111, \"#46039f\"], [0.2222222222222222, \"#7201a8\"], [0.3333333333333333, \"#9c179e\"], [0.4444444444444444, \"#bd3786\"], [0.5555555555555556, \"#d8576b\"], [0.6666666666666666, \"#ed7953\"], [0.7777777777777778, \"#fb9f3a\"], [0.8888888888888888, \"#fdca26\"], [1.0, \"#f0f921\"]], \"type\": \"histogram2dcontour\"}], \"mesh3d\": [{\"colorbar\": {\"outlinewidth\": 0, \"ticks\": \"\"}, \"type\": \"mesh3d\"}], \"parcoords\": [{\"line\": {\"colorbar\": {\"outlinewidth\": 0, \"ticks\": \"\"}}, \"type\": \"parcoords\"}], \"pie\": [{\"automargin\": true, \"type\": \"pie\"}], \"scatter\": [{\"marker\": {\"colorbar\": {\"outlinewidth\": 0, \"ticks\": \"\"}}, \"type\": \"scatter\"}], \"scatter3d\": [{\"line\": {\"colorbar\": {\"outlinewidth\": 0, \"ticks\": \"\"}}, \"marker\": {\"colorbar\": {\"outlinewidth\": 0, \"ticks\": \"\"}}, \"type\": \"scatter3d\"}], \"scattercarpet\": [{\"marker\": {\"colorbar\": {\"outlinewidth\": 0, \"ticks\": \"\"}}, \"type\": \"scattercarpet\"}], \"scattergeo\": [{\"marker\": {\"colorbar\": {\"outlinewidth\": 0, \"ticks\": \"\"}}, \"type\": \"scattergeo\"}], \"scattergl\": [{\"marker\": {\"colorbar\": {\"outlinewidth\": 0, \"ticks\": \"\"}}, \"type\": \"scattergl\"}], \"scattermapbox\": [{\"marker\": {\"colorbar\": {\"outlinewidth\": 0, \"ticks\": \"\"}}, \"type\": \"scattermapbox\"}], \"scatterpolar\": [{\"marker\": {\"colorbar\": {\"outlinewidth\": 0, \"ticks\": \"\"}}, \"type\": \"scatterpolar\"}], \"scatterpolargl\": [{\"marker\": {\"colorbar\": {\"outlinewidth\": 0, \"ticks\": \"\"}}, \"type\": \"scatterpolargl\"}], \"scatterternary\": [{\"marker\": {\"colorbar\": {\"outlinewidth\": 0, \"ticks\": \"\"}}, \"type\": \"scatterternary\"}], \"surface\": [{\"colorbar\": {\"outlinewidth\": 0, \"ticks\": \"\"}, \"colorscale\": [[0.0, \"#0d0887\"], [0.1111111111111111, \"#46039f\"], [0.2222222222222222, \"#7201a8\"], [0.3333333333333333, \"#9c179e\"], [0.4444444444444444, \"#bd3786\"], [0.5555555555555556, \"#d8576b\"], [0.6666666666666666, \"#ed7953\"], [0.7777777777777778, \"#fb9f3a\"], [0.8888888888888888, \"#fdca26\"], [1.0, \"#f0f921\"]], \"type\": \"surface\"}], \"table\": [{\"cells\": {\"fill\": {\"color\": \"#EBF0F8\"}, \"line\": {\"color\": \"white\"}}, \"header\": {\"fill\": {\"color\": \"#C8D4E3\"}, \"line\": {\"color\": \"white\"}}, \"type\": \"table\"}]}, \"layout\": {\"annotationdefaults\": {\"arrowcolor\": \"#2a3f5f\", \"arrowhead\": 0, \"arrowwidth\": 1}, \"coloraxis\": {\"colorbar\": {\"outlinewidth\": 0, \"ticks\": \"\"}}, \"colorscale\": {\"diverging\": [[0, \"#8e0152\"], [0.1, \"#c51b7d\"], [0.2, \"#de77ae\"], [0.3, \"#f1b6da\"], [0.4, \"#fde0ef\"], [0.5, \"#f7f7f7\"], [0.6, \"#e6f5d0\"], [0.7, \"#b8e186\"], [0.8, \"#7fbc41\"], [0.9, \"#4d9221\"], [1, \"#276419\"]], \"sequential\": [[0.0, \"#0d0887\"], [0.1111111111111111, \"#46039f\"], [0.2222222222222222, \"#7201a8\"], [0.3333333333333333, \"#9c179e\"], [0.4444444444444444, \"#bd3786\"], [0.5555555555555556, \"#d8576b\"], [0.6666666666666666, \"#ed7953\"], [0.7777777777777778, \"#fb9f3a\"], [0.8888888888888888, \"#fdca26\"], [1.0, \"#f0f921\"]], \"sequentialminus\": [[0.0, \"#0d0887\"], [0.1111111111111111, \"#46039f\"], [0.2222222222222222, \"#7201a8\"], [0.3333333333333333, \"#9c179e\"], [0.4444444444444444, \"#bd3786\"], [0.5555555555555556, \"#d8576b\"], [0.6666666666666666, \"#ed7953\"], [0.7777777777777778, \"#fb9f3a\"], [0.8888888888888888, \"#fdca26\"], [1.0, \"#f0f921\"]]}, \"colorway\": [\"#636efa\", \"#EF553B\", \"#00cc96\", \"#ab63fa\", \"#FFA15A\", \"#19d3f3\", \"#FF6692\", \"#B6E880\", \"#FF97FF\", \"#FECB52\"], \"font\": {\"color\": \"#2a3f5f\"}, \"geo\": {\"bgcolor\": \"white\", \"lakecolor\": \"white\", \"landcolor\": \"#E5ECF6\", \"showlakes\": true, \"showland\": true, \"subunitcolor\": \"white\"}, \"hoverlabel\": {\"align\": \"left\"}, \"hovermode\": \"closest\", \"mapbox\": {\"style\": \"light\"}, \"paper_bgcolor\": \"white\", \"plot_bgcolor\": \"#E5ECF6\", \"polar\": {\"angularaxis\": {\"gridcolor\": \"white\", \"linecolor\": \"white\", \"ticks\": \"\"}, \"bgcolor\": \"#E5ECF6\", \"radialaxis\": {\"gridcolor\": \"white\", \"linecolor\": \"white\", \"ticks\": \"\"}}, \"scene\": {\"xaxis\": {\"backgroundcolor\": \"#E5ECF6\", \"gridcolor\": \"white\", \"gridwidth\": 2, \"linecolor\": \"white\", \"showbackground\": true, \"ticks\": \"\", \"zerolinecolor\": \"white\"}, \"yaxis\": {\"backgroundcolor\": \"#E5ECF6\", \"gridcolor\": \"white\", \"gridwidth\": 2, \"linecolor\": \"white\", \"showbackground\": true, \"ticks\": \"\", \"zerolinecolor\": \"white\"}, \"zaxis\": {\"backgroundcolor\": \"#E5ECF6\", \"gridcolor\": \"white\", \"gridwidth\": 2, \"linecolor\": \"white\", \"showbackground\": true, \"ticks\": \"\", \"zerolinecolor\": \"white\"}}, \"shapedefaults\": {\"line\": {\"color\": \"#2a3f5f\"}}, \"ternary\": {\"aaxis\": {\"gridcolor\": \"white\", \"linecolor\": \"white\", \"ticks\": \"\"}, \"baxis\": {\"gridcolor\": \"white\", \"linecolor\": \"white\", \"ticks\": \"\"}, \"bgcolor\": \"#E5ECF6\", \"caxis\": {\"gridcolor\": \"white\", \"linecolor\": \"white\", \"ticks\": \"\"}}, \"title\": {\"x\": 0.05}, \"xaxis\": {\"automargin\": true, \"gridcolor\": \"white\", \"linecolor\": \"white\", \"ticks\": \"\", \"title\": {\"standoff\": 15}, \"zerolinecolor\": \"white\", \"zerolinewidth\": 2}, \"yaxis\": {\"automargin\": true, \"gridcolor\": \"white\", \"linecolor\": \"white\", \"ticks\": \"\", \"title\": {\"standoff\": 15}, \"zerolinecolor\": \"white\", \"zerolinewidth\": 2}}}, \"title\": {\"text\": \"Remunera\\u00e7\\u00e3o Legal Total - AMAZONPREV - 2018\"}, \"xaxis\": {\"anchor\": \"y\", \"domain\": [0.0, 1.0], \"title\": {\"text\": \"MES\"}}, \"yaxis\": {\"anchor\": \"x\", \"domain\": [0.0, 1.0], \"title\": {\"text\": \"REMUNERACAO LEGAL TOTAL(R$)\"}}},\n",
       "                        {\"responsive\": true}\n",
       "                    ).then(function(){\n",
       "                            \n",
       "var gd = document.getElementById('e577502a-612d-4a73-a9ac-e0f095a2c58c');\n",
       "var x = new MutationObserver(function (mutations, observer) {{\n",
       "        var display = window.getComputedStyle(gd).display;\n",
       "        if (!display || display === 'none') {{\n",
       "            console.log([gd, 'removed!']);\n",
       "            Plotly.purge(gd);\n",
       "            observer.disconnect();\n",
       "        }}\n",
       "}});\n",
       "\n",
       "// Listen for the removal of the full notebook cells\n",
       "var notebookContainer = gd.closest('#notebook-container');\n",
       "if (notebookContainer) {{\n",
       "    x.observe(notebookContainer, {childList: true});\n",
       "}}\n",
       "\n",
       "// Listen for the clearing of the current output cell\n",
       "var outputEl = gd.closest('.output');\n",
       "if (outputEl) {{\n",
       "    x.observe(outputEl, {childList: true});\n",
       "}}\n",
       "\n",
       "                        })\n",
       "                };\n",
       "                });\n",
       "            </script>\n",
       "        </div>"
      ]
     },
     "metadata": {},
     "output_type": "display_data"
    }
   ],
   "source": [
    "ano = 2018\n",
    "orgao = 'AMAZONPREV'\n",
    "df = rem_org.loc[(rem_org.ORGAO == orgao) & (rem_org.ANO == ano), \n",
    "                 ['REMUNERACAO LEGAL TOTAL(R$)', 'MES', 'ANO', 'ORGAO']].groupby(by=['ANO', 'MES'], as_index=False).sum()\n",
    "\n",
    "fig = px.line(df, title='Remuneração Legal Total - '+orgao+' - '+str(ano), x='MES', y='REMUNERACAO LEGAL TOTAL(R$)')\n",
    "fig.show()"
   ]
  },
  {
   "cell_type": "markdown",
   "metadata": {},
   "source": [
    "## Servidores Duplicados no mesmo órgão"
   ]
  },
  {
   "cell_type": "markdown",
   "metadata": {},
   "source": [
    "### Busca (Órgão, Ano, Mês)"
   ]
  },
  {
   "cell_type": "code",
   "execution_count": 29,
   "metadata": {},
   "outputs": [
    {
     "name": "stdout",
     "output_type": "stream",
     "text": [
      "Servidores duplicados: 2\n"
     ]
    },
    {
     "data": {
      "text/html": [
       "<div>\n",
       "<style scoped>\n",
       "    .dataframe tbody tr th:only-of-type {\n",
       "        vertical-align: middle;\n",
       "    }\n",
       "\n",
       "    .dataframe tbody tr th {\n",
       "        vertical-align: top;\n",
       "    }\n",
       "\n",
       "    .dataframe thead th {\n",
       "        text-align: right;\n",
       "    }\n",
       "</style>\n",
       "<table border=\"1\" class=\"dataframe\">\n",
       "  <thead>\n",
       "    <tr style=\"text-align: right;\">\n",
       "      <th></th>\n",
       "      <th>NOME</th>\n",
       "      <th>LOTACAO</th>\n",
       "      <th>CARGO</th>\n",
       "      <th>FUNCAO</th>\n",
       "      <th>VINCULO</th>\n",
       "      <th>REMUNERACAO LEGAL TOTAL(R$)</th>\n",
       "      <th>DESC.TETO(R$)</th>\n",
       "      <th>REMUNERACAO LEGAL DEVIDA(R$)</th>\n",
       "      <th>DESCONTOS LEGAIS(R$)</th>\n",
       "      <th>LIQUIDO DISPONIVEL(R$)</th>\n",
       "      <th>ANO</th>\n",
       "      <th>MES</th>\n",
       "      <th>ORGAO</th>\n",
       "    </tr>\n",
       "  </thead>\n",
       "  <tbody>\n",
       "    <tr>\n",
       "      <th>3629853</th>\n",
       "      <td>MARIA BETANIA LEAL DE OLIVEIRA</td>\n",
       "      <td>ESCOLA SUPERIOR DE TECNOLOGIA</td>\n",
       "      <td>P.AREAS EXAT.E TEC.4A.CL-NS.104.17</td>\n",
       "      <td>P AREAS EXATAS</td>\n",
       "      <td>ESTATUTARIO</td>\n",
       "      <td>6987.22</td>\n",
       "      <td>0.0</td>\n",
       "      <td>6987.22</td>\n",
       "      <td>1609.35</td>\n",
       "      <td>5377.87</td>\n",
       "      <td>2019</td>\n",
       "      <td>7</td>\n",
       "      <td>UEA</td>\n",
       "    </tr>\n",
       "    <tr>\n",
       "      <th>3629854</th>\n",
       "      <td>MARIA BETANIA LEAL DE OLIVEIRA</td>\n",
       "      <td>ESCOLA SUP.DE TECNOLOGIA-EST</td>\n",
       "      <td>PROF.DOUTOR ADJ.C 40HS-PD.111.20</td>\n",
       "      <td>-</td>\n",
       "      <td>ESTATUTARIO</td>\n",
       "      <td>24932.86</td>\n",
       "      <td>0.0</td>\n",
       "      <td>24932.86</td>\n",
       "      <td>7322.29</td>\n",
       "      <td>17610.57</td>\n",
       "      <td>2019</td>\n",
       "      <td>7</td>\n",
       "      <td>UEA</td>\n",
       "    </tr>\n",
       "    <tr>\n",
       "      <th>3629884</th>\n",
       "      <td>MARIA DO PERPETUO SOCORRO R LIMA</td>\n",
       "      <td>ESCOLA SUP.DE ARTES E TUR.ESAT</td>\n",
       "      <td>PROFESSOR C3 ED-ESP-III</td>\n",
       "      <td>-</td>\n",
       "      <td>ESTATUTARIO</td>\n",
       "      <td>6148.20</td>\n",
       "      <td>0.0</td>\n",
       "      <td>6148.20</td>\n",
       "      <td>1295.07</td>\n",
       "      <td>4853.13</td>\n",
       "      <td>2019</td>\n",
       "      <td>7</td>\n",
       "      <td>UEA</td>\n",
       "    </tr>\n",
       "    <tr>\n",
       "      <th>3629885</th>\n",
       "      <td>MARIA DO PERPETUO SOCORRO R LIMA</td>\n",
       "      <td>ESCOLA SUP.DE ARTES E TUR.ESAT</td>\n",
       "      <td>PROFESSOR</td>\n",
       "      <td>-</td>\n",
       "      <td>ESTATUTARIO</td>\n",
       "      <td>6309.20</td>\n",
       "      <td>0.0</td>\n",
       "      <td>6309.20</td>\n",
       "      <td>1368.83</td>\n",
       "      <td>4940.37</td>\n",
       "      <td>2019</td>\n",
       "      <td>7</td>\n",
       "      <td>UEA</td>\n",
       "    </tr>\n",
       "  </tbody>\n",
       "</table>\n",
       "</div>"
      ],
      "text/plain": [
       "                                     NOME                         LOTACAO  \\\n",
       "3629853    MARIA BETANIA LEAL DE OLIVEIRA   ESCOLA SUPERIOR DE TECNOLOGIA   \n",
       "3629854    MARIA BETANIA LEAL DE OLIVEIRA    ESCOLA SUP.DE TECNOLOGIA-EST   \n",
       "3629884  MARIA DO PERPETUO SOCORRO R LIMA  ESCOLA SUP.DE ARTES E TUR.ESAT   \n",
       "3629885  MARIA DO PERPETUO SOCORRO R LIMA  ESCOLA SUP.DE ARTES E TUR.ESAT   \n",
       "\n",
       "                                      CARGO          FUNCAO       VINCULO  \\\n",
       "3629853  P.AREAS EXAT.E TEC.4A.CL-NS.104.17  P AREAS EXATAS   ESTATUTARIO   \n",
       "3629854    PROF.DOUTOR ADJ.C 40HS-PD.111.20               -   ESTATUTARIO   \n",
       "3629884             PROFESSOR C3 ED-ESP-III               -   ESTATUTARIO   \n",
       "3629885                           PROFESSOR               -   ESTATUTARIO   \n",
       "\n",
       "         REMUNERACAO LEGAL TOTAL(R$)  DESC.TETO(R$)  \\\n",
       "3629853                      6987.22            0.0   \n",
       "3629854                     24932.86            0.0   \n",
       "3629884                      6148.20            0.0   \n",
       "3629885                      6309.20            0.0   \n",
       "\n",
       "         REMUNERACAO LEGAL DEVIDA(R$)  DESCONTOS LEGAIS(R$)  \\\n",
       "3629853                       6987.22               1609.35   \n",
       "3629854                      24932.86               7322.29   \n",
       "3629884                       6148.20               1295.07   \n",
       "3629885                       6309.20               1368.83   \n",
       "\n",
       "         LIQUIDO DISPONIVEL(R$)   ANO  MES ORGAO  \n",
       "3629853                 5377.87  2019    7   UEA  \n",
       "3629854                17610.57  2019    7   UEA  \n",
       "3629884                 4853.13  2019    7   UEA  \n",
       "3629885                 4940.37  2019    7   UEA  "
      ]
     },
     "execution_count": 29,
     "metadata": {},
     "output_type": "execute_result"
    }
   ],
   "source": [
    "orgao = 'UEA'\n",
    "ano = 2019\n",
    "mes = 7\n",
    "\n",
    "df = rem_org.loc[(rem_org.ORGAO == orgao) & (rem_org.ANO == ano) & (rem_org.MES == mes)]\n",
    "duplicados = df[df.duplicated(['NOME'], keep=False)]\n",
    "n_serv = int((duplicados['NOME'].count())/2)\n",
    "\n",
    "print('Servidores duplicados:', n_serv)\n",
    "duplicados\n",
    "# rem_org"
   ]
  },
  {
   "cell_type": "markdown",
   "metadata": {},
   "source": [
    "### Quantidade de servidores duplicados por órgão"
   ]
  },
  {
   "cell_type": "code",
   "execution_count": 7,
   "metadata": {},
   "outputs": [
    {
     "data": {
      "text/html": [
       "<div>\n",
       "<style scoped>\n",
       "    .dataframe tbody tr th:only-of-type {\n",
       "        vertical-align: middle;\n",
       "    }\n",
       "\n",
       "    .dataframe tbody tr th {\n",
       "        vertical-align: top;\n",
       "    }\n",
       "\n",
       "    .dataframe thead th {\n",
       "        text-align: right;\n",
       "    }\n",
       "</style>\n",
       "<table border=\"1\" class=\"dataframe\">\n",
       "  <thead>\n",
       "    <tr style=\"text-align: right;\">\n",
       "      <th></th>\n",
       "      <th>ORGAO</th>\n",
       "      <th>N_SERVIDORES</th>\n",
       "    </tr>\n",
       "  </thead>\n",
       "  <tbody>\n",
       "    <tr>\n",
       "      <th>0</th>\n",
       "      <td>ADAF</td>\n",
       "      <td>1</td>\n",
       "    </tr>\n",
       "    <tr>\n",
       "      <th>1</th>\n",
       "      <td>ALFREDO DA MATA</td>\n",
       "      <td>300</td>\n",
       "    </tr>\n",
       "    <tr>\n",
       "      <th>2</th>\n",
       "      <td>AMAZONPREV</td>\n",
       "      <td>156256</td>\n",
       "    </tr>\n",
       "    <tr>\n",
       "      <th>3</th>\n",
       "      <td>ARSAM</td>\n",
       "      <td>49</td>\n",
       "    </tr>\n",
       "    <tr>\n",
       "      <th>4</th>\n",
       "      <td>CASA CIVIL DO GOVERNO</td>\n",
       "      <td>104</td>\n",
       "    </tr>\n",
       "    <tr>\n",
       "      <th>5</th>\n",
       "      <td>CASA MILITAR</td>\n",
       "      <td>8</td>\n",
       "    </tr>\n",
       "    <tr>\n",
       "      <th>6</th>\n",
       "      <td>CETAM</td>\n",
       "      <td>326</td>\n",
       "    </tr>\n",
       "    <tr>\n",
       "      <th>7</th>\n",
       "      <td>CGE</td>\n",
       "      <td>42</td>\n",
       "    </tr>\n",
       "    <tr>\n",
       "      <th>8</th>\n",
       "      <td>CGL</td>\n",
       "      <td>29</td>\n",
       "    </tr>\n",
       "    <tr>\n",
       "      <th>9</th>\n",
       "      <td>DETRAN</td>\n",
       "      <td>8</td>\n",
       "    </tr>\n",
       "    <tr>\n",
       "      <th>10</th>\n",
       "      <td>FAPEAM</td>\n",
       "      <td>1</td>\n",
       "    </tr>\n",
       "    <tr>\n",
       "      <th>11</th>\n",
       "      <td>FCECON</td>\n",
       "      <td>423</td>\n",
       "    </tr>\n",
       "    <tr>\n",
       "      <th>12</th>\n",
       "      <td>FEI</td>\n",
       "      <td>13</td>\n",
       "    </tr>\n",
       "    <tr>\n",
       "      <th>13</th>\n",
       "      <td>FHAJ</td>\n",
       "      <td>406</td>\n",
       "    </tr>\n",
       "    <tr>\n",
       "      <th>14</th>\n",
       "      <td>FHEMOAM</td>\n",
       "      <td>1059</td>\n",
       "    </tr>\n",
       "    <tr>\n",
       "      <th>15</th>\n",
       "      <td>FMT-AM</td>\n",
       "      <td>569</td>\n",
       "    </tr>\n",
       "    <tr>\n",
       "      <th>16</th>\n",
       "      <td>FUNDAÇÃO AMAZONPREV</td>\n",
       "      <td>1</td>\n",
       "    </tr>\n",
       "    <tr>\n",
       "      <th>17</th>\n",
       "      <td>FUNTEC</td>\n",
       "      <td>5</td>\n",
       "    </tr>\n",
       "    <tr>\n",
       "      <th>18</th>\n",
       "      <td>FVS</td>\n",
       "      <td>412</td>\n",
       "    </tr>\n",
       "    <tr>\n",
       "      <th>19</th>\n",
       "      <td>IDAM</td>\n",
       "      <td>4</td>\n",
       "    </tr>\n",
       "    <tr>\n",
       "      <th>20</th>\n",
       "      <td>IMPRENSA OFICIAL</td>\n",
       "      <td>2</td>\n",
       "    </tr>\n",
       "    <tr>\n",
       "      <th>21</th>\n",
       "      <td>IPAAM</td>\n",
       "      <td>9</td>\n",
       "    </tr>\n",
       "    <tr>\n",
       "      <th>22</th>\n",
       "      <td>IPEM-AM</td>\n",
       "      <td>2</td>\n",
       "    </tr>\n",
       "    <tr>\n",
       "      <th>23</th>\n",
       "      <td>JUCEA</td>\n",
       "      <td>2</td>\n",
       "    </tr>\n",
       "    <tr>\n",
       "      <th>24</th>\n",
       "      <td>PENSIONISTAS</td>\n",
       "      <td>1065</td>\n",
       "    </tr>\n",
       "    <tr>\n",
       "      <th>25</th>\n",
       "      <td>PGE</td>\n",
       "      <td>6</td>\n",
       "    </tr>\n",
       "    <tr>\n",
       "      <th>26</th>\n",
       "      <td>PM-ATIVOS</td>\n",
       "      <td>452</td>\n",
       "    </tr>\n",
       "    <tr>\n",
       "      <th>27</th>\n",
       "      <td>PM-CIVIS</td>\n",
       "      <td>8</td>\n",
       "    </tr>\n",
       "    <tr>\n",
       "      <th>28</th>\n",
       "      <td>POLICIA CIVIL</td>\n",
       "      <td>9</td>\n",
       "    </tr>\n",
       "    <tr>\n",
       "      <th>29</th>\n",
       "      <td>SEAD</td>\n",
       "      <td>24</td>\n",
       "    </tr>\n",
       "    <tr>\n",
       "      <th>30</th>\n",
       "      <td>SEAD-PENSÃO HANSENIANOS</td>\n",
       "      <td>883</td>\n",
       "    </tr>\n",
       "    <tr>\n",
       "      <th>31</th>\n",
       "      <td>SEAP</td>\n",
       "      <td>112</td>\n",
       "    </tr>\n",
       "    <tr>\n",
       "      <th>32</th>\n",
       "      <td>SEAS</td>\n",
       "      <td>22</td>\n",
       "    </tr>\n",
       "    <tr>\n",
       "      <th>33</th>\n",
       "      <td>SEC</td>\n",
       "      <td>22</td>\n",
       "    </tr>\n",
       "    <tr>\n",
       "      <th>34</th>\n",
       "      <td>SECOM</td>\n",
       "      <td>8</td>\n",
       "    </tr>\n",
       "    <tr>\n",
       "      <th>35</th>\n",
       "      <td>SEDUC</td>\n",
       "      <td>131598</td>\n",
       "    </tr>\n",
       "    <tr>\n",
       "      <th>36</th>\n",
       "      <td>SEFAZ</td>\n",
       "      <td>10</td>\n",
       "    </tr>\n",
       "    <tr>\n",
       "      <th>37</th>\n",
       "      <td>SEINFRA</td>\n",
       "      <td>18</td>\n",
       "    </tr>\n",
       "    <tr>\n",
       "      <th>38</th>\n",
       "      <td>SEJEL</td>\n",
       "      <td>15</td>\n",
       "    </tr>\n",
       "    <tr>\n",
       "      <th>39</th>\n",
       "      <td>SEJUSC</td>\n",
       "      <td>21</td>\n",
       "    </tr>\n",
       "    <tr>\n",
       "      <th>40</th>\n",
       "      <td>SEMA</td>\n",
       "      <td>19</td>\n",
       "    </tr>\n",
       "    <tr>\n",
       "      <th>41</th>\n",
       "      <td>SEPED</td>\n",
       "      <td>8</td>\n",
       "    </tr>\n",
       "    <tr>\n",
       "      <th>42</th>\n",
       "      <td>SEPLANCTI</td>\n",
       "      <td>5</td>\n",
       "    </tr>\n",
       "    <tr>\n",
       "      <th>43</th>\n",
       "      <td>SEPROR</td>\n",
       "      <td>18</td>\n",
       "    </tr>\n",
       "    <tr>\n",
       "      <th>44</th>\n",
       "      <td>SERIRA</td>\n",
       "      <td>17</td>\n",
       "    </tr>\n",
       "    <tr>\n",
       "      <th>45</th>\n",
       "      <td>SETRAB</td>\n",
       "      <td>3</td>\n",
       "    </tr>\n",
       "    <tr>\n",
       "      <th>46</th>\n",
       "      <td>SNPH</td>\n",
       "      <td>4</td>\n",
       "    </tr>\n",
       "    <tr>\n",
       "      <th>47</th>\n",
       "      <td>SPF</td>\n",
       "      <td>9</td>\n",
       "    </tr>\n",
       "    <tr>\n",
       "      <th>48</th>\n",
       "      <td>SRMM</td>\n",
       "      <td>6</td>\n",
       "    </tr>\n",
       "    <tr>\n",
       "      <th>49</th>\n",
       "      <td>SSP</td>\n",
       "      <td>140</td>\n",
       "    </tr>\n",
       "    <tr>\n",
       "      <th>50</th>\n",
       "      <td>SUHAB</td>\n",
       "      <td>19</td>\n",
       "    </tr>\n",
       "    <tr>\n",
       "      <th>51</th>\n",
       "      <td>SUSAM</td>\n",
       "      <td>15606</td>\n",
       "    </tr>\n",
       "    <tr>\n",
       "      <th>52</th>\n",
       "      <td>UEA</td>\n",
       "      <td>93</td>\n",
       "    </tr>\n",
       "    <tr>\n",
       "      <th>53</th>\n",
       "      <td>UGPE</td>\n",
       "      <td>3</td>\n",
       "    </tr>\n",
       "    <tr>\n",
       "      <th>54</th>\n",
       "      <td>VICE-GOVERNADORIA</td>\n",
       "      <td>3</td>\n",
       "    </tr>\n",
       "  </tbody>\n",
       "</table>\n",
       "</div>"
      ],
      "text/plain": [
       "                      ORGAO  N_SERVIDORES\n",
       "0                      ADAF             1\n",
       "1           ALFREDO DA MATA           300\n",
       "2                AMAZONPREV        156256\n",
       "3                     ARSAM            49\n",
       "4     CASA CIVIL DO GOVERNO           104\n",
       "5              CASA MILITAR             8\n",
       "6                     CETAM           326\n",
       "7                       CGE            42\n",
       "8                       CGL            29\n",
       "9                    DETRAN             8\n",
       "10                   FAPEAM             1\n",
       "11                   FCECON           423\n",
       "12                      FEI            13\n",
       "13                     FHAJ           406\n",
       "14                  FHEMOAM          1059\n",
       "15                   FMT-AM           569\n",
       "16      FUNDAÇÃO AMAZONPREV             1\n",
       "17                   FUNTEC             5\n",
       "18                      FVS           412\n",
       "19                     IDAM             4\n",
       "20         IMPRENSA OFICIAL             2\n",
       "21                    IPAAM             9\n",
       "22                  IPEM-AM             2\n",
       "23                    JUCEA             2\n",
       "24             PENSIONISTAS          1065\n",
       "25                      PGE             6\n",
       "26                PM-ATIVOS           452\n",
       "27                 PM-CIVIS             8\n",
       "28            POLICIA CIVIL             9\n",
       "29                     SEAD            24\n",
       "30  SEAD-PENSÃO HANSENIANOS           883\n",
       "31                     SEAP           112\n",
       "32                     SEAS            22\n",
       "33                      SEC            22\n",
       "34                    SECOM             8\n",
       "35                    SEDUC        131598\n",
       "36                    SEFAZ            10\n",
       "37                  SEINFRA            18\n",
       "38                    SEJEL            15\n",
       "39                   SEJUSC            21\n",
       "40                     SEMA            19\n",
       "41                    SEPED             8\n",
       "42                SEPLANCTI             5\n",
       "43                   SEPROR            18\n",
       "44                   SERIRA            17\n",
       "45                   SETRAB             3\n",
       "46                     SNPH             4\n",
       "47                      SPF             9\n",
       "48                     SRMM             6\n",
       "49                      SSP           140\n",
       "50                    SUHAB            19\n",
       "51                    SUSAM         15606\n",
       "52                      UEA            93\n",
       "53                     UGPE             3\n",
       "54        VICE-GOVERNADORIA             3"
      ]
     },
     "execution_count": 7,
     "metadata": {},
     "output_type": "execute_result"
    }
   ],
   "source": [
    "df = rem_org[['NOME', 'ANO', 'MES', 'ORGAO']]\n",
    "df_bool = df.duplicated()\n",
    "duplicados = df[df_bool]\n",
    "duplicados_count = duplicados.groupby(['ORGAO'], as_index=False)['NOME'].count()\n",
    "duplicados_count.rename(columns={'NOME': 'N_SERVIDORES'})"
   ]
  },
  {
   "cell_type": "markdown",
   "metadata": {},
   "source": [
    "### Quantidade de servidores duplicados por órgão e ano"
   ]
  },
  {
   "cell_type": "code",
   "execution_count": 8,
   "metadata": {},
   "outputs": [
    {
     "data": {
      "text/html": [
       "<div>\n",
       "<style scoped>\n",
       "    .dataframe tbody tr th:only-of-type {\n",
       "        vertical-align: middle;\n",
       "    }\n",
       "\n",
       "    .dataframe tbody tr th {\n",
       "        vertical-align: top;\n",
       "    }\n",
       "\n",
       "    .dataframe thead th {\n",
       "        text-align: right;\n",
       "    }\n",
       "</style>\n",
       "<table border=\"1\" class=\"dataframe\">\n",
       "  <thead>\n",
       "    <tr style=\"text-align: right;\">\n",
       "      <th></th>\n",
       "      <th>ORGAO</th>\n",
       "      <th>ANO</th>\n",
       "      <th>N_SERVIDORES</th>\n",
       "    </tr>\n",
       "  </thead>\n",
       "  <tbody>\n",
       "    <tr>\n",
       "      <th>0</th>\n",
       "      <td>ADAF</td>\n",
       "      <td>2017</td>\n",
       "      <td>1</td>\n",
       "    </tr>\n",
       "    <tr>\n",
       "      <th>1</th>\n",
       "      <td>ALFREDO DA MATA</td>\n",
       "      <td>2017</td>\n",
       "      <td>63</td>\n",
       "    </tr>\n",
       "    <tr>\n",
       "      <th>2</th>\n",
       "      <td>ALFREDO DA MATA</td>\n",
       "      <td>2018</td>\n",
       "      <td>111</td>\n",
       "    </tr>\n",
       "    <tr>\n",
       "      <th>3</th>\n",
       "      <td>ALFREDO DA MATA</td>\n",
       "      <td>2019</td>\n",
       "      <td>117</td>\n",
       "    </tr>\n",
       "    <tr>\n",
       "      <th>4</th>\n",
       "      <td>ALFREDO DA MATA</td>\n",
       "      <td>2020</td>\n",
       "      <td>9</td>\n",
       "    </tr>\n",
       "    <tr>\n",
       "      <th>...</th>\n",
       "      <td>...</td>\n",
       "      <td>...</td>\n",
       "      <td>...</td>\n",
       "    </tr>\n",
       "    <tr>\n",
       "      <th>136</th>\n",
       "      <td>UEA</td>\n",
       "      <td>2019</td>\n",
       "      <td>28</td>\n",
       "    </tr>\n",
       "    <tr>\n",
       "      <th>137</th>\n",
       "      <td>UEA</td>\n",
       "      <td>2020</td>\n",
       "      <td>2</td>\n",
       "    </tr>\n",
       "    <tr>\n",
       "      <th>138</th>\n",
       "      <td>UGPE</td>\n",
       "      <td>2017</td>\n",
       "      <td>3</td>\n",
       "    </tr>\n",
       "    <tr>\n",
       "      <th>139</th>\n",
       "      <td>VICE-GOVERNADORIA</td>\n",
       "      <td>2017</td>\n",
       "      <td>1</td>\n",
       "    </tr>\n",
       "    <tr>\n",
       "      <th>140</th>\n",
       "      <td>VICE-GOVERNADORIA</td>\n",
       "      <td>2018</td>\n",
       "      <td>2</td>\n",
       "    </tr>\n",
       "  </tbody>\n",
       "</table>\n",
       "<p>141 rows × 3 columns</p>\n",
       "</div>"
      ],
      "text/plain": [
       "                 ORGAO   ANO  N_SERVIDORES\n",
       "0                 ADAF  2017             1\n",
       "1      ALFREDO DA MATA  2017            63\n",
       "2      ALFREDO DA MATA  2018           111\n",
       "3      ALFREDO DA MATA  2019           117\n",
       "4      ALFREDO DA MATA  2020             9\n",
       "..                 ...   ...           ...\n",
       "136                UEA  2019            28\n",
       "137                UEA  2020             2\n",
       "138               UGPE  2017             3\n",
       "139  VICE-GOVERNADORIA  2017             1\n",
       "140  VICE-GOVERNADORIA  2018             2\n",
       "\n",
       "[141 rows x 3 columns]"
      ]
     },
     "execution_count": 8,
     "metadata": {},
     "output_type": "execute_result"
    }
   ],
   "source": [
    "df = rem_org[['NOME', 'ANO', 'MES', 'ORGAO']]\n",
    "df_bool = df.duplicated()\n",
    "duplicados = df[df_bool]\n",
    "duplicados_count = duplicados.groupby(['ORGAO', 'ANO'], as_index=False)['NOME'].count()\n",
    "duplicados_count.rename(columns={'NOME': 'N_SERVIDORES'})"
   ]
  },
  {
   "cell_type": "markdown",
   "metadata": {},
   "source": [
    "### Quantidade de servidores duplicados por órgão, ano e mês"
   ]
  },
  {
   "cell_type": "code",
   "execution_count": 9,
   "metadata": {},
   "outputs": [
    {
     "data": {
      "text/html": [
       "<div>\n",
       "<style scoped>\n",
       "    .dataframe tbody tr th:only-of-type {\n",
       "        vertical-align: middle;\n",
       "    }\n",
       "\n",
       "    .dataframe tbody tr th {\n",
       "        vertical-align: top;\n",
       "    }\n",
       "\n",
       "    .dataframe thead th {\n",
       "        text-align: right;\n",
       "    }\n",
       "</style>\n",
       "<table border=\"1\" class=\"dataframe\">\n",
       "  <thead>\n",
       "    <tr style=\"text-align: right;\">\n",
       "      <th></th>\n",
       "      <th>ORGAO</th>\n",
       "      <th>ANO</th>\n",
       "      <th>MES</th>\n",
       "      <th>N_SERVIDORES</th>\n",
       "    </tr>\n",
       "  </thead>\n",
       "  <tbody>\n",
       "    <tr>\n",
       "      <th>0</th>\n",
       "      <td>ADAF</td>\n",
       "      <td>2017</td>\n",
       "      <td>8</td>\n",
       "      <td>1</td>\n",
       "    </tr>\n",
       "    <tr>\n",
       "      <th>1</th>\n",
       "      <td>ALFREDO DA MATA</td>\n",
       "      <td>2017</td>\n",
       "      <td>5</td>\n",
       "      <td>7</td>\n",
       "    </tr>\n",
       "    <tr>\n",
       "      <th>2</th>\n",
       "      <td>ALFREDO DA MATA</td>\n",
       "      <td>2017</td>\n",
       "      <td>6</td>\n",
       "      <td>7</td>\n",
       "    </tr>\n",
       "    <tr>\n",
       "      <th>3</th>\n",
       "      <td>ALFREDO DA MATA</td>\n",
       "      <td>2017</td>\n",
       "      <td>7</td>\n",
       "      <td>7</td>\n",
       "    </tr>\n",
       "    <tr>\n",
       "      <th>4</th>\n",
       "      <td>ALFREDO DA MATA</td>\n",
       "      <td>2017</td>\n",
       "      <td>8</td>\n",
       "      <td>7</td>\n",
       "    </tr>\n",
       "    <tr>\n",
       "      <th>...</th>\n",
       "      <td>...</td>\n",
       "      <td>...</td>\n",
       "      <td>...</td>\n",
       "      <td>...</td>\n",
       "    </tr>\n",
       "    <tr>\n",
       "      <th>791</th>\n",
       "      <td>UGPE</td>\n",
       "      <td>2017</td>\n",
       "      <td>11</td>\n",
       "      <td>1</td>\n",
       "    </tr>\n",
       "    <tr>\n",
       "      <th>792</th>\n",
       "      <td>UGPE</td>\n",
       "      <td>2017</td>\n",
       "      <td>12</td>\n",
       "      <td>1</td>\n",
       "    </tr>\n",
       "    <tr>\n",
       "      <th>793</th>\n",
       "      <td>UGPE</td>\n",
       "      <td>2017</td>\n",
       "      <td>13</td>\n",
       "      <td>1</td>\n",
       "    </tr>\n",
       "    <tr>\n",
       "      <th>794</th>\n",
       "      <td>VICE-GOVERNADORIA</td>\n",
       "      <td>2017</td>\n",
       "      <td>11</td>\n",
       "      <td>1</td>\n",
       "    </tr>\n",
       "    <tr>\n",
       "      <th>795</th>\n",
       "      <td>VICE-GOVERNADORIA</td>\n",
       "      <td>2018</td>\n",
       "      <td>3</td>\n",
       "      <td>2</td>\n",
       "    </tr>\n",
       "  </tbody>\n",
       "</table>\n",
       "<p>796 rows × 4 columns</p>\n",
       "</div>"
      ],
      "text/plain": [
       "                 ORGAO   ANO  MES  N_SERVIDORES\n",
       "0                 ADAF  2017    8             1\n",
       "1      ALFREDO DA MATA  2017    5             7\n",
       "2      ALFREDO DA MATA  2017    6             7\n",
       "3      ALFREDO DA MATA  2017    7             7\n",
       "4      ALFREDO DA MATA  2017    8             7\n",
       "..                 ...   ...  ...           ...\n",
       "791               UGPE  2017   11             1\n",
       "792               UGPE  2017   12             1\n",
       "793               UGPE  2017   13             1\n",
       "794  VICE-GOVERNADORIA  2017   11             1\n",
       "795  VICE-GOVERNADORIA  2018    3             2\n",
       "\n",
       "[796 rows x 4 columns]"
      ]
     },
     "execution_count": 9,
     "metadata": {},
     "output_type": "execute_result"
    }
   ],
   "source": [
    "df = rem_org[['NOME', 'ANO', 'MES', 'ORGAO']]\n",
    "df_bool = df.duplicated()\n",
    "duplicados = df[df_bool]\n",
    "duplicados_count = duplicados.groupby(['ORGAO', 'ANO', 'MES'], as_index=False)['NOME'].count()\n",
    "duplicados_count.rename(columns={'NOME': 'N_SERVIDORES'})"
   ]
  },
  {
   "cell_type": "markdown",
   "metadata": {},
   "source": [
    "## Servidores Duplicados em órgãos diferentes"
   ]
  },
  {
   "cell_type": "code",
   "execution_count": 10,
   "metadata": {},
   "outputs": [
    {
     "data": {
      "text/plain": [
       "0                 AIRTON GONCALVES DOS SANTOS\n",
       "36          ALEXANDRE HENRIQUE FREITAS ARAUJO\n",
       "72                  AMILCAR DA SILVA FERREIRA\n",
       "179         BARBARA BRANDAO FERREIRA SILVEIRA\n",
       "216               DERLANI JOSE PEREIRA SERRAO\n",
       "                         ...                 \n",
       "541062          CIMARA BARROSO BRAGA DA SILVA\n",
       "541080          DENIRA ISABEL GONCALVES SILVA\n",
       "541107    MARA CRISTINA BATISTA DO NASCIMENTO\n",
       "541135                   MARCEL PAREDES VALIN\n",
       "541142                  THIRSO DEL CORSO NETO\n",
       "Name: NOME, Length: 11042, dtype: object"
      ]
     },
     "execution_count": 10,
     "metadata": {},
     "output_type": "execute_result"
    }
   ],
   "source": [
    "\n",
    "df = rem_org.loc[:,['NOME', 'ANO', 'MES', 'ORGAO']]\n",
    "\n",
    "df = df.drop_duplicates(['NOME','ORGAO'])\n",
    "df = df.groupby('NOME', as_index=False)[['ORGAO']].count()\n",
    "\n",
    "df_bool = df[df['ORGAO'] > 1]\n",
    "df_bool\n",
    "\n",
    "nomes = df_bool['NOME']\n",
    "nomes = rem_org.merge(nomes, indicator=True, how='inner')['NOME']\n",
    "nomes.drop_duplicates()\n",
    "# vai = rem_org[rem_org['NOME'] == nomes]"
   ]
  },
  {
   "cell_type": "markdown",
   "metadata": {},
   "source": [
    "### Busca de servidores"
   ]
  },
  {
   "cell_type": "code",
   "execution_count": 32,
   "metadata": {},
   "outputs": [
    {
     "data": {
      "application/vnd.plotly.v1+json": {
       "config": {
        "plotlyServerURL": "https://plot.ly"
       },
       "data": [
        {
         "hoverlabel": {
          "namelength": 0
         },
         "hovertemplate": "ORGAO=ADAF<br>ANO=%{x}<br>REMUNERACAO LEGAL TOTAL(R$)=%{y}",
         "legendgroup": "ADAF",
         "line": {
          "color": "#636efa",
          "dash": "solid"
         },
         "mode": "lines",
         "name": "ADAF",
         "showlegend": true,
         "type": "scatter",
         "x": [
          2017,
          2017,
          2019,
          2019,
          2019,
          2019,
          2019,
          2019,
          2019,
          2019,
          2019,
          2019,
          2019,
          2019,
          2019,
          2020
         ],
         "xaxis": "x",
         "y": [
          13213.28,
          11458.28,
          19358.46,
          14606.15,
          14606.15,
          14606.15,
          14606.15,
          14606.15,
          14606.15,
          14606.15,
          14606.15,
          14606.15,
          25825.46,
          25825.46,
          25825.46,
          19558.46
         ],
         "yaxis": "y"
        },
        {
         "hoverlabel": {
          "namelength": 0
         },
         "hovertemplate": "ORGAO=SEPROR<br>ANO=%{x}<br>REMUNERACAO LEGAL TOTAL(R$)=%{y}",
         "legendgroup": "SEPROR",
         "line": {
          "color": "#EF553B",
          "dash": "solid"
         },
         "mode": "lines",
         "name": "SEPROR",
         "showlegend": true,
         "type": "scatter",
         "x": [
          2017,
          2017,
          2017,
          2017,
          2017,
          2017,
          2017,
          2018,
          2018,
          2018,
          2018,
          2018,
          2018,
          2018,
          2018,
          2018,
          2018,
          2018,
          2018,
          2018
         ],
         "xaxis": "x",
         "y": [
          10058.28,
          10058.28,
          10058.28,
          10058.28,
          6058.28,
          14741.6,
          14741.6,
          14727.96,
          17591.62,
          15958.28,
          15958.28,
          15958.28,
          16106.15,
          16106.15,
          16447.91,
          16447.91,
          16747.91,
          16406.15,
          16406.15,
          16406.15
         ],
         "yaxis": "y"
        }
       ],
       "layout": {
        "legend": {
         "title": {
          "text": "ORGAO"
         },
         "tracegroupgap": 0
        },
        "template": {
         "data": {
          "bar": [
           {
            "error_x": {
             "color": "#2a3f5f"
            },
            "error_y": {
             "color": "#2a3f5f"
            },
            "marker": {
             "line": {
              "color": "#E5ECF6",
              "width": 0.5
             }
            },
            "type": "bar"
           }
          ],
          "barpolar": [
           {
            "marker": {
             "line": {
              "color": "#E5ECF6",
              "width": 0.5
             }
            },
            "type": "barpolar"
           }
          ],
          "carpet": [
           {
            "aaxis": {
             "endlinecolor": "#2a3f5f",
             "gridcolor": "white",
             "linecolor": "white",
             "minorgridcolor": "white",
             "startlinecolor": "#2a3f5f"
            },
            "baxis": {
             "endlinecolor": "#2a3f5f",
             "gridcolor": "white",
             "linecolor": "white",
             "minorgridcolor": "white",
             "startlinecolor": "#2a3f5f"
            },
            "type": "carpet"
           }
          ],
          "choropleth": [
           {
            "colorbar": {
             "outlinewidth": 0,
             "ticks": ""
            },
            "type": "choropleth"
           }
          ],
          "contour": [
           {
            "colorbar": {
             "outlinewidth": 0,
             "ticks": ""
            },
            "colorscale": [
             [
              0,
              "#0d0887"
             ],
             [
              0.1111111111111111,
              "#46039f"
             ],
             [
              0.2222222222222222,
              "#7201a8"
             ],
             [
              0.3333333333333333,
              "#9c179e"
             ],
             [
              0.4444444444444444,
              "#bd3786"
             ],
             [
              0.5555555555555556,
              "#d8576b"
             ],
             [
              0.6666666666666666,
              "#ed7953"
             ],
             [
              0.7777777777777778,
              "#fb9f3a"
             ],
             [
              0.8888888888888888,
              "#fdca26"
             ],
             [
              1,
              "#f0f921"
             ]
            ],
            "type": "contour"
           }
          ],
          "contourcarpet": [
           {
            "colorbar": {
             "outlinewidth": 0,
             "ticks": ""
            },
            "type": "contourcarpet"
           }
          ],
          "heatmap": [
           {
            "colorbar": {
             "outlinewidth": 0,
             "ticks": ""
            },
            "colorscale": [
             [
              0,
              "#0d0887"
             ],
             [
              0.1111111111111111,
              "#46039f"
             ],
             [
              0.2222222222222222,
              "#7201a8"
             ],
             [
              0.3333333333333333,
              "#9c179e"
             ],
             [
              0.4444444444444444,
              "#bd3786"
             ],
             [
              0.5555555555555556,
              "#d8576b"
             ],
             [
              0.6666666666666666,
              "#ed7953"
             ],
             [
              0.7777777777777778,
              "#fb9f3a"
             ],
             [
              0.8888888888888888,
              "#fdca26"
             ],
             [
              1,
              "#f0f921"
             ]
            ],
            "type": "heatmap"
           }
          ],
          "heatmapgl": [
           {
            "colorbar": {
             "outlinewidth": 0,
             "ticks": ""
            },
            "colorscale": [
             [
              0,
              "#0d0887"
             ],
             [
              0.1111111111111111,
              "#46039f"
             ],
             [
              0.2222222222222222,
              "#7201a8"
             ],
             [
              0.3333333333333333,
              "#9c179e"
             ],
             [
              0.4444444444444444,
              "#bd3786"
             ],
             [
              0.5555555555555556,
              "#d8576b"
             ],
             [
              0.6666666666666666,
              "#ed7953"
             ],
             [
              0.7777777777777778,
              "#fb9f3a"
             ],
             [
              0.8888888888888888,
              "#fdca26"
             ],
             [
              1,
              "#f0f921"
             ]
            ],
            "type": "heatmapgl"
           }
          ],
          "histogram": [
           {
            "marker": {
             "colorbar": {
              "outlinewidth": 0,
              "ticks": ""
             }
            },
            "type": "histogram"
           }
          ],
          "histogram2d": [
           {
            "colorbar": {
             "outlinewidth": 0,
             "ticks": ""
            },
            "colorscale": [
             [
              0,
              "#0d0887"
             ],
             [
              0.1111111111111111,
              "#46039f"
             ],
             [
              0.2222222222222222,
              "#7201a8"
             ],
             [
              0.3333333333333333,
              "#9c179e"
             ],
             [
              0.4444444444444444,
              "#bd3786"
             ],
             [
              0.5555555555555556,
              "#d8576b"
             ],
             [
              0.6666666666666666,
              "#ed7953"
             ],
             [
              0.7777777777777778,
              "#fb9f3a"
             ],
             [
              0.8888888888888888,
              "#fdca26"
             ],
             [
              1,
              "#f0f921"
             ]
            ],
            "type": "histogram2d"
           }
          ],
          "histogram2dcontour": [
           {
            "colorbar": {
             "outlinewidth": 0,
             "ticks": ""
            },
            "colorscale": [
             [
              0,
              "#0d0887"
             ],
             [
              0.1111111111111111,
              "#46039f"
             ],
             [
              0.2222222222222222,
              "#7201a8"
             ],
             [
              0.3333333333333333,
              "#9c179e"
             ],
             [
              0.4444444444444444,
              "#bd3786"
             ],
             [
              0.5555555555555556,
              "#d8576b"
             ],
             [
              0.6666666666666666,
              "#ed7953"
             ],
             [
              0.7777777777777778,
              "#fb9f3a"
             ],
             [
              0.8888888888888888,
              "#fdca26"
             ],
             [
              1,
              "#f0f921"
             ]
            ],
            "type": "histogram2dcontour"
           }
          ],
          "mesh3d": [
           {
            "colorbar": {
             "outlinewidth": 0,
             "ticks": ""
            },
            "type": "mesh3d"
           }
          ],
          "parcoords": [
           {
            "line": {
             "colorbar": {
              "outlinewidth": 0,
              "ticks": ""
             }
            },
            "type": "parcoords"
           }
          ],
          "pie": [
           {
            "automargin": true,
            "type": "pie"
           }
          ],
          "scatter": [
           {
            "marker": {
             "colorbar": {
              "outlinewidth": 0,
              "ticks": ""
             }
            },
            "type": "scatter"
           }
          ],
          "scatter3d": [
           {
            "line": {
             "colorbar": {
              "outlinewidth": 0,
              "ticks": ""
             }
            },
            "marker": {
             "colorbar": {
              "outlinewidth": 0,
              "ticks": ""
             }
            },
            "type": "scatter3d"
           }
          ],
          "scattercarpet": [
           {
            "marker": {
             "colorbar": {
              "outlinewidth": 0,
              "ticks": ""
             }
            },
            "type": "scattercarpet"
           }
          ],
          "scattergeo": [
           {
            "marker": {
             "colorbar": {
              "outlinewidth": 0,
              "ticks": ""
             }
            },
            "type": "scattergeo"
           }
          ],
          "scattergl": [
           {
            "marker": {
             "colorbar": {
              "outlinewidth": 0,
              "ticks": ""
             }
            },
            "type": "scattergl"
           }
          ],
          "scattermapbox": [
           {
            "marker": {
             "colorbar": {
              "outlinewidth": 0,
              "ticks": ""
             }
            },
            "type": "scattermapbox"
           }
          ],
          "scatterpolar": [
           {
            "marker": {
             "colorbar": {
              "outlinewidth": 0,
              "ticks": ""
             }
            },
            "type": "scatterpolar"
           }
          ],
          "scatterpolargl": [
           {
            "marker": {
             "colorbar": {
              "outlinewidth": 0,
              "ticks": ""
             }
            },
            "type": "scatterpolargl"
           }
          ],
          "scatterternary": [
           {
            "marker": {
             "colorbar": {
              "outlinewidth": 0,
              "ticks": ""
             }
            },
            "type": "scatterternary"
           }
          ],
          "surface": [
           {
            "colorbar": {
             "outlinewidth": 0,
             "ticks": ""
            },
            "colorscale": [
             [
              0,
              "#0d0887"
             ],
             [
              0.1111111111111111,
              "#46039f"
             ],
             [
              0.2222222222222222,
              "#7201a8"
             ],
             [
              0.3333333333333333,
              "#9c179e"
             ],
             [
              0.4444444444444444,
              "#bd3786"
             ],
             [
              0.5555555555555556,
              "#d8576b"
             ],
             [
              0.6666666666666666,
              "#ed7953"
             ],
             [
              0.7777777777777778,
              "#fb9f3a"
             ],
             [
              0.8888888888888888,
              "#fdca26"
             ],
             [
              1,
              "#f0f921"
             ]
            ],
            "type": "surface"
           }
          ],
          "table": [
           {
            "cells": {
             "fill": {
              "color": "#EBF0F8"
             },
             "line": {
              "color": "white"
             }
            },
            "header": {
             "fill": {
              "color": "#C8D4E3"
             },
             "line": {
              "color": "white"
             }
            },
            "type": "table"
           }
          ]
         },
         "layout": {
          "annotationdefaults": {
           "arrowcolor": "#2a3f5f",
           "arrowhead": 0,
           "arrowwidth": 1
          },
          "coloraxis": {
           "colorbar": {
            "outlinewidth": 0,
            "ticks": ""
           }
          },
          "colorscale": {
           "diverging": [
            [
             0,
             "#8e0152"
            ],
            [
             0.1,
             "#c51b7d"
            ],
            [
             0.2,
             "#de77ae"
            ],
            [
             0.3,
             "#f1b6da"
            ],
            [
             0.4,
             "#fde0ef"
            ],
            [
             0.5,
             "#f7f7f7"
            ],
            [
             0.6,
             "#e6f5d0"
            ],
            [
             0.7,
             "#b8e186"
            ],
            [
             0.8,
             "#7fbc41"
            ],
            [
             0.9,
             "#4d9221"
            ],
            [
             1,
             "#276419"
            ]
           ],
           "sequential": [
            [
             0,
             "#0d0887"
            ],
            [
             0.1111111111111111,
             "#46039f"
            ],
            [
             0.2222222222222222,
             "#7201a8"
            ],
            [
             0.3333333333333333,
             "#9c179e"
            ],
            [
             0.4444444444444444,
             "#bd3786"
            ],
            [
             0.5555555555555556,
             "#d8576b"
            ],
            [
             0.6666666666666666,
             "#ed7953"
            ],
            [
             0.7777777777777778,
             "#fb9f3a"
            ],
            [
             0.8888888888888888,
             "#fdca26"
            ],
            [
             1,
             "#f0f921"
            ]
           ],
           "sequentialminus": [
            [
             0,
             "#0d0887"
            ],
            [
             0.1111111111111111,
             "#46039f"
            ],
            [
             0.2222222222222222,
             "#7201a8"
            ],
            [
             0.3333333333333333,
             "#9c179e"
            ],
            [
             0.4444444444444444,
             "#bd3786"
            ],
            [
             0.5555555555555556,
             "#d8576b"
            ],
            [
             0.6666666666666666,
             "#ed7953"
            ],
            [
             0.7777777777777778,
             "#fb9f3a"
            ],
            [
             0.8888888888888888,
             "#fdca26"
            ],
            [
             1,
             "#f0f921"
            ]
           ]
          },
          "colorway": [
           "#636efa",
           "#EF553B",
           "#00cc96",
           "#ab63fa",
           "#FFA15A",
           "#19d3f3",
           "#FF6692",
           "#B6E880",
           "#FF97FF",
           "#FECB52"
          ],
          "font": {
           "color": "#2a3f5f"
          },
          "geo": {
           "bgcolor": "white",
           "lakecolor": "white",
           "landcolor": "#E5ECF6",
           "showlakes": true,
           "showland": true,
           "subunitcolor": "white"
          },
          "hoverlabel": {
           "align": "left"
          },
          "hovermode": "closest",
          "mapbox": {
           "style": "light"
          },
          "paper_bgcolor": "white",
          "plot_bgcolor": "#E5ECF6",
          "polar": {
           "angularaxis": {
            "gridcolor": "white",
            "linecolor": "white",
            "ticks": ""
           },
           "bgcolor": "#E5ECF6",
           "radialaxis": {
            "gridcolor": "white",
            "linecolor": "white",
            "ticks": ""
           }
          },
          "scene": {
           "xaxis": {
            "backgroundcolor": "#E5ECF6",
            "gridcolor": "white",
            "gridwidth": 2,
            "linecolor": "white",
            "showbackground": true,
            "ticks": "",
            "zerolinecolor": "white"
           },
           "yaxis": {
            "backgroundcolor": "#E5ECF6",
            "gridcolor": "white",
            "gridwidth": 2,
            "linecolor": "white",
            "showbackground": true,
            "ticks": "",
            "zerolinecolor": "white"
           },
           "zaxis": {
            "backgroundcolor": "#E5ECF6",
            "gridcolor": "white",
            "gridwidth": 2,
            "linecolor": "white",
            "showbackground": true,
            "ticks": "",
            "zerolinecolor": "white"
           }
          },
          "shapedefaults": {
           "line": {
            "color": "#2a3f5f"
           }
          },
          "ternary": {
           "aaxis": {
            "gridcolor": "white",
            "linecolor": "white",
            "ticks": ""
           },
           "baxis": {
            "gridcolor": "white",
            "linecolor": "white",
            "ticks": ""
           },
           "bgcolor": "#E5ECF6",
           "caxis": {
            "gridcolor": "white",
            "linecolor": "white",
            "ticks": ""
           }
          },
          "title": {
           "x": 0.05
          },
          "xaxis": {
           "automargin": true,
           "gridcolor": "white",
           "linecolor": "white",
           "ticks": "",
           "title": {
            "standoff": 15
           },
           "zerolinecolor": "white",
           "zerolinewidth": 2
          },
          "yaxis": {
           "automargin": true,
           "gridcolor": "white",
           "linecolor": "white",
           "ticks": "",
           "title": {
            "standoff": 15
           },
           "zerolinecolor": "white",
           "zerolinewidth": 2
          }
         }
        },
        "title": {
         "text": "Remuneração de ALEXANDRE HENRIQUE FREITAS ARAUJO, 2018"
        },
        "xaxis": {
         "anchor": "y",
         "domain": [
          0,
          1
         ],
         "title": {
          "text": "ANO"
         }
        },
        "yaxis": {
         "anchor": "x",
         "domain": [
          0,
          1
         ],
         "title": {
          "text": "REMUNERACAO LEGAL TOTAL(R$)"
         }
        }
       }
      },
      "text/html": [
       "<div>\n",
       "        \n",
       "        \n",
       "            <div id=\"c052697e-aea4-443c-8c60-e227146c8c6a\" class=\"plotly-graph-div\" style=\"height:525px; width:100%;\"></div>\n",
       "            <script type=\"text/javascript\">\n",
       "                require([\"plotly\"], function(Plotly) {\n",
       "                    window.PLOTLYENV=window.PLOTLYENV || {};\n",
       "                    \n",
       "                if (document.getElementById(\"c052697e-aea4-443c-8c60-e227146c8c6a\")) {\n",
       "                    Plotly.newPlot(\n",
       "                        'c052697e-aea4-443c-8c60-e227146c8c6a',\n",
       "                        [{\"hoverlabel\": {\"namelength\": 0}, \"hovertemplate\": \"ORGAO=ADAF<br>ANO=%{x}<br>REMUNERACAO LEGAL TOTAL(R$)=%{y}\", \"legendgroup\": \"ADAF\", \"line\": {\"color\": \"#636efa\", \"dash\": \"solid\"}, \"mode\": \"lines\", \"name\": \"ADAF\", \"showlegend\": true, \"type\": \"scatter\", \"x\": [2017, 2017, 2019, 2019, 2019, 2019, 2019, 2019, 2019, 2019, 2019, 2019, 2019, 2019, 2019, 2020], \"xaxis\": \"x\", \"y\": [13213.28, 11458.28, 19358.46, 14606.15, 14606.15, 14606.15, 14606.15, 14606.15, 14606.15, 14606.15, 14606.15, 14606.15, 25825.46, 25825.46, 25825.46, 19558.46], \"yaxis\": \"y\"}, {\"hoverlabel\": {\"namelength\": 0}, \"hovertemplate\": \"ORGAO=SEPROR<br>ANO=%{x}<br>REMUNERACAO LEGAL TOTAL(R$)=%{y}\", \"legendgroup\": \"SEPROR\", \"line\": {\"color\": \"#EF553B\", \"dash\": \"solid\"}, \"mode\": \"lines\", \"name\": \"SEPROR\", \"showlegend\": true, \"type\": \"scatter\", \"x\": [2017, 2017, 2017, 2017, 2017, 2017, 2017, 2018, 2018, 2018, 2018, 2018, 2018, 2018, 2018, 2018, 2018, 2018, 2018, 2018], \"xaxis\": \"x\", \"y\": [10058.28, 10058.28, 10058.28, 10058.28, 6058.28, 14741.6, 14741.6, 14727.96, 17591.62, 15958.28, 15958.28, 15958.28, 16106.15, 16106.15, 16447.91, 16447.91, 16747.91, 16406.15, 16406.15, 16406.15], \"yaxis\": \"y\"}],\n",
       "                        {\"legend\": {\"title\": {\"text\": \"ORGAO\"}, \"tracegroupgap\": 0}, \"template\": {\"data\": {\"bar\": [{\"error_x\": {\"color\": \"#2a3f5f\"}, \"error_y\": {\"color\": \"#2a3f5f\"}, \"marker\": {\"line\": {\"color\": \"#E5ECF6\", \"width\": 0.5}}, \"type\": \"bar\"}], \"barpolar\": [{\"marker\": {\"line\": {\"color\": \"#E5ECF6\", \"width\": 0.5}}, \"type\": \"barpolar\"}], \"carpet\": [{\"aaxis\": {\"endlinecolor\": \"#2a3f5f\", \"gridcolor\": \"white\", \"linecolor\": \"white\", \"minorgridcolor\": \"white\", \"startlinecolor\": \"#2a3f5f\"}, \"baxis\": {\"endlinecolor\": \"#2a3f5f\", \"gridcolor\": \"white\", \"linecolor\": \"white\", \"minorgridcolor\": \"white\", \"startlinecolor\": \"#2a3f5f\"}, \"type\": \"carpet\"}], \"choropleth\": [{\"colorbar\": {\"outlinewidth\": 0, \"ticks\": \"\"}, \"type\": \"choropleth\"}], \"contour\": [{\"colorbar\": {\"outlinewidth\": 0, \"ticks\": \"\"}, \"colorscale\": [[0.0, \"#0d0887\"], [0.1111111111111111, \"#46039f\"], [0.2222222222222222, \"#7201a8\"], [0.3333333333333333, \"#9c179e\"], [0.4444444444444444, \"#bd3786\"], [0.5555555555555556, \"#d8576b\"], [0.6666666666666666, \"#ed7953\"], [0.7777777777777778, \"#fb9f3a\"], [0.8888888888888888, \"#fdca26\"], [1.0, \"#f0f921\"]], \"type\": \"contour\"}], \"contourcarpet\": [{\"colorbar\": {\"outlinewidth\": 0, \"ticks\": \"\"}, \"type\": \"contourcarpet\"}], \"heatmap\": [{\"colorbar\": {\"outlinewidth\": 0, \"ticks\": \"\"}, \"colorscale\": [[0.0, \"#0d0887\"], [0.1111111111111111, \"#46039f\"], [0.2222222222222222, \"#7201a8\"], [0.3333333333333333, \"#9c179e\"], [0.4444444444444444, \"#bd3786\"], [0.5555555555555556, \"#d8576b\"], [0.6666666666666666, \"#ed7953\"], [0.7777777777777778, \"#fb9f3a\"], [0.8888888888888888, \"#fdca26\"], [1.0, \"#f0f921\"]], \"type\": \"heatmap\"}], \"heatmapgl\": [{\"colorbar\": {\"outlinewidth\": 0, \"ticks\": \"\"}, \"colorscale\": [[0.0, \"#0d0887\"], [0.1111111111111111, \"#46039f\"], [0.2222222222222222, \"#7201a8\"], [0.3333333333333333, \"#9c179e\"], [0.4444444444444444, \"#bd3786\"], [0.5555555555555556, \"#d8576b\"], [0.6666666666666666, \"#ed7953\"], [0.7777777777777778, \"#fb9f3a\"], [0.8888888888888888, \"#fdca26\"], [1.0, \"#f0f921\"]], \"type\": \"heatmapgl\"}], \"histogram\": [{\"marker\": {\"colorbar\": {\"outlinewidth\": 0, \"ticks\": \"\"}}, \"type\": \"histogram\"}], \"histogram2d\": [{\"colorbar\": {\"outlinewidth\": 0, \"ticks\": \"\"}, \"colorscale\": [[0.0, \"#0d0887\"], [0.1111111111111111, \"#46039f\"], [0.2222222222222222, \"#7201a8\"], [0.3333333333333333, \"#9c179e\"], [0.4444444444444444, \"#bd3786\"], [0.5555555555555556, \"#d8576b\"], [0.6666666666666666, \"#ed7953\"], [0.7777777777777778, \"#fb9f3a\"], [0.8888888888888888, \"#fdca26\"], [1.0, \"#f0f921\"]], \"type\": \"histogram2d\"}], \"histogram2dcontour\": [{\"colorbar\": {\"outlinewidth\": 0, \"ticks\": \"\"}, \"colorscale\": [[0.0, \"#0d0887\"], [0.1111111111111111, \"#46039f\"], [0.2222222222222222, \"#7201a8\"], [0.3333333333333333, \"#9c179e\"], [0.4444444444444444, \"#bd3786\"], [0.5555555555555556, \"#d8576b\"], [0.6666666666666666, \"#ed7953\"], [0.7777777777777778, \"#fb9f3a\"], [0.8888888888888888, \"#fdca26\"], [1.0, \"#f0f921\"]], \"type\": \"histogram2dcontour\"}], \"mesh3d\": [{\"colorbar\": {\"outlinewidth\": 0, \"ticks\": \"\"}, \"type\": \"mesh3d\"}], \"parcoords\": [{\"line\": {\"colorbar\": {\"outlinewidth\": 0, \"ticks\": \"\"}}, \"type\": \"parcoords\"}], \"pie\": [{\"automargin\": true, \"type\": \"pie\"}], \"scatter\": [{\"marker\": {\"colorbar\": {\"outlinewidth\": 0, \"ticks\": \"\"}}, \"type\": \"scatter\"}], \"scatter3d\": [{\"line\": {\"colorbar\": {\"outlinewidth\": 0, \"ticks\": \"\"}}, \"marker\": {\"colorbar\": {\"outlinewidth\": 0, \"ticks\": \"\"}}, \"type\": \"scatter3d\"}], \"scattercarpet\": [{\"marker\": {\"colorbar\": {\"outlinewidth\": 0, \"ticks\": \"\"}}, \"type\": \"scattercarpet\"}], \"scattergeo\": [{\"marker\": {\"colorbar\": {\"outlinewidth\": 0, \"ticks\": \"\"}}, \"type\": \"scattergeo\"}], \"scattergl\": [{\"marker\": {\"colorbar\": {\"outlinewidth\": 0, \"ticks\": \"\"}}, \"type\": \"scattergl\"}], \"scattermapbox\": [{\"marker\": {\"colorbar\": {\"outlinewidth\": 0, \"ticks\": \"\"}}, \"type\": \"scattermapbox\"}], \"scatterpolar\": [{\"marker\": {\"colorbar\": {\"outlinewidth\": 0, \"ticks\": \"\"}}, \"type\": \"scatterpolar\"}], \"scatterpolargl\": [{\"marker\": {\"colorbar\": {\"outlinewidth\": 0, \"ticks\": \"\"}}, \"type\": \"scatterpolargl\"}], \"scatterternary\": [{\"marker\": {\"colorbar\": {\"outlinewidth\": 0, \"ticks\": \"\"}}, \"type\": \"scatterternary\"}], \"surface\": [{\"colorbar\": {\"outlinewidth\": 0, \"ticks\": \"\"}, \"colorscale\": [[0.0, \"#0d0887\"], [0.1111111111111111, \"#46039f\"], [0.2222222222222222, \"#7201a8\"], [0.3333333333333333, \"#9c179e\"], [0.4444444444444444, \"#bd3786\"], [0.5555555555555556, \"#d8576b\"], [0.6666666666666666, \"#ed7953\"], [0.7777777777777778, \"#fb9f3a\"], [0.8888888888888888, \"#fdca26\"], [1.0, \"#f0f921\"]], \"type\": \"surface\"}], \"table\": [{\"cells\": {\"fill\": {\"color\": \"#EBF0F8\"}, \"line\": {\"color\": \"white\"}}, \"header\": {\"fill\": {\"color\": \"#C8D4E3\"}, \"line\": {\"color\": \"white\"}}, \"type\": \"table\"}]}, \"layout\": {\"annotationdefaults\": {\"arrowcolor\": \"#2a3f5f\", \"arrowhead\": 0, \"arrowwidth\": 1}, \"coloraxis\": {\"colorbar\": {\"outlinewidth\": 0, \"ticks\": \"\"}}, \"colorscale\": {\"diverging\": [[0, \"#8e0152\"], [0.1, \"#c51b7d\"], [0.2, \"#de77ae\"], [0.3, \"#f1b6da\"], [0.4, \"#fde0ef\"], [0.5, \"#f7f7f7\"], [0.6, \"#e6f5d0\"], [0.7, \"#b8e186\"], [0.8, \"#7fbc41\"], [0.9, \"#4d9221\"], [1, \"#276419\"]], \"sequential\": [[0.0, \"#0d0887\"], [0.1111111111111111, \"#46039f\"], [0.2222222222222222, \"#7201a8\"], [0.3333333333333333, \"#9c179e\"], [0.4444444444444444, \"#bd3786\"], [0.5555555555555556, \"#d8576b\"], [0.6666666666666666, \"#ed7953\"], [0.7777777777777778, \"#fb9f3a\"], [0.8888888888888888, \"#fdca26\"], [1.0, \"#f0f921\"]], \"sequentialminus\": [[0.0, \"#0d0887\"], [0.1111111111111111, \"#46039f\"], [0.2222222222222222, \"#7201a8\"], [0.3333333333333333, \"#9c179e\"], [0.4444444444444444, \"#bd3786\"], [0.5555555555555556, \"#d8576b\"], [0.6666666666666666, \"#ed7953\"], [0.7777777777777778, \"#fb9f3a\"], [0.8888888888888888, \"#fdca26\"], [1.0, \"#f0f921\"]]}, \"colorway\": [\"#636efa\", \"#EF553B\", \"#00cc96\", \"#ab63fa\", \"#FFA15A\", \"#19d3f3\", \"#FF6692\", \"#B6E880\", \"#FF97FF\", \"#FECB52\"], \"font\": {\"color\": \"#2a3f5f\"}, \"geo\": {\"bgcolor\": \"white\", \"lakecolor\": \"white\", \"landcolor\": \"#E5ECF6\", \"showlakes\": true, \"showland\": true, \"subunitcolor\": \"white\"}, \"hoverlabel\": {\"align\": \"left\"}, \"hovermode\": \"closest\", \"mapbox\": {\"style\": \"light\"}, \"paper_bgcolor\": \"white\", \"plot_bgcolor\": \"#E5ECF6\", \"polar\": {\"angularaxis\": {\"gridcolor\": \"white\", \"linecolor\": \"white\", \"ticks\": \"\"}, \"bgcolor\": \"#E5ECF6\", \"radialaxis\": {\"gridcolor\": \"white\", \"linecolor\": \"white\", \"ticks\": \"\"}}, \"scene\": {\"xaxis\": {\"backgroundcolor\": \"#E5ECF6\", \"gridcolor\": \"white\", \"gridwidth\": 2, \"linecolor\": \"white\", \"showbackground\": true, \"ticks\": \"\", \"zerolinecolor\": \"white\"}, \"yaxis\": {\"backgroundcolor\": \"#E5ECF6\", \"gridcolor\": \"white\", \"gridwidth\": 2, \"linecolor\": \"white\", \"showbackground\": true, \"ticks\": \"\", \"zerolinecolor\": \"white\"}, \"zaxis\": {\"backgroundcolor\": \"#E5ECF6\", \"gridcolor\": \"white\", \"gridwidth\": 2, \"linecolor\": \"white\", \"showbackground\": true, \"ticks\": \"\", \"zerolinecolor\": \"white\"}}, \"shapedefaults\": {\"line\": {\"color\": \"#2a3f5f\"}}, \"ternary\": {\"aaxis\": {\"gridcolor\": \"white\", \"linecolor\": \"white\", \"ticks\": \"\"}, \"baxis\": {\"gridcolor\": \"white\", \"linecolor\": \"white\", \"ticks\": \"\"}, \"bgcolor\": \"#E5ECF6\", \"caxis\": {\"gridcolor\": \"white\", \"linecolor\": \"white\", \"ticks\": \"\"}}, \"title\": {\"x\": 0.05}, \"xaxis\": {\"automargin\": true, \"gridcolor\": \"white\", \"linecolor\": \"white\", \"ticks\": \"\", \"title\": {\"standoff\": 15}, \"zerolinecolor\": \"white\", \"zerolinewidth\": 2}, \"yaxis\": {\"automargin\": true, \"gridcolor\": \"white\", \"linecolor\": \"white\", \"ticks\": \"\", \"title\": {\"standoff\": 15}, \"zerolinecolor\": \"white\", \"zerolinewidth\": 2}}}, \"title\": {\"text\": \"Remunera\\u00e7\\u00e3o de ALEXANDRE HENRIQUE FREITAS ARAUJO, 2018\"}, \"xaxis\": {\"anchor\": \"y\", \"domain\": [0.0, 1.0], \"title\": {\"text\": \"ANO\"}}, \"yaxis\": {\"anchor\": \"x\", \"domain\": [0.0, 1.0], \"title\": {\"text\": \"REMUNERACAO LEGAL TOTAL(R$)\"}}},\n",
       "                        {\"responsive\": true}\n",
       "                    ).then(function(){\n",
       "                            \n",
       "var gd = document.getElementById('c052697e-aea4-443c-8c60-e227146c8c6a');\n",
       "var x = new MutationObserver(function (mutations, observer) {{\n",
       "        var display = window.getComputedStyle(gd).display;\n",
       "        if (!display || display === 'none') {{\n",
       "            console.log([gd, 'removed!']);\n",
       "            Plotly.purge(gd);\n",
       "            observer.disconnect();\n",
       "        }}\n",
       "}});\n",
       "\n",
       "// Listen for the removal of the full notebook cells\n",
       "var notebookContainer = gd.closest('#notebook-container');\n",
       "if (notebookContainer) {{\n",
       "    x.observe(notebookContainer, {childList: true});\n",
       "}}\n",
       "\n",
       "// Listen for the clearing of the current output cell\n",
       "var outputEl = gd.closest('.output');\n",
       "if (outputEl) {{\n",
       "    x.observe(outputEl, {childList: true});\n",
       "}}\n",
       "\n",
       "                        })\n",
       "                };\n",
       "                });\n",
       "            </script>\n",
       "        </div>"
      ]
     },
     "metadata": {},
     "output_type": "display_data"
    },
    {
     "data": {
      "text/html": [
       "<div>\n",
       "<style scoped>\n",
       "    .dataframe tbody tr th:only-of-type {\n",
       "        vertical-align: middle;\n",
       "    }\n",
       "\n",
       "    .dataframe tbody tr th {\n",
       "        vertical-align: top;\n",
       "    }\n",
       "\n",
       "    .dataframe thead th {\n",
       "        text-align: right;\n",
       "    }\n",
       "</style>\n",
       "<table border=\"1\" class=\"dataframe\">\n",
       "  <thead>\n",
       "    <tr style=\"text-align: right;\">\n",
       "      <th></th>\n",
       "      <th>NOME</th>\n",
       "      <th>LOTACAO</th>\n",
       "      <th>CARGO</th>\n",
       "      <th>FUNCAO</th>\n",
       "      <th>VINCULO</th>\n",
       "      <th>REMUNERACAO LEGAL TOTAL(R$)</th>\n",
       "      <th>DESC.TETO(R$)</th>\n",
       "      <th>REMUNERACAO LEGAL DEVIDA(R$)</th>\n",
       "      <th>DESCONTOS LEGAIS(R$)</th>\n",
       "      <th>LIQUIDO DISPONIVEL(R$)</th>\n",
       "      <th>ANO</th>\n",
       "      <th>MES</th>\n",
       "      <th>ORGAO</th>\n",
       "    </tr>\n",
       "  </thead>\n",
       "  <tbody>\n",
       "    <tr>\n",
       "      <th>168751</th>\n",
       "      <td>ALEXANDRE HENRIQUE FREITAS ARAUJO</td>\n",
       "      <td>GABINETE</td>\n",
       "      <td>ENGENHEIRO AGRONOMO</td>\n",
       "      <td>DIRETOR</td>\n",
       "      <td>ESTATUTARIO</td>\n",
       "      <td>13213.28</td>\n",
       "      <td>0.0</td>\n",
       "      <td>13213.28</td>\n",
       "      <td>1304.20</td>\n",
       "      <td>11909.08</td>\n",
       "      <td>2017</td>\n",
       "      <td>5</td>\n",
       "      <td>ADAF</td>\n",
       "    </tr>\n",
       "    <tr>\n",
       "      <th>166724</th>\n",
       "      <td>ALEXANDRE HENRIQUE FREITAS ARAUJO</td>\n",
       "      <td>GABINETE</td>\n",
       "      <td>ENGENHEIRO AGRONOMO</td>\n",
       "      <td>DIRETOR</td>\n",
       "      <td>ESTATUTARIO</td>\n",
       "      <td>11458.28</td>\n",
       "      <td>0.0</td>\n",
       "      <td>11458.28</td>\n",
       "      <td>2769.54</td>\n",
       "      <td>8688.74</td>\n",
       "      <td>2017</td>\n",
       "      <td>10</td>\n",
       "      <td>ADAF</td>\n",
       "    </tr>\n",
       "    <tr>\n",
       "      <th>169725</th>\n",
       "      <td>ALEXANDRE HENRIQUE FREITAS ARAUJO</td>\n",
       "      <td>GABINETE</td>\n",
       "      <td>ENGENHEIRO AGRONOMO</td>\n",
       "      <td>DIRETOR</td>\n",
       "      <td>ESTATUTARIO</td>\n",
       "      <td>19358.46</td>\n",
       "      <td>0.0</td>\n",
       "      <td>19358.46</td>\n",
       "      <td>5014.95</td>\n",
       "      <td>14343.51</td>\n",
       "      <td>2019</td>\n",
       "      <td>1</td>\n",
       "      <td>ADAF</td>\n",
       "    </tr>\n",
       "    <tr>\n",
       "      <th>170952</th>\n",
       "      <td>ALEXANDRE HENRIQUE FREITAS ARAUJO</td>\n",
       "      <td>GABINETE</td>\n",
       "      <td>ENGENHEIRO AGRONOMO</td>\n",
       "      <td>DIRETOR</td>\n",
       "      <td>ESTATUTARIO</td>\n",
       "      <td>14606.15</td>\n",
       "      <td>0.0</td>\n",
       "      <td>14606.15</td>\n",
       "      <td>3708.07</td>\n",
       "      <td>10898.08</td>\n",
       "      <td>2019</td>\n",
       "      <td>2</td>\n",
       "      <td>ADAF</td>\n",
       "    </tr>\n",
       "    <tr>\n",
       "      <th>170544</th>\n",
       "      <td>ALEXANDRE HENRIQUE FREITAS ARAUJO</td>\n",
       "      <td>GABINETE</td>\n",
       "      <td>ENGENHEIRO AGRONOMO</td>\n",
       "      <td>DIRETOR</td>\n",
       "      <td>ESTATUTARIO</td>\n",
       "      <td>14606.15</td>\n",
       "      <td>0.0</td>\n",
       "      <td>14606.15</td>\n",
       "      <td>3708.07</td>\n",
       "      <td>10898.08</td>\n",
       "      <td>2019</td>\n",
       "      <td>3</td>\n",
       "      <td>ADAF</td>\n",
       "    </tr>\n",
       "    <tr>\n",
       "      <th>168614</th>\n",
       "      <td>ALEXANDRE HENRIQUE FREITAS ARAUJO</td>\n",
       "      <td>GABINETE</td>\n",
       "      <td>ENGENHEIRO AGRONOMO</td>\n",
       "      <td>DIRETOR</td>\n",
       "      <td>ESTATUTARIO</td>\n",
       "      <td>14606.15</td>\n",
       "      <td>0.0</td>\n",
       "      <td>14606.15</td>\n",
       "      <td>3708.07</td>\n",
       "      <td>10898.08</td>\n",
       "      <td>2019</td>\n",
       "      <td>4</td>\n",
       "      <td>ADAF</td>\n",
       "    </tr>\n",
       "    <tr>\n",
       "      <th>169305</th>\n",
       "      <td>ALEXANDRE HENRIQUE FREITAS ARAUJO</td>\n",
       "      <td>GABINETE</td>\n",
       "      <td>ENGENHEIRO AGRONOMO</td>\n",
       "      <td>DIRETOR</td>\n",
       "      <td>ESTATUTARIO</td>\n",
       "      <td>14606.15</td>\n",
       "      <td>0.0</td>\n",
       "      <td>14606.15</td>\n",
       "      <td>3708.07</td>\n",
       "      <td>10898.08</td>\n",
       "      <td>2019</td>\n",
       "      <td>5</td>\n",
       "      <td>ADAF</td>\n",
       "    </tr>\n",
       "    <tr>\n",
       "      <th>170273</th>\n",
       "      <td>ALEXANDRE HENRIQUE FREITAS ARAUJO</td>\n",
       "      <td>GABINETE</td>\n",
       "      <td>ENGENHEIRO AGRONOMO</td>\n",
       "      <td>DIRETOR</td>\n",
       "      <td>ESTATUTARIO</td>\n",
       "      <td>14606.15</td>\n",
       "      <td>0.0</td>\n",
       "      <td>14606.15</td>\n",
       "      <td>3708.07</td>\n",
       "      <td>10898.08</td>\n",
       "      <td>2019</td>\n",
       "      <td>6</td>\n",
       "      <td>ADAF</td>\n",
       "    </tr>\n",
       "    <tr>\n",
       "      <th>169029</th>\n",
       "      <td>ALEXANDRE HENRIQUE FREITAS ARAUJO</td>\n",
       "      <td>GABINETE</td>\n",
       "      <td>ENGENHEIRO AGRONOMO</td>\n",
       "      <td>DIRETOR</td>\n",
       "      <td>ESTATUTARIO</td>\n",
       "      <td>14606.15</td>\n",
       "      <td>0.0</td>\n",
       "      <td>14606.15</td>\n",
       "      <td>3708.07</td>\n",
       "      <td>10898.08</td>\n",
       "      <td>2019</td>\n",
       "      <td>7</td>\n",
       "      <td>ADAF</td>\n",
       "    </tr>\n",
       "    <tr>\n",
       "      <th>166860</th>\n",
       "      <td>ALEXANDRE HENRIQUE FREITAS ARAUJO</td>\n",
       "      <td>GABINETE</td>\n",
       "      <td>ENGENHEIRO AGRONOMO</td>\n",
       "      <td>DIRETOR</td>\n",
       "      <td>ESTATUTARIO</td>\n",
       "      <td>14606.15</td>\n",
       "      <td>0.0</td>\n",
       "      <td>14606.15</td>\n",
       "      <td>3708.07</td>\n",
       "      <td>10898.08</td>\n",
       "      <td>2019</td>\n",
       "      <td>8</td>\n",
       "      <td>ADAF</td>\n",
       "    </tr>\n",
       "    <tr>\n",
       "      <th>170815</th>\n",
       "      <td>ALEXANDRE HENRIQUE FREITAS ARAUJO</td>\n",
       "      <td>GABINETE</td>\n",
       "      <td>ENGENHEIRO AGRONOMO</td>\n",
       "      <td>DIRETOR</td>\n",
       "      <td>ESTATUTARIO</td>\n",
       "      <td>14606.15</td>\n",
       "      <td>0.0</td>\n",
       "      <td>14606.15</td>\n",
       "      <td>3708.07</td>\n",
       "      <td>10898.08</td>\n",
       "      <td>2019</td>\n",
       "      <td>9</td>\n",
       "      <td>ADAF</td>\n",
       "    </tr>\n",
       "    <tr>\n",
       "      <th>167940</th>\n",
       "      <td>ALEXANDRE HENRIQUE FREITAS ARAUJO</td>\n",
       "      <td>GABINETE</td>\n",
       "      <td>ENGENHEIRO AGRONOMO</td>\n",
       "      <td>DIRETOR</td>\n",
       "      <td>ESTATUTARIO</td>\n",
       "      <td>14606.15</td>\n",
       "      <td>0.0</td>\n",
       "      <td>14606.15</td>\n",
       "      <td>3812.34</td>\n",
       "      <td>10793.81</td>\n",
       "      <td>2019</td>\n",
       "      <td>10</td>\n",
       "      <td>ADAF</td>\n",
       "    </tr>\n",
       "    <tr>\n",
       "      <th>168074</th>\n",
       "      <td>ALEXANDRE HENRIQUE FREITAS ARAUJO</td>\n",
       "      <td>GABINETE</td>\n",
       "      <td>ENGENHEIRO AGRONOMO</td>\n",
       "      <td>DIRETOR</td>\n",
       "      <td>ESTATUTARIO</td>\n",
       "      <td>25825.46</td>\n",
       "      <td>0.0</td>\n",
       "      <td>25825.46</td>\n",
       "      <td>6897.65</td>\n",
       "      <td>18927.81</td>\n",
       "      <td>2019</td>\n",
       "      <td>11</td>\n",
       "      <td>ADAF</td>\n",
       "    </tr>\n",
       "    <tr>\n",
       "      <th>168209</th>\n",
       "      <td>ALEXANDRE HENRIQUE FREITAS ARAUJO</td>\n",
       "      <td>GABINETE</td>\n",
       "      <td>ENGENHEIRO AGRONOMO</td>\n",
       "      <td>DIRETOR</td>\n",
       "      <td>ESTATUTARIO</td>\n",
       "      <td>25825.46</td>\n",
       "      <td>0.0</td>\n",
       "      <td>25825.46</td>\n",
       "      <td>6897.65</td>\n",
       "      <td>18927.81</td>\n",
       "      <td>2019</td>\n",
       "      <td>12</td>\n",
       "      <td>ADAF</td>\n",
       "    </tr>\n",
       "    <tr>\n",
       "      <th>168479</th>\n",
       "      <td>ALEXANDRE HENRIQUE FREITAS ARAUJO</td>\n",
       "      <td>GABINETE</td>\n",
       "      <td>ENGENHEIRO AGRONOMO</td>\n",
       "      <td>DIRETOR</td>\n",
       "      <td>ESTATUTARIO</td>\n",
       "      <td>25825.46</td>\n",
       "      <td>0.0</td>\n",
       "      <td>25825.46</td>\n",
       "      <td>6897.65</td>\n",
       "      <td>18927.81</td>\n",
       "      <td>2019</td>\n",
       "      <td>13</td>\n",
       "      <td>ADAF</td>\n",
       "    </tr>\n",
       "    <tr>\n",
       "      <th>170139</th>\n",
       "      <td>ALEXANDRE HENRIQUE FREITAS ARAUJO</td>\n",
       "      <td>GABINETE</td>\n",
       "      <td>ENGENHEIRO AGRONOMO</td>\n",
       "      <td>DIRETOR</td>\n",
       "      <td>ESTATUTARIO</td>\n",
       "      <td>19558.46</td>\n",
       "      <td>0.0</td>\n",
       "      <td>19558.46</td>\n",
       "      <td>5119.23</td>\n",
       "      <td>14439.23</td>\n",
       "      <td>2020</td>\n",
       "      <td>1</td>\n",
       "      <td>ADAF</td>\n",
       "    </tr>\n",
       "    <tr>\n",
       "      <th>3642274</th>\n",
       "      <td>ALEXANDRE HENRIQUE FREITAS ARAUJO</td>\n",
       "      <td>GABINETE DO SECRETARIO</td>\n",
       "      <td>ENGENHEIRO AGRONOMO</td>\n",
       "      <td>SUPERVISOR REG.AD/1</td>\n",
       "      <td>ESTATUTARIO</td>\n",
       "      <td>10058.28</td>\n",
       "      <td>0.0</td>\n",
       "      <td>10058.28</td>\n",
       "      <td>2384.54</td>\n",
       "      <td>7673.74</td>\n",
       "      <td>2017</td>\n",
       "      <td>6</td>\n",
       "      <td>SEPROR</td>\n",
       "    </tr>\n",
       "    <tr>\n",
       "      <th>3641674</th>\n",
       "      <td>ALEXANDRE HENRIQUE FREITAS ARAUJO</td>\n",
       "      <td>GABINETE DO SECRETARIO</td>\n",
       "      <td>ENGENHEIRO AGRONOMO</td>\n",
       "      <td>SUPERVISOR REG.AD/1</td>\n",
       "      <td>ESTATUTARIO</td>\n",
       "      <td>10058.28</td>\n",
       "      <td>0.0</td>\n",
       "      <td>10058.28</td>\n",
       "      <td>2384.54</td>\n",
       "      <td>7673.74</td>\n",
       "      <td>2017</td>\n",
       "      <td>7</td>\n",
       "      <td>SEPROR</td>\n",
       "    </tr>\n",
       "    <tr>\n",
       "      <th>3642905</th>\n",
       "      <td>ALEXANDRE HENRIQUE FREITAS ARAUJO</td>\n",
       "      <td>GABINETE DO SECRETARIO</td>\n",
       "      <td>ENGENHEIRO AGRONOMO</td>\n",
       "      <td>SUPERVISOR REG.AD/1</td>\n",
       "      <td>ESTATUTARIO</td>\n",
       "      <td>10058.28</td>\n",
       "      <td>0.0</td>\n",
       "      <td>10058.28</td>\n",
       "      <td>2384.54</td>\n",
       "      <td>7673.74</td>\n",
       "      <td>2017</td>\n",
       "      <td>8</td>\n",
       "      <td>SEPROR</td>\n",
       "    </tr>\n",
       "    <tr>\n",
       "      <th>3642661</th>\n",
       "      <td>ALEXANDRE HENRIQUE FREITAS ARAUJO</td>\n",
       "      <td>GABINETE DO SECRETARIO</td>\n",
       "      <td>ENGENHEIRO AGRONOMO</td>\n",
       "      <td>SUPERVISOR REG.AD/1</td>\n",
       "      <td>ESTATUTARIO</td>\n",
       "      <td>10058.28</td>\n",
       "      <td>0.0</td>\n",
       "      <td>10058.28</td>\n",
       "      <td>2384.54</td>\n",
       "      <td>7673.74</td>\n",
       "      <td>2017</td>\n",
       "      <td>9</td>\n",
       "      <td>SEPROR</td>\n",
       "    </tr>\n",
       "    <tr>\n",
       "      <th>3642791</th>\n",
       "      <td>ALEXANDRE HENRIQUE FREITAS ARAUJO</td>\n",
       "      <td>GABINETE DO SECRETARIO</td>\n",
       "      <td>ENGENHEIRO AGRONOMO</td>\n",
       "      <td>SUPERVISOR REG.AD/1</td>\n",
       "      <td>ESTATUTARIO</td>\n",
       "      <td>6058.28</td>\n",
       "      <td>0.0</td>\n",
       "      <td>6058.28</td>\n",
       "      <td>1304.20</td>\n",
       "      <td>4754.08</td>\n",
       "      <td>2017</td>\n",
       "      <td>11</td>\n",
       "      <td>SEPROR</td>\n",
       "    </tr>\n",
       "    <tr>\n",
       "      <th>3641545</th>\n",
       "      <td>ALEXANDRE HENRIQUE FREITAS ARAUJO</td>\n",
       "      <td>GABINETE DO SECRETARIO</td>\n",
       "      <td>ENGENHEIRO AGRONOMO</td>\n",
       "      <td>SUPERVISOR REG.AD/1</td>\n",
       "      <td>ESTATUTARIO</td>\n",
       "      <td>14741.60</td>\n",
       "      <td>0.0</td>\n",
       "      <td>14741.60</td>\n",
       "      <td>3620.37</td>\n",
       "      <td>11121.23</td>\n",
       "      <td>2017</td>\n",
       "      <td>12</td>\n",
       "      <td>SEPROR</td>\n",
       "    </tr>\n",
       "    <tr>\n",
       "      <th>3640548</th>\n",
       "      <td>ALEXANDRE HENRIQUE FREITAS ARAUJO</td>\n",
       "      <td>GABINETE DO SECRETARIO</td>\n",
       "      <td>ENGENHEIRO AGRONOMO</td>\n",
       "      <td>SUPERVISOR REG.AD/1</td>\n",
       "      <td>ESTATUTARIO</td>\n",
       "      <td>14741.60</td>\n",
       "      <td>0.0</td>\n",
       "      <td>14741.60</td>\n",
       "      <td>3620.37</td>\n",
       "      <td>11121.23</td>\n",
       "      <td>2017</td>\n",
       "      <td>13</td>\n",
       "      <td>SEPROR</td>\n",
       "    </tr>\n",
       "    <tr>\n",
       "      <th>3643038</th>\n",
       "      <td>ALEXANDRE HENRIQUE FREITAS ARAUJO</td>\n",
       "      <td>GABINETE DO SECRETARIO</td>\n",
       "      <td>ENGENHEIRO AGRONOMO</td>\n",
       "      <td>SUPERVISOR REG.AD/1</td>\n",
       "      <td>ESTATUTARIO</td>\n",
       "      <td>14727.96</td>\n",
       "      <td>0.0</td>\n",
       "      <td>14727.96</td>\n",
       "      <td>3668.71</td>\n",
       "      <td>11059.25</td>\n",
       "      <td>2018</td>\n",
       "      <td>1</td>\n",
       "      <td>SEPROR</td>\n",
       "    </tr>\n",
       "    <tr>\n",
       "      <th>3642162</th>\n",
       "      <td>ALEXANDRE HENRIQUE FREITAS ARAUJO</td>\n",
       "      <td>GABINETE DO SECRETARIO</td>\n",
       "      <td>ENGENHEIRO AGRONOMO</td>\n",
       "      <td>SEC EXECUTIVO</td>\n",
       "      <td>ESTATUTARIO</td>\n",
       "      <td>17591.62</td>\n",
       "      <td>0.0</td>\n",
       "      <td>17591.62</td>\n",
       "      <td>4456.21</td>\n",
       "      <td>13135.41</td>\n",
       "      <td>2018</td>\n",
       "      <td>2</td>\n",
       "      <td>SEPROR</td>\n",
       "    </tr>\n",
       "    <tr>\n",
       "      <th>3641927</th>\n",
       "      <td>ALEXANDRE HENRIQUE FREITAS ARAUJO</td>\n",
       "      <td>GABINETE DO SECRETARIO</td>\n",
       "      <td>ENGENHEIRO AGRONOMO</td>\n",
       "      <td>SEC EXECUTIVO</td>\n",
       "      <td>ESTATUTARIO</td>\n",
       "      <td>15958.28</td>\n",
       "      <td>0.0</td>\n",
       "      <td>15958.28</td>\n",
       "      <td>4007.04</td>\n",
       "      <td>11951.24</td>\n",
       "      <td>2018</td>\n",
       "      <td>3</td>\n",
       "      <td>SEPROR</td>\n",
       "    </tr>\n",
       "    <tr>\n",
       "      <th>3641295</th>\n",
       "      <td>ALEXANDRE HENRIQUE FREITAS ARAUJO</td>\n",
       "      <td>GABINETE DO SECRETARIO</td>\n",
       "      <td>ENGENHEIRO AGRONOMO</td>\n",
       "      <td>SEC EXECUTIVO</td>\n",
       "      <td>ESTATUTARIO</td>\n",
       "      <td>15958.28</td>\n",
       "      <td>0.0</td>\n",
       "      <td>15958.28</td>\n",
       "      <td>4007.04</td>\n",
       "      <td>11951.24</td>\n",
       "      <td>2018</td>\n",
       "      <td>4</td>\n",
       "      <td>SEPROR</td>\n",
       "    </tr>\n",
       "    <tr>\n",
       "      <th>3642042</th>\n",
       "      <td>ALEXANDRE HENRIQUE FREITAS ARAUJO</td>\n",
       "      <td>GABINETE DO SECRETARIO</td>\n",
       "      <td>ENGENHEIRO AGRONOMO</td>\n",
       "      <td>SEC EXECUTIVO</td>\n",
       "      <td>ESTATUTARIO</td>\n",
       "      <td>15958.28</td>\n",
       "      <td>0.0</td>\n",
       "      <td>15958.28</td>\n",
       "      <td>4007.04</td>\n",
       "      <td>11951.24</td>\n",
       "      <td>2018</td>\n",
       "      <td>5</td>\n",
       "      <td>SEPROR</td>\n",
       "    </tr>\n",
       "    <tr>\n",
       "      <th>3643152</th>\n",
       "      <td>ALEXANDRE HENRIQUE FREITAS ARAUJO</td>\n",
       "      <td>GABINETE DO SECRETARIO</td>\n",
       "      <td>ENGENHEIRO AGRONOMO</td>\n",
       "      <td>SEC EXECUTIVO</td>\n",
       "      <td>ESTATUTARIO</td>\n",
       "      <td>16106.15</td>\n",
       "      <td>0.0</td>\n",
       "      <td>16106.15</td>\n",
       "      <td>4012.32</td>\n",
       "      <td>12093.83</td>\n",
       "      <td>2018</td>\n",
       "      <td>6</td>\n",
       "      <td>SEPROR</td>\n",
       "    </tr>\n",
       "    <tr>\n",
       "      <th>3642537</th>\n",
       "      <td>ALEXANDRE HENRIQUE FREITAS ARAUJO</td>\n",
       "      <td>GABINETE DO SECRETARIO</td>\n",
       "      <td>ENGENHEIRO AGRONOMO</td>\n",
       "      <td>SEC EXECUTIVO</td>\n",
       "      <td>ESTATUTARIO</td>\n",
       "      <td>16106.15</td>\n",
       "      <td>0.0</td>\n",
       "      <td>16106.15</td>\n",
       "      <td>4012.32</td>\n",
       "      <td>12093.83</td>\n",
       "      <td>2018</td>\n",
       "      <td>7</td>\n",
       "      <td>SEPROR</td>\n",
       "    </tr>\n",
       "    <tr>\n",
       "      <th>3642413</th>\n",
       "      <td>ALEXANDRE HENRIQUE FREITAS ARAUJO</td>\n",
       "      <td>GABINETE DO SECRETARIO</td>\n",
       "      <td>ENGENHEIRO AGRONOMO</td>\n",
       "      <td>SEC EXECUTIVO</td>\n",
       "      <td>ESTATUTARIO</td>\n",
       "      <td>16447.91</td>\n",
       "      <td>0.0</td>\n",
       "      <td>16447.91</td>\n",
       "      <td>4133.56</td>\n",
       "      <td>12314.35</td>\n",
       "      <td>2018</td>\n",
       "      <td>8</td>\n",
       "      <td>SEPROR</td>\n",
       "    </tr>\n",
       "    <tr>\n",
       "      <th>3640804</th>\n",
       "      <td>ALEXANDRE HENRIQUE FREITAS ARAUJO</td>\n",
       "      <td>GABINETE DO SECRETARIO</td>\n",
       "      <td>ENGENHEIRO AGRONOMO</td>\n",
       "      <td>SEC EXECUTIVO</td>\n",
       "      <td>ESTATUTARIO</td>\n",
       "      <td>16447.91</td>\n",
       "      <td>0.0</td>\n",
       "      <td>16447.91</td>\n",
       "      <td>4324.30</td>\n",
       "      <td>12123.61</td>\n",
       "      <td>2018</td>\n",
       "      <td>9</td>\n",
       "      <td>SEPROR</td>\n",
       "    </tr>\n",
       "    <tr>\n",
       "      <th>3640424</th>\n",
       "      <td>ALEXANDRE HENRIQUE FREITAS ARAUJO</td>\n",
       "      <td>GABINETE DO SECRETARIO</td>\n",
       "      <td>ENGENHEIRO AGRONOMO</td>\n",
       "      <td>SEC EXECUTIVO</td>\n",
       "      <td>ESTATUTARIO</td>\n",
       "      <td>16747.91</td>\n",
       "      <td>0.0</td>\n",
       "      <td>16747.91</td>\n",
       "      <td>4324.30</td>\n",
       "      <td>12423.61</td>\n",
       "      <td>2018</td>\n",
       "      <td>10</td>\n",
       "      <td>SEPROR</td>\n",
       "    </tr>\n",
       "    <tr>\n",
       "      <th>3641174</th>\n",
       "      <td>ALEXANDRE HENRIQUE FREITAS ARAUJO</td>\n",
       "      <td>GABINETE DO SECRETARIO</td>\n",
       "      <td>ENGENHEIRO AGRONOMO</td>\n",
       "      <td>SEC EXECUTIVO</td>\n",
       "      <td>ESTATUTARIO</td>\n",
       "      <td>16406.15</td>\n",
       "      <td>0.0</td>\n",
       "      <td>16406.15</td>\n",
       "      <td>4203.07</td>\n",
       "      <td>12203.08</td>\n",
       "      <td>2018</td>\n",
       "      <td>11</td>\n",
       "      <td>SEPROR</td>\n",
       "    </tr>\n",
       "    <tr>\n",
       "      <th>3641806</th>\n",
       "      <td>ALEXANDRE HENRIQUE FREITAS ARAUJO</td>\n",
       "      <td>GABINETE DO SECRETARIO</td>\n",
       "      <td>ENGENHEIRO AGRONOMO</td>\n",
       "      <td>SEC EXECUTIVO</td>\n",
       "      <td>ESTATUTARIO</td>\n",
       "      <td>16406.15</td>\n",
       "      <td>0.0</td>\n",
       "      <td>16406.15</td>\n",
       "      <td>4203.07</td>\n",
       "      <td>12203.08</td>\n",
       "      <td>2018</td>\n",
       "      <td>12</td>\n",
       "      <td>SEPROR</td>\n",
       "    </tr>\n",
       "    <tr>\n",
       "      <th>3641053</th>\n",
       "      <td>ALEXANDRE HENRIQUE FREITAS ARAUJO</td>\n",
       "      <td>GABINETE DO SECRETARIO</td>\n",
       "      <td>ENGENHEIRO AGRONOMO</td>\n",
       "      <td>SEC EXECUTIVO</td>\n",
       "      <td>ESTATUTARIO</td>\n",
       "      <td>16406.15</td>\n",
       "      <td>0.0</td>\n",
       "      <td>16406.15</td>\n",
       "      <td>4203.07</td>\n",
       "      <td>12203.08</td>\n",
       "      <td>2018</td>\n",
       "      <td>13</td>\n",
       "      <td>SEPROR</td>\n",
       "    </tr>\n",
       "  </tbody>\n",
       "</table>\n",
       "</div>"
      ],
      "text/plain": [
       "                                      NOME                 LOTACAO  \\\n",
       "168751   ALEXANDRE HENRIQUE FREITAS ARAUJO                GABINETE   \n",
       "166724   ALEXANDRE HENRIQUE FREITAS ARAUJO                GABINETE   \n",
       "169725   ALEXANDRE HENRIQUE FREITAS ARAUJO                GABINETE   \n",
       "170952   ALEXANDRE HENRIQUE FREITAS ARAUJO                GABINETE   \n",
       "170544   ALEXANDRE HENRIQUE FREITAS ARAUJO                GABINETE   \n",
       "168614   ALEXANDRE HENRIQUE FREITAS ARAUJO                GABINETE   \n",
       "169305   ALEXANDRE HENRIQUE FREITAS ARAUJO                GABINETE   \n",
       "170273   ALEXANDRE HENRIQUE FREITAS ARAUJO                GABINETE   \n",
       "169029   ALEXANDRE HENRIQUE FREITAS ARAUJO                GABINETE   \n",
       "166860   ALEXANDRE HENRIQUE FREITAS ARAUJO                GABINETE   \n",
       "170815   ALEXANDRE HENRIQUE FREITAS ARAUJO                GABINETE   \n",
       "167940   ALEXANDRE HENRIQUE FREITAS ARAUJO                GABINETE   \n",
       "168074   ALEXANDRE HENRIQUE FREITAS ARAUJO                GABINETE   \n",
       "168209   ALEXANDRE HENRIQUE FREITAS ARAUJO                GABINETE   \n",
       "168479   ALEXANDRE HENRIQUE FREITAS ARAUJO                GABINETE   \n",
       "170139   ALEXANDRE HENRIQUE FREITAS ARAUJO                GABINETE   \n",
       "3642274  ALEXANDRE HENRIQUE FREITAS ARAUJO  GABINETE DO SECRETARIO   \n",
       "3641674  ALEXANDRE HENRIQUE FREITAS ARAUJO  GABINETE DO SECRETARIO   \n",
       "3642905  ALEXANDRE HENRIQUE FREITAS ARAUJO  GABINETE DO SECRETARIO   \n",
       "3642661  ALEXANDRE HENRIQUE FREITAS ARAUJO  GABINETE DO SECRETARIO   \n",
       "3642791  ALEXANDRE HENRIQUE FREITAS ARAUJO  GABINETE DO SECRETARIO   \n",
       "3641545  ALEXANDRE HENRIQUE FREITAS ARAUJO  GABINETE DO SECRETARIO   \n",
       "3640548  ALEXANDRE HENRIQUE FREITAS ARAUJO  GABINETE DO SECRETARIO   \n",
       "3643038  ALEXANDRE HENRIQUE FREITAS ARAUJO  GABINETE DO SECRETARIO   \n",
       "3642162  ALEXANDRE HENRIQUE FREITAS ARAUJO  GABINETE DO SECRETARIO   \n",
       "3641927  ALEXANDRE HENRIQUE FREITAS ARAUJO  GABINETE DO SECRETARIO   \n",
       "3641295  ALEXANDRE HENRIQUE FREITAS ARAUJO  GABINETE DO SECRETARIO   \n",
       "3642042  ALEXANDRE HENRIQUE FREITAS ARAUJO  GABINETE DO SECRETARIO   \n",
       "3643152  ALEXANDRE HENRIQUE FREITAS ARAUJO  GABINETE DO SECRETARIO   \n",
       "3642537  ALEXANDRE HENRIQUE FREITAS ARAUJO  GABINETE DO SECRETARIO   \n",
       "3642413  ALEXANDRE HENRIQUE FREITAS ARAUJO  GABINETE DO SECRETARIO   \n",
       "3640804  ALEXANDRE HENRIQUE FREITAS ARAUJO  GABINETE DO SECRETARIO   \n",
       "3640424  ALEXANDRE HENRIQUE FREITAS ARAUJO  GABINETE DO SECRETARIO   \n",
       "3641174  ALEXANDRE HENRIQUE FREITAS ARAUJO  GABINETE DO SECRETARIO   \n",
       "3641806  ALEXANDRE HENRIQUE FREITAS ARAUJO  GABINETE DO SECRETARIO   \n",
       "3641053  ALEXANDRE HENRIQUE FREITAS ARAUJO  GABINETE DO SECRETARIO   \n",
       "\n",
       "                       CARGO               FUNCAO       VINCULO  \\\n",
       "168751   ENGENHEIRO AGRONOMO              DIRETOR   ESTATUTARIO   \n",
       "166724   ENGENHEIRO AGRONOMO              DIRETOR   ESTATUTARIO   \n",
       "169725   ENGENHEIRO AGRONOMO              DIRETOR   ESTATUTARIO   \n",
       "170952   ENGENHEIRO AGRONOMO              DIRETOR   ESTATUTARIO   \n",
       "170544   ENGENHEIRO AGRONOMO              DIRETOR   ESTATUTARIO   \n",
       "168614   ENGENHEIRO AGRONOMO              DIRETOR   ESTATUTARIO   \n",
       "169305   ENGENHEIRO AGRONOMO              DIRETOR   ESTATUTARIO   \n",
       "170273   ENGENHEIRO AGRONOMO              DIRETOR   ESTATUTARIO   \n",
       "169029   ENGENHEIRO AGRONOMO              DIRETOR   ESTATUTARIO   \n",
       "166860   ENGENHEIRO AGRONOMO              DIRETOR   ESTATUTARIO   \n",
       "170815   ENGENHEIRO AGRONOMO              DIRETOR   ESTATUTARIO   \n",
       "167940   ENGENHEIRO AGRONOMO              DIRETOR   ESTATUTARIO   \n",
       "168074   ENGENHEIRO AGRONOMO              DIRETOR   ESTATUTARIO   \n",
       "168209   ENGENHEIRO AGRONOMO              DIRETOR   ESTATUTARIO   \n",
       "168479   ENGENHEIRO AGRONOMO              DIRETOR   ESTATUTARIO   \n",
       "170139   ENGENHEIRO AGRONOMO              DIRETOR   ESTATUTARIO   \n",
       "3642274  ENGENHEIRO AGRONOMO  SUPERVISOR REG.AD/1   ESTATUTARIO   \n",
       "3641674  ENGENHEIRO AGRONOMO  SUPERVISOR REG.AD/1   ESTATUTARIO   \n",
       "3642905  ENGENHEIRO AGRONOMO  SUPERVISOR REG.AD/1   ESTATUTARIO   \n",
       "3642661  ENGENHEIRO AGRONOMO  SUPERVISOR REG.AD/1   ESTATUTARIO   \n",
       "3642791  ENGENHEIRO AGRONOMO  SUPERVISOR REG.AD/1   ESTATUTARIO   \n",
       "3641545  ENGENHEIRO AGRONOMO  SUPERVISOR REG.AD/1   ESTATUTARIO   \n",
       "3640548  ENGENHEIRO AGRONOMO  SUPERVISOR REG.AD/1   ESTATUTARIO   \n",
       "3643038  ENGENHEIRO AGRONOMO  SUPERVISOR REG.AD/1   ESTATUTARIO   \n",
       "3642162  ENGENHEIRO AGRONOMO        SEC EXECUTIVO   ESTATUTARIO   \n",
       "3641927  ENGENHEIRO AGRONOMO        SEC EXECUTIVO   ESTATUTARIO   \n",
       "3641295  ENGENHEIRO AGRONOMO        SEC EXECUTIVO   ESTATUTARIO   \n",
       "3642042  ENGENHEIRO AGRONOMO        SEC EXECUTIVO   ESTATUTARIO   \n",
       "3643152  ENGENHEIRO AGRONOMO        SEC EXECUTIVO   ESTATUTARIO   \n",
       "3642537  ENGENHEIRO AGRONOMO        SEC EXECUTIVO   ESTATUTARIO   \n",
       "3642413  ENGENHEIRO AGRONOMO        SEC EXECUTIVO   ESTATUTARIO   \n",
       "3640804  ENGENHEIRO AGRONOMO        SEC EXECUTIVO   ESTATUTARIO   \n",
       "3640424  ENGENHEIRO AGRONOMO        SEC EXECUTIVO   ESTATUTARIO   \n",
       "3641174  ENGENHEIRO AGRONOMO        SEC EXECUTIVO   ESTATUTARIO   \n",
       "3641806  ENGENHEIRO AGRONOMO        SEC EXECUTIVO   ESTATUTARIO   \n",
       "3641053  ENGENHEIRO AGRONOMO        SEC EXECUTIVO   ESTATUTARIO   \n",
       "\n",
       "         REMUNERACAO LEGAL TOTAL(R$)  DESC.TETO(R$)  \\\n",
       "168751                      13213.28            0.0   \n",
       "166724                      11458.28            0.0   \n",
       "169725                      19358.46            0.0   \n",
       "170952                      14606.15            0.0   \n",
       "170544                      14606.15            0.0   \n",
       "168614                      14606.15            0.0   \n",
       "169305                      14606.15            0.0   \n",
       "170273                      14606.15            0.0   \n",
       "169029                      14606.15            0.0   \n",
       "166860                      14606.15            0.0   \n",
       "170815                      14606.15            0.0   \n",
       "167940                      14606.15            0.0   \n",
       "168074                      25825.46            0.0   \n",
       "168209                      25825.46            0.0   \n",
       "168479                      25825.46            0.0   \n",
       "170139                      19558.46            0.0   \n",
       "3642274                     10058.28            0.0   \n",
       "3641674                     10058.28            0.0   \n",
       "3642905                     10058.28            0.0   \n",
       "3642661                     10058.28            0.0   \n",
       "3642791                      6058.28            0.0   \n",
       "3641545                     14741.60            0.0   \n",
       "3640548                     14741.60            0.0   \n",
       "3643038                     14727.96            0.0   \n",
       "3642162                     17591.62            0.0   \n",
       "3641927                     15958.28            0.0   \n",
       "3641295                     15958.28            0.0   \n",
       "3642042                     15958.28            0.0   \n",
       "3643152                     16106.15            0.0   \n",
       "3642537                     16106.15            0.0   \n",
       "3642413                     16447.91            0.0   \n",
       "3640804                     16447.91            0.0   \n",
       "3640424                     16747.91            0.0   \n",
       "3641174                     16406.15            0.0   \n",
       "3641806                     16406.15            0.0   \n",
       "3641053                     16406.15            0.0   \n",
       "\n",
       "         REMUNERACAO LEGAL DEVIDA(R$)  DESCONTOS LEGAIS(R$)  \\\n",
       "168751                       13213.28               1304.20   \n",
       "166724                       11458.28               2769.54   \n",
       "169725                       19358.46               5014.95   \n",
       "170952                       14606.15               3708.07   \n",
       "170544                       14606.15               3708.07   \n",
       "168614                       14606.15               3708.07   \n",
       "169305                       14606.15               3708.07   \n",
       "170273                       14606.15               3708.07   \n",
       "169029                       14606.15               3708.07   \n",
       "166860                       14606.15               3708.07   \n",
       "170815                       14606.15               3708.07   \n",
       "167940                       14606.15               3812.34   \n",
       "168074                       25825.46               6897.65   \n",
       "168209                       25825.46               6897.65   \n",
       "168479                       25825.46               6897.65   \n",
       "170139                       19558.46               5119.23   \n",
       "3642274                      10058.28               2384.54   \n",
       "3641674                      10058.28               2384.54   \n",
       "3642905                      10058.28               2384.54   \n",
       "3642661                      10058.28               2384.54   \n",
       "3642791                       6058.28               1304.20   \n",
       "3641545                      14741.60               3620.37   \n",
       "3640548                      14741.60               3620.37   \n",
       "3643038                      14727.96               3668.71   \n",
       "3642162                      17591.62               4456.21   \n",
       "3641927                      15958.28               4007.04   \n",
       "3641295                      15958.28               4007.04   \n",
       "3642042                      15958.28               4007.04   \n",
       "3643152                      16106.15               4012.32   \n",
       "3642537                      16106.15               4012.32   \n",
       "3642413                      16447.91               4133.56   \n",
       "3640804                      16447.91               4324.30   \n",
       "3640424                      16747.91               4324.30   \n",
       "3641174                      16406.15               4203.07   \n",
       "3641806                      16406.15               4203.07   \n",
       "3641053                      16406.15               4203.07   \n",
       "\n",
       "         LIQUIDO DISPONIVEL(R$)   ANO  MES   ORGAO  \n",
       "168751                 11909.08  2017    5    ADAF  \n",
       "166724                  8688.74  2017   10    ADAF  \n",
       "169725                 14343.51  2019    1    ADAF  \n",
       "170952                 10898.08  2019    2    ADAF  \n",
       "170544                 10898.08  2019    3    ADAF  \n",
       "168614                 10898.08  2019    4    ADAF  \n",
       "169305                 10898.08  2019    5    ADAF  \n",
       "170273                 10898.08  2019    6    ADAF  \n",
       "169029                 10898.08  2019    7    ADAF  \n",
       "166860                 10898.08  2019    8    ADAF  \n",
       "170815                 10898.08  2019    9    ADAF  \n",
       "167940                 10793.81  2019   10    ADAF  \n",
       "168074                 18927.81  2019   11    ADAF  \n",
       "168209                 18927.81  2019   12    ADAF  \n",
       "168479                 18927.81  2019   13    ADAF  \n",
       "170139                 14439.23  2020    1    ADAF  \n",
       "3642274                 7673.74  2017    6  SEPROR  \n",
       "3641674                 7673.74  2017    7  SEPROR  \n",
       "3642905                 7673.74  2017    8  SEPROR  \n",
       "3642661                 7673.74  2017    9  SEPROR  \n",
       "3642791                 4754.08  2017   11  SEPROR  \n",
       "3641545                11121.23  2017   12  SEPROR  \n",
       "3640548                11121.23  2017   13  SEPROR  \n",
       "3643038                11059.25  2018    1  SEPROR  \n",
       "3642162                13135.41  2018    2  SEPROR  \n",
       "3641927                11951.24  2018    3  SEPROR  \n",
       "3641295                11951.24  2018    4  SEPROR  \n",
       "3642042                11951.24  2018    5  SEPROR  \n",
       "3643152                12093.83  2018    6  SEPROR  \n",
       "3642537                12093.83  2018    7  SEPROR  \n",
       "3642413                12314.35  2018    8  SEPROR  \n",
       "3640804                12123.61  2018    9  SEPROR  \n",
       "3640424                12423.61  2018   10  SEPROR  \n",
       "3641174                12203.08  2018   11  SEPROR  \n",
       "3641806                12203.08  2018   12  SEPROR  \n",
       "3641053                12203.08  2018   13  SEPROR  "
      ]
     },
     "execution_count": 32,
     "metadata": {},
     "output_type": "execute_result"
    }
   ],
   "source": [
    "ano = 2018\n",
    "serv_id = 36\n",
    "registros_serv = rem_org.loc[(rem_org.NOME == nomes[serv_id]), :]\n",
    "fig = px.line(registros_serv, title='Remuneração de '+nomes[serv_id]+', 2018', y='REMUNERACAO LEGAL TOTAL(R$)', x='ANO', color='ORGAO')\n",
    "# fig = px.line(registros_serv, title='Remuneração de '+nomes[serv_id]+', 2018', y='FUNCAO', x='ANO', color='ORGAO')\n",
    "# teste = rem_org.loc[(rem_org.NOME == nomes[12]) & (rem_org.ANO == ano), :]\n",
    "# fig = px.line(teste, y='REMUNERACAO LEGAL TOTAL(R$)', x='MES', color='ORGAO')\n",
    "\n",
    "fig.show()\n",
    "registros_serv"
   ]
  }
 ],
 "metadata": {
  "kernelspec": {
   "display_name": "Python 3",
   "language": "python",
   "name": "python3"
  },
  "language_info": {
   "codemirror_mode": {
    "name": "ipython",
    "version": 3
   },
   "file_extension": ".py",
   "mimetype": "text/x-python",
   "name": "python",
   "nbconvert_exporter": "python",
   "pygments_lexer": "ipython3",
   "version": "3.6.9"
  }
 },
 "nbformat": 4,
 "nbformat_minor": 2
}
