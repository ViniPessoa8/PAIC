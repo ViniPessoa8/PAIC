{
 "cells": [
  {
   "cell_type": "markdown",
   "metadata": {},
   "source": [
    "## Imports"
   ]
  },
  {
   "cell_type": "code",
   "execution_count": 1,
   "metadata": {},
   "outputs": [],
   "source": [
    "import matplotlib.pyplot as plt\n",
    "import pandas as pd\n",
    "import numpy as np"
   ]
  },
  {
   "cell_type": "markdown",
   "metadata": {},
   "source": [
    "### Carrega o arquivo 'remuneracao_servidores.csv' e cria um DataFrame a partir dele."
   ]
  },
  {
   "cell_type": "code",
   "execution_count": 2,
   "metadata": {},
   "outputs": [],
   "source": [
    "file_path = r'../ds/remuneracao_servidores.csv'\n",
    "rem_org = pd.read_csv(file_path, sep=',', header=0, decimal='.')\n",
    "\n",
    "try:       \n",
    "    rem_org.drop('Unnamed: 0', axis=1, inplace=True)\n",
    "except:\n",
    "    print(\"no unnamed column.\")\n",
    "        \n",
    "rem_org = rem_org.sort_values(by=['ANO', 'ORGAO', 'MES'])\n",
    "\n",
    "# Cria uma lista com o nome dos órgãos e outra com os anos \n",
    "anos = rem_org[\"ANO\"].drop_duplicates()\n",
    "orgaos = rem_org[\"ORGAO\"].drop_duplicates()\n",
    "\n",
    "# Retira espaço inicial\n",
    "rem_org.rename(columns={' REMUNERACAO LEGAL DEVIDA(R$)' : 'REMUNERACAO LEGAL DEVIDA(R$)'}, inplace=True)"
   ]
  },
  {
   "cell_type": "markdown",
   "metadata": {},
   "source": [
    "## Funções"
   ]
  },
  {
   "cell_type": "markdown",
   "metadata": {},
   "source": [
    "### Plotagem em barra"
   ]
  },
  {
   "cell_type": "code",
   "execution_count": 3,
   "metadata": {},
   "outputs": [],
   "source": [
    "def plot_bar(title, labels, data, xlabel, ylabel):\n",
    "    plt.figure(figsize=[20,10], dpi=100)\n",
    "    index = np.arange(len(labels))\n",
    "    plt.bar(index, data)\n",
    "    plt.xlabel(xlabel, fontsize=30)\n",
    "    plt.ylabel(ylabel, fontsize=30)\n",
    "    plt.xticks(index, labels, fontsize=10, rotation=90)\n",
    "    plt.title(title)\n",
    "    plt.show()"
   ]
  },
  {
   "cell_type": "markdown",
   "metadata": {},
   "source": [
    "### Plotagem em linha"
   ]
  },
  {
   "cell_type": "code",
   "execution_count": 4,
   "metadata": {},
   "outputs": [],
   "source": [
    "def plot_line():\n",
    "    plt.figure(figsize=[20,10])\n",
    "    plt.plot(orgao_tots, label = orgao)\n",
    "    plt.legend(loc=0)\n",
    "    ax = plt.xticks(range(len(orgao_tots)),data, rotation = 90)"
   ]
  },
  {
   "cell_type": "markdown",
   "metadata": {},
   "source": [
    "# Plotagens"
   ]
  },
  {
   "cell_type": "markdown",
   "metadata": {},
   "source": [
    "### Remuneração Legal Devida por mês"
   ]
  },
  {
   "cell_type": "markdown",
   "metadata": {},
   "source": [
    "Remuneração do mês < R$100.000"
   ]
  },
  {
   "cell_type": "code",
   "execution_count": null,
   "metadata": {
    "scrolled": true
   },
   "outputs": [
    {
     "name": "stdout",
     "output_type": "stream",
     "text": [
      "ADS\n",
      "FHEMOAM\n",
      "SECOM\n",
      "SEAD\n",
      "SEAD-PENSÃO ESPECIAL I\n",
      "SEAD-PENSÃO HANSENIANOS\n",
      "SERIRA\n",
      "ADAF\n",
      "ALFREDO DA MATA\n",
      "AMAZONPREV\n",
      "ARSAM\n",
      "CASA CIVIL DO GOVERNO\n",
      "CASA MILITAR\n",
      "CB-CIVIS\n",
      "CBMAM\n",
      "CETAM\n",
      "CGE\n",
      "CGL\n",
      "DETRAN\n",
      "ERGSP\n",
      "FAPEAM\n",
      "FCECON\n",
      "FEI\n",
      "FHAJ\n",
      "FMT-AM\n",
      "FUNDAÇÃO AMAZONPREV\n",
      "FUNTEC\n",
      "FVS\n",
      "IDAM\n",
      "IMPRENSA OFICIAL\n",
      "IPAAM\n",
      "IPEM-AM\n",
      "JUCEA\n",
      "OUVIDORIA GERAL\n",
      "PENSIONISTAS\n",
      "PGE\n",
      "PM-CIVIS\n",
      "POLICIA CIVIL\n",
      "SEAD-PENSÃO ESPECIAL II\n"
     ]
    }
   ],
   "source": [
    "\n",
    "data = []\n",
    "\n",
    "for orgao in orgaos:\n",
    "    print(orgao)\n",
    "    maior = 0\n",
    "    orgao_tots = []\n",
    "    \n",
    "#     if(orgao != 'UEA' and orgao != 'SEAD'):\n",
    "#         continue\n",
    "        \n",
    "    for ano in anos:\n",
    "        \n",
    "        if (ano < 2017):\n",
    "            continue\n",
    "#         print(\"###\", ano)\n",
    "        meses = rem_org['MES'].drop_duplicates()\n",
    "        \n",
    "        for mes in meses:\n",
    "#             print(\"######\", mes, end=': ')\n",
    "            rem = rem_org[(rem_org['ANO'] == ano) & (rem_org['ORGAO'] == orgao) & (rem_org['MES'] == mes)]\n",
    "            rem = rem[['REMUNERACAO LEGAL DEVIDA(R$)', 'ORGAO']]\n",
    "            rem = rem['REMUNERACAO LEGAL DEVIDA(R$)'].sum()\n",
    "            if (rem > maior):\n",
    "                maior = rem\n",
    "#             print(rem)\n",
    "            orgao_tots.append(rem)\n",
    "            data.append(str(mes) + \"/\" + str(ano))\n",
    "#     print(maior)\n",
    "    if (maior < 100000):\n",
    "        plt.plot(orgao_tots, label = orgao)\n",
    "        plt.legend(loc=0)\n",
    "        ax = plt.xticks(range(len(orgao_tots)),data, rotation = 90)\n",
    "        print(\"foi\")"
   ]
  },
  {
   "cell_type": "markdown",
   "metadata": {},
   "source": [
    " 100.000 <= Remuneração do mês < 1.000.000"
   ]
  },
  {
   "cell_type": "code",
   "execution_count": null,
   "metadata": {},
   "outputs": [],
   "source": [
    "data = []\n",
    "plt.figure(figsize=[20,10])\n",
    "for orgao in orgaos:\n",
    "    print(orgao)\n",
    "    \n",
    "    orgao_tots = []\n",
    "    maior = 0\n",
    "#     if(orgao != 'UEA' and orgao != 'SEAD'):\n",
    "#         continue\n",
    "        \n",
    "    for ano in anos:\n",
    "        \n",
    "        if (ano < 2017):\n",
    "            continue\n",
    "#         print(\"###\", ano)\n",
    "        meses = rem_org['MES'].drop_duplicates()\n",
    "        \n",
    "        for mes in meses:\n",
    "#             print(\"######\", mes, end=': ')\n",
    "            rem = rem_org[(rem_org['ANO'] == ano) & (rem_org['ORGAO'] == orgao) & (rem_org['MES'] == mes)]\n",
    "            rem = rem[['REMUNERACAO LEGAL DEVIDA(R$)', 'ORGAO']]\n",
    "            rem = rem['REMUNERACAO LEGAL DEVIDA(R$)'].sum()\n",
    "            if (rem > maior):\n",
    "                maior = rem\n",
    "#             print(rem)\n",
    "            orgao_tots.append(rem)\n",
    "            data.append(str(mes) + \"/\" + str(ano))\n",
    "#     print(maior)\n",
    "    if (maior >= 100000 and maior < 1000000):\n",
    "        plt.plot(orgao_tots, label = orgao)\n",
    "        plt.legend(loc=0)\n",
    "        ax = plt.xticks(range(len(orgao_tots)),data, rotation = 90)\n",
    "        print(\"foi\")"
   ]
  },
  {
   "cell_type": "markdown",
   "metadata": {},
   "source": [
    " 1.000.000 <= Remuneração do mês < 10.000.000"
   ]
  },
  {
   "cell_type": "code",
   "execution_count": null,
   "metadata": {},
   "outputs": [],
   "source": [
    "data = []\n",
    "plt.figure(figsize=[20,10])\n",
    "for orgao in orgaos:\n",
    "    print(orgao)\n",
    "    maior = 0\n",
    "    orgao_tots = []\n",
    "    \n",
    "#     if(orgao != 'UEA' and orgao != 'SEAD'):\n",
    "#         continue\n",
    "        \n",
    "    for ano in anos:\n",
    "        \n",
    "        if (ano < 2017):\n",
    "            continue\n",
    "#         print(\"###\", ano)\n",
    "        meses = rem_org['MES'].drop_duplicates()\n",
    "        \n",
    "        for mes in meses:\n",
    "#             print(\"######\", mes, end=': ')\n",
    "            rem = rem_org[(rem_org['ANO'] == ano) & (rem_org['ORGAO'] == orgao) & (rem_org['MES'] == mes)]\n",
    "            rem = rem[['REMUNERACAO LEGAL DEVIDA(R$)', 'ORGAO']]\n",
    "            rem = rem['REMUNERACAO LEGAL DEVIDA(R$)'].sum()\n",
    "            if (rem > maior):\n",
    "                maior = rem\n",
    "#             print(rem)\n",
    "            orgao_tots.append(rem)\n",
    "            data.append(str(mes) + \"/\" + str(ano))\n",
    "#     print(maior)\n",
    "    if (maior >= 1000000 and maior < 10000000):\n",
    "        plt.plot(orgao_tots, label = orgao)\n",
    "        plt.legend(loc=0)\n",
    "        ax = plt.xticks(range(len(orgao_tots)),data, rotation = 90)\n",
    "        print(\"foi\")"
   ]
  },
  {
   "cell_type": "markdown",
   "metadata": {},
   "source": [
    "Remuneração do mês > 10.000.000"
   ]
  },
  {
   "cell_type": "code",
   "execution_count": null,
   "metadata": {},
   "outputs": [],
   "source": [
    "data = []\n",
    "plt.figure(figsize=[20,10])\n",
    "for orgao in orgaos:\n",
    "    print(orgao)\n",
    "    maior = 0\n",
    "    orgao_tots = []\n",
    "    \n",
    "#     if(orgao != 'UEA' and orgao != 'SEAD'):\n",
    "#         continue\n",
    "        \n",
    "    for ano in anos:\n",
    "        \n",
    "        if (ano < 2017):\n",
    "            continue\n",
    "#         print(\"###\", ano)\n",
    "        meses = rem_org['MES'].drop_duplicates()\n",
    "        \n",
    "        for mes in meses:\n",
    "#             print(\"######\", mes, end=': ')\n",
    "            rem = rem_org[(rem_org['ANO'] == ano) & (rem_org['ORGAO'] == orgao) & (rem_org['MES'] == mes)]\n",
    "            rem = rem[['REMUNERACAO LEGAL DEVIDA(R$)', 'ORGAO']]\n",
    "            rem = rem['REMUNERACAO LEGAL DEVIDA(R$)'].sum()\n",
    "            if (rem > maior):\n",
    "                maior = rem\n",
    "#             print(rem)\n",
    "            orgao_tots.append(rem)\n",
    "            data.append(str(mes) + \"/\" + str(ano))\n",
    "#     print(maior)\n",
    "    if (maior >= 10000000 and maior < 100000000):\n",
    "        plt.plot(orgao_tots, label = orgao)\n",
    "        plt.legend(loc=0)\n",
    "        ax = plt.xticks(range(len(orgao_tots)),data, rotation = 90)\n",
    "        print(\"foi\")"
   ]
  },
  {
   "cell_type": "markdown",
   "metadata": {},
   "source": [
    "Remuneração do mês > R$100.000.000"
   ]
  },
  {
   "cell_type": "code",
   "execution_count": null,
   "metadata": {},
   "outputs": [],
   "source": [
    "c_org = 0\n",
    "data = []\n",
    "plt.figure(figsize=[20,10])\n",
    "for orgao in orgaos:\n",
    "    \n",
    "    maior = 0\n",
    "    orgao_tots = []\n",
    "    \n",
    "#     if(orgao != 'AMAZONPREV' and orgao != 'SUSAM' and orgao != 'SEDUC'):\n",
    "#         continue\n",
    "    print(orgao)    \n",
    "    for ano in anos:\n",
    "        \n",
    "        if (ano < 2017):\n",
    "            continue\n",
    "#         print(\"###\", ano)\n",
    "        meses = rem_org['MES'].drop_duplicates()\n",
    "        \n",
    "        for mes in meses:\n",
    "#             print(\"######\", mes, end=': ')\n",
    "            rem = rem_org[(rem_org['ANO'] == ano) & (rem_org['ORGAO'] == orgao) & (rem_org['MES'] == mes)]\n",
    "            rem = rem[['REMUNERACAO LEGAL DEVIDA(R$)', 'ORGAO']]\n",
    "            rem = rem['REMUNERACAO LEGAL DEVIDA(R$)'].sum()\n",
    "            if (rem > maior):\n",
    "                maior = rem\n",
    "#             print(rem)\n",
    "            orgao_tots.append(rem)\n",
    "            data.append(str(mes) + \"/\" + str(ano))\n",
    "    if (maior >= 100000000):\n",
    "        plt.plot(orgao_tots, label = orgao)\n",
    "        plt.legend(loc=0)\n",
    "        ax = plt.xticks(range(len(orgao_tots)),data, rotation = 90)\n",
    "        print(\"foi\")\n",
    "        \n",
    "    c_org += 1"
   ]
  },
  {
   "cell_type": "markdown",
   "metadata": {},
   "source": [
    "## Remuneração total por órgão em 2017"
   ]
  },
  {
   "cell_type": "code",
   "execution_count": null,
   "metadata": {},
   "outputs": [],
   "source": [
    "data = []\n",
    "for orgao in orgaos:\n",
    "    orgao_tots = []\n",
    "    for ano in anos:\n",
    "        if (ano != 2017):\n",
    "            continue\n",
    "#         print(\"###\", ano)\n",
    "        rem = rem_org[(rem_org['ANO'] == ano) & (rem_org['ORGAO'] == orgao)]\n",
    "        rem = rem[['REMUNERACAO LEGAL DEVIDA(R$)', 'ORGAO']]\n",
    "        rem = rem['REMUNERACAO LEGAL DEVIDA(R$)'].sum()\n",
    "#             print(rem)\n",
    "        data.append(rem)\n",
    "        "
   ]
  },
  {
   "cell_type": "code",
   "execution_count": null,
   "metadata": {
    "scrolled": true
   },
   "outputs": [],
   "source": [
    "plot_bar('Remuneração legal devida por órgão em 2017',orgaos, data, 'Órgãos', 'R$')"
   ]
  },
  {
   "cell_type": "markdown",
   "metadata": {},
   "source": [
    "## Numero de funcionarios por órgão em 2017"
   ]
  },
  {
   "cell_type": "code",
   "execution_count": null,
   "metadata": {},
   "outputs": [],
   "source": [
    "data = []\n",
    "for orgao in orgaos:\n",
    "    orgao_tots = []\n",
    "    for ano in anos:\n",
    "        if (ano != 2017):\n",
    "            continue\n",
    "#         print(\"###\", ano)\n",
    "        rem = rem_org[(rem_org['ANO'] == ano) & (rem_org['ORGAO'] == orgao)]\n",
    "        rem = rem[['REMUNERACAO LEGAL DEVIDA(R$)', 'ORGAO']]\n",
    "        rem = rem['REMUNERACAO LEGAL DEVIDA(R$)'].count()\n",
    "#             print(rem)\n",
    "        data.append(rem)\n",
    "        "
   ]
  },
  {
   "cell_type": "code",
   "execution_count": null,
   "metadata": {},
   "outputs": [],
   "source": [
    "plot_bar('Número de servidores por órgão em 2017', orgaos, data, 'Órgãos', 'Número de servidores')"
   ]
  },
  {
   "cell_type": "markdown",
   "metadata": {},
   "source": [
    "## Maior remuneração de cada órgão em 2017"
   ]
  },
  {
   "cell_type": "code",
   "execution_count": null,
   "metadata": {},
   "outputs": [],
   "source": [
    "data = []\n",
    "for orgao in orgaos:\n",
    "    orgao_tots = []\n",
    "    for ano in anos:\n",
    "        if (ano != 2017):\n",
    "            continue\n",
    "#         print(\"###\", ano)\n",
    "        rem = rem_org[(rem_org['ANO'] == ano) & (rem_org['ORGAO'] == orgao)]\n",
    "        rem = rem[['REMUNERACAO LEGAL DEVIDA(R$)', 'ORGAO']]\n",
    "        rem = rem['REMUNERACAO LEGAL DEVIDA(R$)'].max()\n",
    "#             print(rem)\n",
    "        data.append(rem)\n",
    "        "
   ]
  },
  {
   "cell_type": "code",
   "execution_count": null,
   "metadata": {},
   "outputs": [],
   "source": [
    "plot_bar('Maior remuneração individual por órgão em 2017', orgaos, data, 'Órgãos', 'Reais (R$)')"
   ]
  }
 ],
 "metadata": {
  "kernelspec": {
   "display_name": "Python 3",
   "language": "python",
   "name": "python3"
  },
  "language_info": {
   "codemirror_mode": {
    "name": "ipython",
    "version": 3
   },
   "file_extension": ".py",
   "mimetype": "text/x-python",
   "name": "python",
   "nbconvert_exporter": "python",
   "pygments_lexer": "ipython3",
   "version": "3.7.3"
  }
 },
 "nbformat": 4,
 "nbformat_minor": 2
}
