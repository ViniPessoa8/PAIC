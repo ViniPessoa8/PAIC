{
  "nbformat": 4,
  "nbformat_minor": 0,
  "metadata": {
    "colab": {
      "name": "minicurso_pandas.ipynb",
      "provenance": [],
      "toc_visible": true
    },
    "language_info": {
      "codemirror_mode": {
        "name": "ipython",
        "version": 3
      },
      "file_extension": ".py",
      "mimetype": "text/x-python",
      "name": "python",
      "nbconvert_exporter": "python",
      "pygments_lexer": "ipython3",
      "version": "3.5.2"
    },
    "kernelspec": {
      "display_name": "Python 3",
      "language": "python",
      "name": "python3"
    }
  },
  "cells": [
    {
      "cell_type": "markdown",
      "metadata": {
        "id": "rGeWS6rP-xaq",
        "colab_type": "text"
      },
      "source": [
        "# Introdução à Análise de Dados com Pandas"
      ]
    },
    {
      "cell_type": "markdown",
      "metadata": {
        "id": "l9j-gzYA-xar",
        "colab_type": "text"
      },
      "source": [
        "Material baseado no tutorial \"Seus primeiros passos como Data Scientist: Introdução ao Pandas!\", que pode ser encontrado [aqui](https://medium.com/data-hackers/uma-introdu%C3%A7%C3%A3o-simples-ao-pandas-1e15eea37fa1)"
      ]
    },
    {
      "cell_type": "markdown",
      "metadata": {
        "id": "-CCwEIW8-xat",
        "colab_type": "text"
      },
      "source": [
        "**Pandas** é uma biblioteca Python que fornece ferramentas de análise de dados e estruturas de dados de alta performance e *fáceis de usar*. Por ser a principal e mais completa biblioteca para estes objetivos, **pandas** é fundamental para análise de dados com Python.\n",
        "\n",
        "Objetivo do minicurso é fornecer de forma enxuta e simplificada, uma apresentação básica às principais ferramentas fornecidas pelo **pandas**, cobrindo:\n",
        "\n",
        "- Manipulação; \n",
        "- Leitura; e,\n",
        "- Visualização de dados"
      ]
    },
    {
      "cell_type": "markdown",
      "metadata": {
        "id": "81mOQNv5-xau",
        "colab_type": "text"
      },
      "source": [
        "### Importando as bibliotecas:"
      ]
    },
    {
      "cell_type": "code",
      "metadata": {
        "id": "qZ1hyiVL-xav",
        "colab_type": "code",
        "colab": {}
      },
      "source": [
        "## Importando as bibliotecas"
      ],
      "execution_count": 0,
      "outputs": []
    },
    {
      "cell_type": "markdown",
      "metadata": {
        "id": "Gp4xwJ0q-xaz",
        "colab_type": "text"
      },
      "source": [
        "Existem dois tipos principais de estruturas de dados no pandas:\n",
        " 1. **Series** \n",
        " 1. **DataFrame**"
      ]
    },
    {
      "cell_type": "markdown",
      "metadata": {
        "id": "usFPrlge-xa0",
        "colab_type": "text"
      },
      "source": [
        "## Series\n",
        "\n",
        "Uma Series é como um array unidimensional, uma lista de valores. Toda Series possui um índice, o `index`, que dá rótulos a cada elemento da lista. Abaixo criamos uma Series `notas`, o `index` desta Series é a coluna à esquerda, que vai de 0 a 4 neste caso, que o pandas criou automaticamente, já que não especificamos uma lista de rótulos."
      ]
    },
    {
      "cell_type": "code",
      "metadata": {
        "id": "3PcL6TtJ-xa1",
        "colab_type": "code",
        "colab": {}
      },
      "source": [
        "## Criando uma series"
      ],
      "execution_count": 0,
      "outputs": []
    },
    {
      "cell_type": "markdown",
      "metadata": {
        "id": "qzlPXzCW-xa3",
        "colab_type": "text"
      },
      "source": [
        "Já podemos aqui verificar os atributos da nossa Series, comecemos pelos valores e o índice, os dois atributos *fundamentais* nesta estrutura:"
      ]
    },
    {
      "cell_type": "code",
      "metadata": {
        "id": "l06Wr4nk-xa4",
        "colab_type": "code",
        "colab": {}
      },
      "source": [
        "# values"
      ],
      "execution_count": 0,
      "outputs": []
    },
    {
      "cell_type": "code",
      "metadata": {
        "id": "72o6Z4CY-xa6",
        "colab_type": "code",
        "colab": {}
      },
      "source": [
        "# index"
      ],
      "execution_count": 0,
      "outputs": []
    },
    {
      "cell_type": "markdown",
      "metadata": {
        "id": "-Y_3mjlO-xa9",
        "colab_type": "text"
      },
      "source": [
        "Como ao criar a Series não demos um índice específico o pandas usou os inteiros positivos crescentes como padrão. Pode ser conveniente atribuirmos um índice diferente do padrão, supondo que essas sejam notas de uma turma, poderíamos atribuir nomes ao index:"
      ]
    },
    {
      "cell_type": "code",
      "metadata": {
        "id": "unVC0jyM-xa-",
        "colab_type": "code",
        "colab": {}
      },
      "source": [
        "## Criando uma series com índices definidos"
      ],
      "execution_count": 0,
      "outputs": []
    },
    {
      "cell_type": "markdown",
      "metadata": {
        "id": "jEsYIvBF-xbA",
        "colab_type": "text"
      },
      "source": [
        "O index nos ajuda para referenciar um determinado valor, ele nos permite acessar os valores pelo seu rótulo:"
      ]
    },
    {
      "cell_type": "code",
      "metadata": {
        "id": "R732Zxbx-xbA",
        "colab_type": "code",
        "colab": {}
      },
      "source": [
        "## Acessando valores"
      ],
      "execution_count": 0,
      "outputs": []
    },
    {
      "cell_type": "markdown",
      "metadata": {
        "id": "CeivpYGa-xbC",
        "colab_type": "text"
      },
      "source": [
        "Outra facilidade proporcionada pela estrutura são seus métodos que fornecem informações estatísticas sobre os valores, como **média** `.mean()` e **desvio padrão** `.std()`."
      ]
    },
    {
      "cell_type": "code",
      "metadata": {
        "id": "xcoUiZ49-xbD",
        "colab_type": "code",
        "colab": {}
      },
      "source": [
        "## Verificando média e desvio padrão"
      ],
      "execution_count": 0,
      "outputs": []
    },
    {
      "cell_type": "markdown",
      "metadata": {
        "id": "rI3IqnKN-xbG",
        "colab_type": "text"
      },
      "source": [
        "Geralmente para resumir brevemente as estatísticas dos dados se usa o `.describe()`"
      ]
    },
    {
      "cell_type": "code",
      "metadata": {
        "id": "D4dMo77j-xbI",
        "colab_type": "code",
        "colab": {}
      },
      "source": [
        "## Utilizar a função describe()"
      ],
      "execution_count": 0,
      "outputs": []
    },
    {
      "cell_type": "markdown",
      "metadata": {
        "id": "Xi1qiD3I-xbK",
        "colab_type": "text"
      },
      "source": [
        "A estrutura é flexível o suficiente pra aplicarmos algumas expressões matemáticas e funções matemáticas do numpy diretamente:"
      ]
    },
    {
      "cell_type": "code",
      "metadata": {
        "id": "NAvOZz1G-xbM",
        "colab_type": "code",
        "colab": {}
      },
      "source": [
        "## Multiplicação e log (np.log())"
      ],
      "execution_count": 0,
      "outputs": []
    },
    {
      "cell_type": "markdown",
      "metadata": {
        "id": "KsfOpbq--xbO",
        "colab_type": "text"
      },
      "source": [
        "## DataFrame\n",
        "Já um DataFrame é uma estrutura bidimensional de dados, como uma planilha. "
      ]
    },
    {
      "cell_type": "code",
      "metadata": {
        "id": "R7KTxqcY-xbP",
        "colab_type": "code",
        "colab": {}
      },
      "source": [
        "## Criando um DataFrame"
      ],
      "execution_count": 0,
      "outputs": []
    },
    {
      "cell_type": "markdown",
      "metadata": {
        "id": "48BIUDfT-xbT",
        "colab_type": "text"
      },
      "source": [
        "Verificando os tipos de dados que compõe as colunas."
      ]
    },
    {
      "cell_type": "code",
      "metadata": {
        "id": "YSP3zTuk-xbT",
        "colab_type": "code",
        "colab": {}
      },
      "source": [
        "## Tipo dos dados"
      ],
      "execution_count": 0,
      "outputs": []
    },
    {
      "cell_type": "markdown",
      "metadata": {
        "id": "B2xWK9Oz-xbW",
        "colab_type": "text"
      },
      "source": [
        "É possível acessar a lista de colunas de forma bem intuitiva:"
      ]
    },
    {
      "cell_type": "code",
      "metadata": {
        "id": "Agt7jCJA-xbX",
        "colab_type": "code",
        "colab": {}
      },
      "source": [
        "## Colunas do DataFrame"
      ],
      "execution_count": 0,
      "outputs": []
    },
    {
      "cell_type": "markdown",
      "metadata": {
        "id": "McoqZ0I7-xbZ",
        "colab_type": "text"
      },
      "source": [
        "Os nomes das colunas podem ser usadas pra acessar seus valores:"
      ]
    },
    {
      "cell_type": "code",
      "metadata": {
        "id": "UStl6L7s-xba",
        "colab_type": "code",
        "colab": {}
      },
      "source": [
        "## Acessando valores"
      ],
      "execution_count": 0,
      "outputs": []
    },
    {
      "cell_type": "markdown",
      "metadata": {
        "id": "Z-AxOras-xbb",
        "colab_type": "text"
      },
      "source": [
        "Para DataFrames, `.describe()` também é uma boa forma de verificar resumidamente a disposição estatística dos dados numéricos:"
      ]
    },
    {
      "cell_type": "code",
      "metadata": {
        "id": "98W7QTpL-xbc",
        "colab_type": "code",
        "colab": {}
      },
      "source": [
        "## Utilizar a função describe()"
      ],
      "execution_count": 0,
      "outputs": []
    },
    {
      "cell_type": "markdown",
      "metadata": {
        "id": "i0wbIdsZ-xbf",
        "colab_type": "text"
      },
      "source": [
        "Outra tarefa comum aplicada em DataFrames é ordená-los por determinada coluna:"
      ]
    },
    {
      "cell_type": "code",
      "metadata": {
        "id": "Lmi7A_bG-xbg",
        "colab_type": "code",
        "colab": {}
      },
      "source": [
        "## Ordenando pelas notas do seminário"
      ],
      "execution_count": 0,
      "outputs": []
    },
    {
      "cell_type": "markdown",
      "metadata": {
        "id": "xUTnzzzd-xbj",
        "colab_type": "text"
      },
      "source": [
        "Note que simplesmente usar o método `sort_values` não modifica o nosso DataFrame original:"
      ]
    },
    {
      "cell_type": "code",
      "metadata": {
        "id": "-Zf-DddD-xbm",
        "colab_type": "code",
        "colab": {}
      },
      "source": [
        "## Visualizando DataFrame"
      ],
      "execution_count": 0,
      "outputs": []
    },
    {
      "cell_type": "markdown",
      "metadata": {
        "id": "IsgzItbO-xbo",
        "colab_type": "text"
      },
      "source": [
        "Muitas vezes é necessário selecionarmos valores específicos de um DataFrame, seja uma linha ou uma célula específica, e isso pode ser feito de diversas formas. "
      ]
    },
    {
      "cell_type": "markdown",
      "metadata": {
        "id": "j6eg6zHo-xbp",
        "colab_type": "text"
      },
      "source": [
        "Para selecionar pelo index ou rótulo usamos o atributo `.loc`:"
      ]
    },
    {
      "cell_type": "code",
      "metadata": {
        "id": "g9oJYbSU-xbs",
        "colab_type": "code",
        "colab": {}
      },
      "source": [
        "## Acessando index pelo .loc[]"
      ],
      "execution_count": 0,
      "outputs": []
    },
    {
      "cell_type": "markdown",
      "metadata": {
        "id": "2DKWNbys-xbu",
        "colab_type": "text"
      },
      "source": [
        "Para selecionar de acordo com critérios condicionais, se usa o que se chama de **Boolean Indexing**.\n",
        "\n",
        "Suponha que queiramos selecionar apenas as linhas em que o valor da coluna *Seminário* seja acima de 8.0:"
      ]
    },
    {
      "cell_type": "code",
      "metadata": {
        "id": "MkWoy56Q-xbx",
        "colab_type": "code",
        "colab": {}
      },
      "source": [
        "## Boolean Indexing"
      ],
      "execution_count": 0,
      "outputs": []
    },
    {
      "cell_type": "markdown",
      "metadata": {
        "id": "lyBGKfMQ-xbz",
        "colab_type": "text"
      },
      "source": [
        "Este tipo de indexação também possibilita checar condições de múltiplas colunas. Diferentemente do que estamos habituados em Python, aqui se usam operadores bitwise, ou seja, `&`, `|`, `~` ao invés de `and`, `or`, `not`, respectivamente. Suponha que além de `df[\"Seminário\"] > 8.0` queiramos que o valor da coluna `Prova` não seja menor que 3:"
      ]
    },
    {
      "cell_type": "code",
      "metadata": {
        "id": "Sy2pUNoW-xb0",
        "colab_type": "code",
        "colab": {}
      },
      "source": [
        "## Boolean Indexing e condições"
      ],
      "execution_count": 0,
      "outputs": []
    },
    {
      "cell_type": "markdown",
      "metadata": {
        "id": "L-vq_X-7-xb3",
        "colab_type": "text"
      },
      "source": [
        "## Leitura de *datasets*"
      ]
    },
    {
      "cell_type": "markdown",
      "metadata": {
        "id": "0r7ylmDO-xb3",
        "colab_type": "text"
      },
      "source": [
        "O pandas nos fornece uma série de funcionalidades de leitura de dados, pros mais diversos formatos estruturais de dados, experimente a auto-completação de `pd.read_<TAB>`, entre eles estão:\n",
        " 1. `pd.read_csv`, para ler arquivos .csv, formato comum de armazenar dados de tabelas\n",
        " 1. `pd.read_excel`, para ler arquivos Excel .xlsx, é necessário instalar uma biblioteca adicional pra esta funcionalidade.\n",
        " \n",
        "Usaremos para analisar dados externos nesta introdução o `.read_csv`, pois é neste formato que se encontram nossos dados. \n",
        "\n",
        "Estes dados que usaremos como exemplo são dados que contêm informações de 802 pokemons de todas as sete gerações. O arquivo pode ser encontrado [aqui](https://www.kaggle.com/rounakbanik/pokemon)"
      ]
    },
    {
      "cell_type": "code",
      "metadata": {
        "id": "y5m_A18l-xb3",
        "colab_type": "code",
        "colab": {}
      },
      "source": [
        "## Lendo um dataset"
      ],
      "execution_count": 0,
      "outputs": []
    },
    {
      "cell_type": "markdown",
      "metadata": {
        "id": "x91E4Cdy-xb5",
        "colab_type": "text"
      },
      "source": [
        "Como esperado, o DataFrame tem muitas linhas de dados, pra visualizar sucintamente as primeiras linhas de um DataFrame existe o método `.head()`"
      ]
    },
    {
      "cell_type": "code",
      "metadata": {
        "id": "6ApfzI4KCD5n",
        "colab_type": "code",
        "colab": {}
      },
      "source": [
        "## Shape"
      ],
      "execution_count": 0,
      "outputs": []
    },
    {
      "cell_type": "code",
      "metadata": {
        "id": "saCfVVaB-xb6",
        "colab_type": "code",
        "colab": {}
      },
      "source": [
        "## Visualizando o dataset"
      ],
      "execution_count": 0,
      "outputs": []
    },
    {
      "cell_type": "markdown",
      "metadata": {
        "id": "SZUhoBuO-xb7",
        "colab_type": "text"
      },
      "source": [
        "Por padrão `.head()` exibe as 5 primeiras linhas, mas isso pode ser alterado:"
      ]
    },
    {
      "cell_type": "code",
      "metadata": {
        "id": "A1S6EGWl-xb8",
        "colab_type": "code",
        "colab": {}
      },
      "source": [
        "## Definir quantidade de linhas"
      ],
      "execution_count": 0,
      "outputs": []
    },
    {
      "cell_type": "markdown",
      "metadata": {
        "id": "hrOrLg7Q-xb_",
        "colab_type": "text"
      },
      "source": [
        "Similarmente existe o `.tail()`, que exibe por padrão as últimas 5 linhas do DataFrame:"
      ]
    },
    {
      "cell_type": "code",
      "metadata": {
        "id": "RH8r1YOl-xb_",
        "colab_type": "code",
        "colab": {}
      },
      "source": [
        "## Visualizando o dataset"
      ],
      "execution_count": 0,
      "outputs": []
    },
    {
      "cell_type": "code",
      "metadata": {
        "id": "la8ET9Rv-xcE",
        "colab_type": "code",
        "colab": {}
      },
      "source": [
        "## Colunas"
      ],
      "execution_count": 0,
      "outputs": []
    },
    {
      "cell_type": "code",
      "metadata": {
        "id": "84pFr56v-xcG",
        "colab_type": "code",
        "colab": {}
      },
      "source": [
        "## Excluir colunas que não vão ser utilizadas"
      ],
      "execution_count": 0,
      "outputs": []
    },
    {
      "cell_type": "code",
      "metadata": {
        "id": "ZhYwtgBk-xcI",
        "colab_type": "code",
        "colab": {}
      },
      "source": [
        "## Ou deixar apenas aquelas que vou utilizar"
      ],
      "execution_count": 0,
      "outputs": []
    },
    {
      "cell_type": "markdown",
      "metadata": {
        "id": "Gv69GXPP-xcJ",
        "colab_type": "text"
      },
      "source": [
        "Quantas gerações de pokemons existem em nosso dataset? Você pode verificar a informação usando um método que lista os valores únicos numa coluna:"
      ]
    },
    {
      "cell_type": "code",
      "metadata": {
        "id": "WbFYEWnA-xcJ",
        "colab_type": "code",
        "colab": {}
      },
      "source": [
        "## Listando os valores únicos"
      ],
      "execution_count": 0,
      "outputs": []
    },
    {
      "cell_type": "markdown",
      "metadata": {
        "id": "FC_JMJ6j-xcL",
        "colab_type": "text"
      },
      "source": [
        "Também parece interessante verificarmos a hegemoneidade da nossa amostra em relação as gerações. Pra tarefas de contar valores podemos sempre aproveitar de outro método disponível, o `.value_counts()`."
      ]
    },
    {
      "cell_type": "code",
      "metadata": {
        "id": "9lQfhvwJ-xcL",
        "colab_type": "code",
        "colab": {}
      },
      "source": [
        "## Quantidade de valores para cada geração"
      ],
      "execution_count": 0,
      "outputs": []
    },
    {
      "cell_type": "markdown",
      "metadata": {
        "id": "EiPcC-xK-xcN",
        "colab_type": "text"
      },
      "source": [
        "Os valores contados também podem ser normalizados para expressar porcentagens:"
      ]
    },
    {
      "cell_type": "code",
      "metadata": {
        "id": "ZUym7MUJ-xcN",
        "colab_type": "code",
        "colab": {}
      },
      "source": [
        "## Quantidade de valores para cada geração (normalizado)"
      ],
      "execution_count": 0,
      "outputs": []
    },
    {
      "cell_type": "markdown",
      "metadata": {
        "id": "VZ4OWWPx-xcO",
        "colab_type": "text"
      },
      "source": [
        "Agrupar os dados se baseando em certos critérios é outro processo que o pandas facilita bastante com o `.groupby()`.\n",
        "\n",
        "Abaixo agrupamos o nosso DataFrame pelos valores da coluna `\"generation\"`, e em seguida aplicamos o `.mean()` ou `.agg('mean')` para termos um objeto GroupBy com informação das médias agrupadas pelos valores da coluna geração. "
      ]
    },
    {
      "cell_type": "code",
      "metadata": {
        "id": "hOxfD-CH-xcP",
        "colab_type": "code",
        "colab": {}
      },
      "source": [
        "## Agrupando pelas gerações"
      ],
      "execution_count": 0,
      "outputs": []
    },
    {
      "cell_type": "markdown",
      "metadata": {
        "id": "vH-NocxX-xcQ",
        "colab_type": "text"
      },
      "source": [
        "É comum queremos aplicar uma função qualquer aos dados, ou à parte deles, neste caso o pandas fornece o método `.apply`. Por exemplo, para deixar os nomes dos pokemons como apenas as suas três primeiras letras:"
      ]
    },
    {
      "cell_type": "code",
      "metadata": {
        "id": "0Pb9eGBB-xcQ",
        "colab_type": "code",
        "colab": {}
      },
      "source": [
        "## Aplicação do método apply "
      ],
      "execution_count": 0,
      "outputs": []
    },
    {
      "cell_type": "markdown",
      "metadata": {
        "id": "PxYGJsWw-xcS",
        "colab_type": "text"
      },
      "source": [
        "Ou de um jeito mais prático, usando uma função lambda:"
      ]
    },
    {
      "cell_type": "code",
      "metadata": {
        "id": "HTwBlR-b-xcT",
        "colab_type": "code",
        "colab": {}
      },
      "source": [
        "## Aplicação do método apply"
      ],
      "execution_count": 0,
      "outputs": []
    },
    {
      "cell_type": "markdown",
      "metadata": {
        "id": "CmnoWG8D-xcV",
        "colab_type": "text"
      },
      "source": [
        "Uma das tarefas na qual o pandas é reconhecidamente poderoso é a habilidade de tratar dados incompletos.\n",
        "Por muitos motivos pode haver incompletude no dataset, o `np.nan` é um valor especial definido no Numpy, sigla para Not a Number, o pandas preenche células sem valores em um DataFrame lido com `np.nan`.\n",
        "\n",
        "Vamos criar um novo dataframe usando as 5 primeiras linhas do nosso original, usando o já visto `.head()`. Abaixo é usado o `.replace` para substituir um valor específico por um `NaN`. "
      ]
    },
    {
      "cell_type": "code",
      "metadata": {
        "id": "vJEtNNaA-xcW",
        "colab_type": "code",
        "colab": {}
      },
      "source": [
        "## Utilizando o replace()"
      ],
      "execution_count": 0,
      "outputs": []
    },
    {
      "cell_type": "markdown",
      "metadata": {
        "id": "Ftfz-8Ve-xcY",
        "colab_type": "text"
      },
      "source": [
        "O pandas simplifica a remoção de quaiquer linhas ou colunas que possuem um `np.nan`, por padrão o `.dropna()` retorna as linhas que não contém um NaN:"
      ]
    },
    {
      "cell_type": "code",
      "metadata": {
        "id": "8Wyp5hLJ-xcY",
        "colab_type": "code",
        "colab": {}
      },
      "source": [
        "## Excluindo linhas com nan"
      ],
      "execution_count": 0,
      "outputs": []
    },
    {
      "cell_type": "markdown",
      "metadata": {
        "id": "aVO1M2-x-xcZ",
        "colab_type": "text"
      },
      "source": [
        "Preencher todos os valores NaN por um outro específico também é bastante simples:"
      ]
    },
    {
      "cell_type": "code",
      "metadata": {
        "id": "SoglfH2X-xca",
        "colab_type": "code",
        "colab": {}
      },
      "source": [
        "## Subistindo valores nan"
      ],
      "execution_count": 0,
      "outputs": []
    },
    {
      "cell_type": "markdown",
      "metadata": {
        "id": "APQIMr-n-xce",
        "colab_type": "text"
      },
      "source": [
        "## Visualização de dados com Pandas"
      ]
    },
    {
      "cell_type": "markdown",
      "metadata": {
        "id": "Y_0VrE8--xcf",
        "colab_type": "text"
      },
      "source": [
        "Partiremos agora para visualização de dados com o pandas. Os métodos de visualização do pandas são construídos com base no matplotlib para exploração rápida dos dados.\n",
        "\n",
        "Comecemos verificando que tanto Series como DataFrame possuem um método `.plot()` que também é um atributo e pode ser encadeado para gerar visualização de diversos tipos, como histograma, área, pizza e dispersão, com respectivamente  `.hist()`, `.area()`, `.pie()` e  `.scatter()`, além de vários outros.\n",
        "\n",
        "Vamos verificar a distribuição das velocidades usando o encadeamento `.plot.hist()`:"
      ]
    },
    {
      "cell_type": "code",
      "metadata": {
        "id": "MhTm8hMw-xcf",
        "colab_type": "code",
        "colab": {}
      },
      "source": [
        "## Histograma"
      ],
      "execution_count": 0,
      "outputs": []
    },
    {
      "cell_type": "markdown",
      "metadata": {
        "id": "StFhIyA0-xch",
        "colab_type": "text"
      },
      "source": [
        "Por padrão esse método usa 10 bins, ou seja, divide os dados em 10 partes, mas é claro que podemos especificar um valor para a plotagem. Abaixo, além de especificar a quantidade de bins, também especifiquei a cor das bordas como preta, que por padrão é transparente."
      ]
    },
    {
      "cell_type": "code",
      "metadata": {
        "id": "Q4gfxeeb-xci",
        "colab_type": "code",
        "colab": {}
      },
      "source": [
        "## Histograma"
      ],
      "execution_count": 0,
      "outputs": []
    },
    {
      "cell_type": "markdown",
      "metadata": {
        "id": "9GuQfog--xck",
        "colab_type": "text"
      },
      "source": [
        "Podemos usar os valores de contagem de cada geração como exemplo de dado para um plot tanto de barras verticais quando de barras horizontais, para verificar visualmente esses dados:"
      ]
    },
    {
      "cell_type": "code",
      "metadata": {
        "id": "imHA1ysG-xcl",
        "colab_type": "code",
        "colab": {}
      },
      "source": [
        "## Gráfico de barras verticais"
      ],
      "execution_count": 0,
      "outputs": []
    },
    {
      "cell_type": "code",
      "metadata": {
        "id": "vxJ8UC8u-xco",
        "colab_type": "code",
        "colab": {}
      },
      "source": [
        "## Gráfico de barras horizontais"
      ],
      "execution_count": 0,
      "outputs": []
    },
    {
      "cell_type": "markdown",
      "metadata": {
        "id": "cjAD8do8-xct",
        "colab_type": "text"
      },
      "source": [
        "Um gráfico de dispersão usando um DataFrame pode ser usado especificando-se quais colunas usar como dados no eixo x e y:"
      ]
    },
    {
      "cell_type": "code",
      "metadata": {
        "id": "kZvjJZww-xct",
        "colab_type": "code",
        "colab": {}
      },
      "source": [
        "## Gráfico de dispersão"
      ],
      "execution_count": 0,
      "outputs": []
    },
    {
      "cell_type": "markdown",
      "metadata": {
        "id": "P8tciEqG-xcv",
        "colab_type": "text"
      },
      "source": [
        "A coluna `is_legendary` diz se o pokémon é legendário ou não, também se pode ver a contagem e distribuição usando outros métodos de plotagem oferecidos pelo pandas:"
      ]
    },
    {
      "cell_type": "code",
      "metadata": {
        "id": "Hnc_MkdM-xcv",
        "colab_type": "code",
        "colab": {}
      },
      "source": [
        "## Gráfico de pizza"
      ],
      "execution_count": 0,
      "outputs": []
    },
    {
      "cell_type": "markdown",
      "metadata": {
        "id": "eQrlwo9A-xcw",
        "colab_type": "text"
      },
      "source": [
        "## Salvando DataFrame "
      ]
    },
    {
      "cell_type": "markdown",
      "metadata": {
        "id": "dOnImuBE-xcx",
        "colab_type": "text"
      },
      "source": [
        "Finalmente, a tarefa de salvar seu DataFrame externamente para um formato específico é feita com a mesma simplicidade que a leitura de dados é feita no pandas, pode-se usar, por exemplo, o método `to_csv`, e o arquivo será criado com os dados do DataFrame:"
      ]
    },
    {
      "cell_type": "code",
      "metadata": {
        "id": "1wz0YN1i-xcx",
        "colab_type": "code",
        "colab": {}
      },
      "source": [
        "## Salvando um novo DataFrame no computador"
      ],
      "execution_count": 0,
      "outputs": []
    }
  ]
}